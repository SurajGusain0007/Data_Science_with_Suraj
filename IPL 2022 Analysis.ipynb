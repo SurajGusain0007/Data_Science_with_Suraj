{
 "cells": [
  {
   "cell_type": "markdown",
   "id": "fc22de3e",
   "metadata": {
    "id": "view-in-github",
    "papermill": {
     "duration": 0.02726,
     "end_time": "2022-05-12T18:45:07.580096",
     "exception": false,
     "start_time": "2022-05-12T18:45:07.552836",
     "status": "completed"
    },
    "tags": []
   },
   "source": [
    "<a href=\"https://colab.research.google.com/github/SurajGusain0007/Dataset_Analysis_with_Suraj/blob/main/IPL_2022_Analysis.ipynb\" target=\"_parent\"><img src=\"https://colab.research.google.com/assets/colab-badge.svg\" alt=\"Open In Colab\"/></a>"
   ]
  },
  {
   "cell_type": "code",
   "execution_count": null,
   "id": "3d14626d",
   "metadata": {
    "id": "s6bnIAEQRyVd",
    "papermill": {
     "duration": 0.026232,
     "end_time": "2022-05-12T18:45:07.633794",
     "exception": false,
     "start_time": "2022-05-12T18:45:07.607562",
     "status": "completed"
    },
    "tags": []
   },
   "outputs": [],
   "source": []
  },
  {
   "cell_type": "markdown",
   "id": "ea48a24f",
   "metadata": {
    "id": "aSozJyIKSSsn",
    "papermill": {
     "duration": 0.025946,
     "end_time": "2022-05-12T18:45:07.687513",
     "exception": false,
     "start_time": "2022-05-12T18:45:07.661567",
     "status": "completed"
    },
    "tags": []
   },
   "source": [
    "**Import libraries**"
   ]
  },
  {
   "cell_type": "code",
   "execution_count": 1,
   "id": "e83f84c4",
   "metadata": {
    "execution": {
     "iopub.execute_input": "2022-05-12T18:45:07.742290Z",
     "iopub.status.busy": "2022-05-12T18:45:07.741793Z",
     "iopub.status.idle": "2022-05-12T18:45:08.986895Z",
     "shell.execute_reply": "2022-05-12T18:45:08.985970Z"
    },
    "id": "Y2GBFAQHSXcR",
    "papermill": {
     "duration": 1.27543,
     "end_time": "2022-05-12T18:45:08.989512",
     "exception": false,
     "start_time": "2022-05-12T18:45:07.714082",
     "status": "completed"
    },
    "tags": []
   },
   "outputs": [],
   "source": [
    "import pandas as pd\n",
    "import matplotlib.pyplot as plt\n",
    "import seaborn as sns"
   ]
  },
  {
   "cell_type": "markdown",
   "id": "a94b6dd6",
   "metadata": {
    "id": "MoyZuMdGSi9E",
    "papermill": {
     "duration": 0.028292,
     "end_time": "2022-05-12T18:45:09.046010",
     "exception": false,
     "start_time": "2022-05-12T18:45:09.017718",
     "status": "completed"
    },
    "tags": []
   },
   "source": [
    "**Reading Dataset**"
   ]
  },
  {
   "cell_type": "code",
   "execution_count": 2,
   "id": "cee12cb2",
   "metadata": {
    "execution": {
     "iopub.execute_input": "2022-05-12T18:45:09.101078Z",
     "iopub.status.busy": "2022-05-12T18:45:09.100420Z",
     "iopub.status.idle": "2022-05-12T18:45:09.155718Z",
     "shell.execute_reply": "2022-05-12T18:45:09.154959Z"
    },
    "id": "MJKBpkigSm9H",
    "outputId": "2b549662-7036-4bf0-a59b-4112e137e6af",
    "papermill": {
     "duration": 0.086968,
     "end_time": "2022-05-12T18:45:09.158999",
     "exception": false,
     "start_time": "2022-05-12T18:45:09.072031",
     "status": "completed"
    },
    "tags": []
   },
   "outputs": [
    {
     "data": {
      "text/html": [
       "<div>\n",
       "<style scoped>\n",
       "    .dataframe tbody tr th:only-of-type {\n",
       "        vertical-align: middle;\n",
       "    }\n",
       "\n",
       "    .dataframe tbody tr th {\n",
       "        vertical-align: top;\n",
       "    }\n",
       "\n",
       "    .dataframe thead th {\n",
       "        text-align: right;\n",
       "    }\n",
       "</style>\n",
       "<table border=\"1\" class=\"dataframe\">\n",
       "  <thead>\n",
       "    <tr style=\"text-align: right;\">\n",
       "      <th></th>\n",
       "      <th>match_id</th>\n",
       "      <th>date</th>\n",
       "      <th>venue</th>\n",
       "      <th>team1</th>\n",
       "      <th>team2</th>\n",
       "      <th>stage</th>\n",
       "      <th>toss_winner</th>\n",
       "      <th>toss_decision</th>\n",
       "      <th>first_ings_score</th>\n",
       "      <th>first_ings_wkts</th>\n",
       "      <th>second_ings_score</th>\n",
       "      <th>second_ings_wkts</th>\n",
       "      <th>match_winner</th>\n",
       "      <th>won_by</th>\n",
       "      <th>margin</th>\n",
       "      <th>player_of_the_match</th>\n",
       "      <th>top_scorer</th>\n",
       "      <th>highscore</th>\n",
       "      <th>best_bowling</th>\n",
       "      <th>best_bowling_figure</th>\n",
       "    </tr>\n",
       "  </thead>\n",
       "  <tbody>\n",
       "    <tr>\n",
       "      <th>0</th>\n",
       "      <td>1</td>\n",
       "      <td>March 26,2022</td>\n",
       "      <td>Wankhede Stadium, Mumbai</td>\n",
       "      <td>Chennai</td>\n",
       "      <td>Kolkata</td>\n",
       "      <td>Group</td>\n",
       "      <td>Kolkata</td>\n",
       "      <td>Field</td>\n",
       "      <td>131.0</td>\n",
       "      <td>5.0</td>\n",
       "      <td>133.0</td>\n",
       "      <td>4.0</td>\n",
       "      <td>Kolkata</td>\n",
       "      <td>Wickets</td>\n",
       "      <td>6.0</td>\n",
       "      <td>Umesh Yadav</td>\n",
       "      <td>MS Dhoni</td>\n",
       "      <td>50.0</td>\n",
       "      <td>Dwayne Bravo</td>\n",
       "      <td>3--20</td>\n",
       "    </tr>\n",
       "    <tr>\n",
       "      <th>1</th>\n",
       "      <td>2</td>\n",
       "      <td>March 27,2022</td>\n",
       "      <td>Brabourne Stadium, Mumbai</td>\n",
       "      <td>Delhi</td>\n",
       "      <td>Mumbai</td>\n",
       "      <td>Group</td>\n",
       "      <td>Delhi</td>\n",
       "      <td>Field</td>\n",
       "      <td>177.0</td>\n",
       "      <td>5.0</td>\n",
       "      <td>179.0</td>\n",
       "      <td>6.0</td>\n",
       "      <td>Delhi</td>\n",
       "      <td>Wickets</td>\n",
       "      <td>4.0</td>\n",
       "      <td>Kuldeep Yadav</td>\n",
       "      <td>Ishan Kishan</td>\n",
       "      <td>81.0</td>\n",
       "      <td>Kuldeep Yadav</td>\n",
       "      <td>3--18</td>\n",
       "    </tr>\n",
       "    <tr>\n",
       "      <th>2</th>\n",
       "      <td>3</td>\n",
       "      <td>March 27,2022</td>\n",
       "      <td>Dr DY Patil Sports Academy, Mumbai</td>\n",
       "      <td>Banglore</td>\n",
       "      <td>Punjab</td>\n",
       "      <td>Group</td>\n",
       "      <td>Punjab</td>\n",
       "      <td>Field</td>\n",
       "      <td>205.0</td>\n",
       "      <td>2.0</td>\n",
       "      <td>208.0</td>\n",
       "      <td>5.0</td>\n",
       "      <td>Punjab</td>\n",
       "      <td>Wickets</td>\n",
       "      <td>5.0</td>\n",
       "      <td>Odean Smith</td>\n",
       "      <td>Faf du Plessis</td>\n",
       "      <td>88.0</td>\n",
       "      <td>Mohammed Siraj</td>\n",
       "      <td>2--59</td>\n",
       "    </tr>\n",
       "    <tr>\n",
       "      <th>3</th>\n",
       "      <td>4</td>\n",
       "      <td>March 28,2022</td>\n",
       "      <td>Wankhede Stadium, Mumbai</td>\n",
       "      <td>Gujarat</td>\n",
       "      <td>Lucknow</td>\n",
       "      <td>Group</td>\n",
       "      <td>Gujarat</td>\n",
       "      <td>Field</td>\n",
       "      <td>158.0</td>\n",
       "      <td>6.0</td>\n",
       "      <td>161.0</td>\n",
       "      <td>5.0</td>\n",
       "      <td>Gujarat</td>\n",
       "      <td>Wickets</td>\n",
       "      <td>5.0</td>\n",
       "      <td>Mohammed Shami</td>\n",
       "      <td>Deepak Hooda</td>\n",
       "      <td>55.0</td>\n",
       "      <td>Mohammed Shami</td>\n",
       "      <td>3--25</td>\n",
       "    </tr>\n",
       "    <tr>\n",
       "      <th>4</th>\n",
       "      <td>5</td>\n",
       "      <td>March 29,2022</td>\n",
       "      <td>Maharashtra Cricket Association Stadium,Pune</td>\n",
       "      <td>Hyderabad</td>\n",
       "      <td>Rajasthan</td>\n",
       "      <td>Group</td>\n",
       "      <td>Hyderabad</td>\n",
       "      <td>Field</td>\n",
       "      <td>210.0</td>\n",
       "      <td>6.0</td>\n",
       "      <td>149.0</td>\n",
       "      <td>7.0</td>\n",
       "      <td>Rajasthan</td>\n",
       "      <td>Runs</td>\n",
       "      <td>61.0</td>\n",
       "      <td>Sanju Samson</td>\n",
       "      <td>Aiden Markram</td>\n",
       "      <td>57.0</td>\n",
       "      <td>Yuzvendra Chahal</td>\n",
       "      <td>3--22</td>\n",
       "    </tr>\n",
       "    <tr>\n",
       "      <th>...</th>\n",
       "      <td>...</td>\n",
       "      <td>...</td>\n",
       "      <td>...</td>\n",
       "      <td>...</td>\n",
       "      <td>...</td>\n",
       "      <td>...</td>\n",
       "      <td>...</td>\n",
       "      <td>...</td>\n",
       "      <td>...</td>\n",
       "      <td>...</td>\n",
       "      <td>...</td>\n",
       "      <td>...</td>\n",
       "      <td>...</td>\n",
       "      <td>...</td>\n",
       "      <td>...</td>\n",
       "      <td>...</td>\n",
       "      <td>...</td>\n",
       "      <td>...</td>\n",
       "      <td>...</td>\n",
       "      <td>...</td>\n",
       "    </tr>\n",
       "    <tr>\n",
       "      <th>60</th>\n",
       "      <td>61</td>\n",
       "      <td>May 14,2022</td>\n",
       "      <td>Maharashtra Cricket Association Stadium,Pune</td>\n",
       "      <td>Hyderabad</td>\n",
       "      <td>Kolkata</td>\n",
       "      <td>Group</td>\n",
       "      <td>NaN</td>\n",
       "      <td>NaN</td>\n",
       "      <td>NaN</td>\n",
       "      <td>NaN</td>\n",
       "      <td>NaN</td>\n",
       "      <td>NaN</td>\n",
       "      <td>NaN</td>\n",
       "      <td>NaN</td>\n",
       "      <td>NaN</td>\n",
       "      <td>NaN</td>\n",
       "      <td>NaN</td>\n",
       "      <td>NaN</td>\n",
       "      <td>NaN</td>\n",
       "      <td>NaN</td>\n",
       "    </tr>\n",
       "    <tr>\n",
       "      <th>61</th>\n",
       "      <td>62</td>\n",
       "      <td>May 15,2022</td>\n",
       "      <td>Wankhede Stadium, Mumbai</td>\n",
       "      <td>Chennai</td>\n",
       "      <td>Gujarat</td>\n",
       "      <td>Group</td>\n",
       "      <td>NaN</td>\n",
       "      <td>NaN</td>\n",
       "      <td>NaN</td>\n",
       "      <td>NaN</td>\n",
       "      <td>NaN</td>\n",
       "      <td>NaN</td>\n",
       "      <td>NaN</td>\n",
       "      <td>NaN</td>\n",
       "      <td>NaN</td>\n",
       "      <td>NaN</td>\n",
       "      <td>NaN</td>\n",
       "      <td>NaN</td>\n",
       "      <td>NaN</td>\n",
       "      <td>NaN</td>\n",
       "    </tr>\n",
       "    <tr>\n",
       "      <th>62</th>\n",
       "      <td>63</td>\n",
       "      <td>May 15,2022</td>\n",
       "      <td>Brabourne Stadium, Mumbai</td>\n",
       "      <td>Lucknow</td>\n",
       "      <td>Rajasthan</td>\n",
       "      <td>Group</td>\n",
       "      <td>NaN</td>\n",
       "      <td>NaN</td>\n",
       "      <td>NaN</td>\n",
       "      <td>NaN</td>\n",
       "      <td>NaN</td>\n",
       "      <td>NaN</td>\n",
       "      <td>NaN</td>\n",
       "      <td>NaN</td>\n",
       "      <td>NaN</td>\n",
       "      <td>NaN</td>\n",
       "      <td>NaN</td>\n",
       "      <td>NaN</td>\n",
       "      <td>NaN</td>\n",
       "      <td>NaN</td>\n",
       "    </tr>\n",
       "    <tr>\n",
       "      <th>63</th>\n",
       "      <td>64</td>\n",
       "      <td>May 16,2022</td>\n",
       "      <td>Dr DY Patil Sports Academy, Mumbai</td>\n",
       "      <td>Delhi</td>\n",
       "      <td>Punjab</td>\n",
       "      <td>Group</td>\n",
       "      <td>NaN</td>\n",
       "      <td>NaN</td>\n",
       "      <td>NaN</td>\n",
       "      <td>NaN</td>\n",
       "      <td>NaN</td>\n",
       "      <td>NaN</td>\n",
       "      <td>NaN</td>\n",
       "      <td>NaN</td>\n",
       "      <td>NaN</td>\n",
       "      <td>NaN</td>\n",
       "      <td>NaN</td>\n",
       "      <td>NaN</td>\n",
       "      <td>NaN</td>\n",
       "      <td>NaN</td>\n",
       "    </tr>\n",
       "    <tr>\n",
       "      <th>64</th>\n",
       "      <td>65</td>\n",
       "      <td>May 17,2022</td>\n",
       "      <td>Wankhede Stadium, Mumbai</td>\n",
       "      <td>Hyderabad</td>\n",
       "      <td>Mumbai</td>\n",
       "      <td>Group</td>\n",
       "      <td>NaN</td>\n",
       "      <td>NaN</td>\n",
       "      <td>NaN</td>\n",
       "      <td>NaN</td>\n",
       "      <td>NaN</td>\n",
       "      <td>NaN</td>\n",
       "      <td>NaN</td>\n",
       "      <td>NaN</td>\n",
       "      <td>NaN</td>\n",
       "      <td>NaN</td>\n",
       "      <td>NaN</td>\n",
       "      <td>NaN</td>\n",
       "      <td>NaN</td>\n",
       "      <td>NaN</td>\n",
       "    </tr>\n",
       "  </tbody>\n",
       "</table>\n",
       "<p>65 rows × 20 columns</p>\n",
       "</div>"
      ],
      "text/plain": [
       "    match_id           date                                         venue  \\\n",
       "0          1  March 26,2022                      Wankhede Stadium, Mumbai   \n",
       "1          2  March 27,2022                     Brabourne Stadium, Mumbai   \n",
       "2          3  March 27,2022            Dr DY Patil Sports Academy, Mumbai   \n",
       "3          4  March 28,2022                      Wankhede Stadium, Mumbai   \n",
       "4          5  March 29,2022  Maharashtra Cricket Association Stadium,Pune   \n",
       "..       ...            ...                                           ...   \n",
       "60        61    May 14,2022  Maharashtra Cricket Association Stadium,Pune   \n",
       "61        62    May 15,2022                      Wankhede Stadium, Mumbai   \n",
       "62        63    May 15,2022                     Brabourne Stadium, Mumbai   \n",
       "63        64    May 16,2022            Dr DY Patil Sports Academy, Mumbai   \n",
       "64        65    May 17,2022                      Wankhede Stadium, Mumbai   \n",
       "\n",
       "        team1      team2  stage toss_winner toss_decision  first_ings_score  \\\n",
       "0     Chennai    Kolkata  Group     Kolkata         Field             131.0   \n",
       "1       Delhi     Mumbai  Group       Delhi         Field             177.0   \n",
       "2    Banglore     Punjab  Group      Punjab         Field             205.0   \n",
       "3     Gujarat    Lucknow  Group     Gujarat         Field             158.0   \n",
       "4   Hyderabad  Rajasthan  Group   Hyderabad         Field             210.0   \n",
       "..        ...        ...    ...         ...           ...               ...   \n",
       "60  Hyderabad    Kolkata  Group         NaN           NaN               NaN   \n",
       "61    Chennai    Gujarat  Group         NaN           NaN               NaN   \n",
       "62    Lucknow  Rajasthan  Group         NaN           NaN               NaN   \n",
       "63      Delhi     Punjab  Group         NaN           NaN               NaN   \n",
       "64  Hyderabad     Mumbai  Group         NaN           NaN               NaN   \n",
       "\n",
       "    first_ings_wkts  second_ings_score  second_ings_wkts match_winner  \\\n",
       "0               5.0              133.0               4.0      Kolkata   \n",
       "1               5.0              179.0               6.0        Delhi   \n",
       "2               2.0              208.0               5.0       Punjab   \n",
       "3               6.0              161.0               5.0      Gujarat   \n",
       "4               6.0              149.0               7.0    Rajasthan   \n",
       "..              ...                ...               ...          ...   \n",
       "60              NaN                NaN               NaN          NaN   \n",
       "61              NaN                NaN               NaN          NaN   \n",
       "62              NaN                NaN               NaN          NaN   \n",
       "63              NaN                NaN               NaN          NaN   \n",
       "64              NaN                NaN               NaN          NaN   \n",
       "\n",
       "     won_by  margin player_of_the_match      top_scorer  highscore  \\\n",
       "0   Wickets     6.0         Umesh Yadav        MS Dhoni       50.0   \n",
       "1   Wickets     4.0       Kuldeep Yadav    Ishan Kishan       81.0   \n",
       "2   Wickets     5.0         Odean Smith  Faf du Plessis       88.0   \n",
       "3   Wickets     5.0      Mohammed Shami    Deepak Hooda       55.0   \n",
       "4      Runs    61.0        Sanju Samson   Aiden Markram       57.0   \n",
       "..      ...     ...                 ...             ...        ...   \n",
       "60      NaN     NaN                 NaN             NaN        NaN   \n",
       "61      NaN     NaN                 NaN             NaN        NaN   \n",
       "62      NaN     NaN                 NaN             NaN        NaN   \n",
       "63      NaN     NaN                 NaN             NaN        NaN   \n",
       "64      NaN     NaN                 NaN             NaN        NaN   \n",
       "\n",
       "        best_bowling best_bowling_figure  \n",
       "0       Dwayne Bravo               3--20  \n",
       "1      Kuldeep Yadav               3--18  \n",
       "2     Mohammed Siraj               2--59  \n",
       "3     Mohammed Shami               3--25  \n",
       "4   Yuzvendra Chahal               3--22  \n",
       "..               ...                 ...  \n",
       "60               NaN                 NaN  \n",
       "61               NaN                 NaN  \n",
       "62               NaN                 NaN  \n",
       "63               NaN                 NaN  \n",
       "64               NaN                 NaN  \n",
       "\n",
       "[65 rows x 20 columns]"
      ]
     },
     "execution_count": 2,
     "metadata": {},
     "output_type": "execute_result"
    }
   ],
   "source": [
    "data=pd.read_csv(\"../input/ipl-2022-dataset/Book ipl22 edition 25.csv\")\n",
    "data"
   ]
  },
  {
   "cell_type": "markdown",
   "id": "c458786f",
   "metadata": {
    "id": "C-TszR9PThug",
    "papermill": {
     "duration": 0.029387,
     "end_time": "2022-05-12T18:45:09.217654",
     "exception": false,
     "start_time": "2022-05-12T18:45:09.188267",
     "status": "completed"
    },
    "tags": []
   },
   "source": [
    "**Top 5 rows from the dataframe**"
   ]
  },
  {
   "cell_type": "code",
   "execution_count": 3,
   "id": "ed55036e",
   "metadata": {
    "execution": {
     "iopub.execute_input": "2022-05-12T18:45:09.277028Z",
     "iopub.status.busy": "2022-05-12T18:45:09.276516Z",
     "iopub.status.idle": "2022-05-12T18:45:09.299038Z",
     "shell.execute_reply": "2022-05-12T18:45:09.298405Z"
    },
    "id": "oSwMKX6nTmS-",
    "outputId": "975b4dde-1b3e-4cad-8f41-f91086b7459e",
    "papermill": {
     "duration": 0.054961,
     "end_time": "2022-05-12T18:45:09.301074",
     "exception": false,
     "start_time": "2022-05-12T18:45:09.246113",
     "status": "completed"
    },
    "tags": []
   },
   "outputs": [
    {
     "data": {
      "text/html": [
       "<div>\n",
       "<style scoped>\n",
       "    .dataframe tbody tr th:only-of-type {\n",
       "        vertical-align: middle;\n",
       "    }\n",
       "\n",
       "    .dataframe tbody tr th {\n",
       "        vertical-align: top;\n",
       "    }\n",
       "\n",
       "    .dataframe thead th {\n",
       "        text-align: right;\n",
       "    }\n",
       "</style>\n",
       "<table border=\"1\" class=\"dataframe\">\n",
       "  <thead>\n",
       "    <tr style=\"text-align: right;\">\n",
       "      <th></th>\n",
       "      <th>match_id</th>\n",
       "      <th>date</th>\n",
       "      <th>venue</th>\n",
       "      <th>team1</th>\n",
       "      <th>team2</th>\n",
       "      <th>stage</th>\n",
       "      <th>toss_winner</th>\n",
       "      <th>toss_decision</th>\n",
       "      <th>first_ings_score</th>\n",
       "      <th>first_ings_wkts</th>\n",
       "      <th>second_ings_score</th>\n",
       "      <th>second_ings_wkts</th>\n",
       "      <th>match_winner</th>\n",
       "      <th>won_by</th>\n",
       "      <th>margin</th>\n",
       "      <th>player_of_the_match</th>\n",
       "      <th>top_scorer</th>\n",
       "      <th>highscore</th>\n",
       "      <th>best_bowling</th>\n",
       "      <th>best_bowling_figure</th>\n",
       "    </tr>\n",
       "  </thead>\n",
       "  <tbody>\n",
       "    <tr>\n",
       "      <th>5</th>\n",
       "      <td>6</td>\n",
       "      <td>March 30,2022</td>\n",
       "      <td>Dr DY Patil Sports Academy, Mumbai</td>\n",
       "      <td>Banglore</td>\n",
       "      <td>Kolkata</td>\n",
       "      <td>Group</td>\n",
       "      <td>Banglore</td>\n",
       "      <td>Field</td>\n",
       "      <td>128.0</td>\n",
       "      <td>10.0</td>\n",
       "      <td>132.0</td>\n",
       "      <td>7.0</td>\n",
       "      <td>Banglore</td>\n",
       "      <td>Wickets</td>\n",
       "      <td>3.0</td>\n",
       "      <td>Wanindu Hasaranga</td>\n",
       "      <td>Sherfane Rutherford</td>\n",
       "      <td>28.0</td>\n",
       "      <td>Wanindu Hasaranga</td>\n",
       "      <td>4--20</td>\n",
       "    </tr>\n",
       "    <tr>\n",
       "      <th>40</th>\n",
       "      <td>41</td>\n",
       "      <td>April 28,2022</td>\n",
       "      <td>Wankhede Stadium, Mumbai</td>\n",
       "      <td>Delhi</td>\n",
       "      <td>Kolkata</td>\n",
       "      <td>Group</td>\n",
       "      <td>Delhi</td>\n",
       "      <td>Field</td>\n",
       "      <td>146.0</td>\n",
       "      <td>9.0</td>\n",
       "      <td>150.0</td>\n",
       "      <td>6.0</td>\n",
       "      <td>Delhi</td>\n",
       "      <td>Wickets</td>\n",
       "      <td>4.0</td>\n",
       "      <td>Kuldeep Yadav</td>\n",
       "      <td>Nitish Rana</td>\n",
       "      <td>57.0</td>\n",
       "      <td>Kuldeep Yadav</td>\n",
       "      <td>4--14</td>\n",
       "    </tr>\n",
       "    <tr>\n",
       "      <th>1</th>\n",
       "      <td>2</td>\n",
       "      <td>March 27,2022</td>\n",
       "      <td>Brabourne Stadium, Mumbai</td>\n",
       "      <td>Delhi</td>\n",
       "      <td>Mumbai</td>\n",
       "      <td>Group</td>\n",
       "      <td>Delhi</td>\n",
       "      <td>Field</td>\n",
       "      <td>177.0</td>\n",
       "      <td>5.0</td>\n",
       "      <td>179.0</td>\n",
       "      <td>6.0</td>\n",
       "      <td>Delhi</td>\n",
       "      <td>Wickets</td>\n",
       "      <td>4.0</td>\n",
       "      <td>Kuldeep Yadav</td>\n",
       "      <td>Ishan Kishan</td>\n",
       "      <td>81.0</td>\n",
       "      <td>Kuldeep Yadav</td>\n",
       "      <td>3--18</td>\n",
       "    </tr>\n",
       "    <tr>\n",
       "      <th>36</th>\n",
       "      <td>37</td>\n",
       "      <td>April 24,2022</td>\n",
       "      <td>Wankhede Stadium, Mumbai</td>\n",
       "      <td>Lucknow</td>\n",
       "      <td>Mumbai</td>\n",
       "      <td>Group</td>\n",
       "      <td>Mumbai</td>\n",
       "      <td>Field</td>\n",
       "      <td>168.0</td>\n",
       "      <td>6.0</td>\n",
       "      <td>132.0</td>\n",
       "      <td>8.0</td>\n",
       "      <td>Lucknow</td>\n",
       "      <td>Runs</td>\n",
       "      <td>36.0</td>\n",
       "      <td>K L Rahul</td>\n",
       "      <td>KL Rahul</td>\n",
       "      <td>103.0</td>\n",
       "      <td>Krunal Pandya</td>\n",
       "      <td>3--19</td>\n",
       "    </tr>\n",
       "    <tr>\n",
       "      <th>20</th>\n",
       "      <td>21</td>\n",
       "      <td>April11,2022</td>\n",
       "      <td>Dr DY Patil Sports Academy, Mumbai</td>\n",
       "      <td>Gujarat</td>\n",
       "      <td>Hyderabad</td>\n",
       "      <td>Group</td>\n",
       "      <td>Hyderabad</td>\n",
       "      <td>Field</td>\n",
       "      <td>162.0</td>\n",
       "      <td>7.0</td>\n",
       "      <td>168.0</td>\n",
       "      <td>2.0</td>\n",
       "      <td>Hyderabad</td>\n",
       "      <td>Wickets</td>\n",
       "      <td>8.0</td>\n",
       "      <td>Kane Williamson</td>\n",
       "      <td>Kane Williamson</td>\n",
       "      <td>57.0</td>\n",
       "      <td>T Natarajan</td>\n",
       "      <td>2--34</td>\n",
       "    </tr>\n",
       "  </tbody>\n",
       "</table>\n",
       "</div>"
      ],
      "text/plain": [
       "    match_id           date                               venue     team1  \\\n",
       "5          6  March 30,2022  Dr DY Patil Sports Academy, Mumbai  Banglore   \n",
       "40        41  April 28,2022            Wankhede Stadium, Mumbai     Delhi   \n",
       "1          2  March 27,2022           Brabourne Stadium, Mumbai     Delhi   \n",
       "36        37  April 24,2022            Wankhede Stadium, Mumbai   Lucknow   \n",
       "20        21   April11,2022  Dr DY Patil Sports Academy, Mumbai   Gujarat   \n",
       "\n",
       "        team2  stage toss_winner toss_decision  first_ings_score  \\\n",
       "5     Kolkata  Group    Banglore         Field             128.0   \n",
       "40    Kolkata  Group       Delhi         Field             146.0   \n",
       "1      Mumbai  Group       Delhi         Field             177.0   \n",
       "36     Mumbai  Group      Mumbai         Field             168.0   \n",
       "20  Hyderabad  Group   Hyderabad         Field             162.0   \n",
       "\n",
       "    first_ings_wkts  second_ings_score  second_ings_wkts match_winner  \\\n",
       "5              10.0              132.0               7.0     Banglore   \n",
       "40              9.0              150.0               6.0        Delhi   \n",
       "1               5.0              179.0               6.0        Delhi   \n",
       "36              6.0              132.0               8.0      Lucknow   \n",
       "20              7.0              168.0               2.0    Hyderabad   \n",
       "\n",
       "     won_by  margin player_of_the_match           top_scorer  highscore  \\\n",
       "5   Wickets     3.0   Wanindu Hasaranga  Sherfane Rutherford       28.0   \n",
       "40  Wickets     4.0       Kuldeep Yadav          Nitish Rana       57.0   \n",
       "1   Wickets     4.0       Kuldeep Yadav         Ishan Kishan       81.0   \n",
       "36     Runs    36.0           K L Rahul             KL Rahul      103.0   \n",
       "20  Wickets     8.0     Kane Williamson      Kane Williamson       57.0   \n",
       "\n",
       "         best_bowling best_bowling_figure  \n",
       "5   Wanindu Hasaranga               4--20  \n",
       "40      Kuldeep Yadav               4--14  \n",
       "1       Kuldeep Yadav               3--18  \n",
       "36      Krunal Pandya               3--19  \n",
       "20        T Natarajan               2--34  "
      ]
     },
     "execution_count": 3,
     "metadata": {},
     "output_type": "execute_result"
    }
   ],
   "source": [
    "data.sample(5)"
   ]
  },
  {
   "cell_type": "code",
   "execution_count": 4,
   "id": "0d2b82b8",
   "metadata": {
    "execution": {
     "iopub.execute_input": "2022-05-12T18:45:09.361141Z",
     "iopub.status.busy": "2022-05-12T18:45:09.360868Z",
     "iopub.status.idle": "2022-05-12T18:45:09.365886Z",
     "shell.execute_reply": "2022-05-12T18:45:09.365013Z"
    },
    "id": "9PetGD8lt0rB",
    "outputId": "691f9ee3-8b2e-43cd-fb6b-3f2372956457",
    "papermill": {
     "duration": 0.03777,
     "end_time": "2022-05-12T18:45:09.368165",
     "exception": false,
     "start_time": "2022-05-12T18:45:09.330395",
     "status": "completed"
    },
    "tags": []
   },
   "outputs": [
    {
     "data": {
      "text/plain": [
       "(65, 20)"
      ]
     },
     "execution_count": 4,
     "metadata": {},
     "output_type": "execute_result"
    }
   ],
   "source": [
    "#Display the shape of dataframe\n",
    "data.shape"
   ]
  },
  {
   "cell_type": "code",
   "execution_count": 5,
   "id": "60646a44",
   "metadata": {
    "execution": {
     "iopub.execute_input": "2022-05-12T18:45:09.427326Z",
     "iopub.status.busy": "2022-05-12T18:45:09.426563Z",
     "iopub.status.idle": "2022-05-12T18:45:09.432788Z",
     "shell.execute_reply": "2022-05-12T18:45:09.431815Z"
    },
    "id": "G7FIDzvQUKsk",
    "outputId": "8f94fc56-25d6-4fdf-c33c-2138e311420c",
    "papermill": {
     "duration": 0.037787,
     "end_time": "2022-05-12T18:45:09.434887",
     "exception": false,
     "start_time": "2022-05-12T18:45:09.397100",
     "status": "completed"
    },
    "tags": []
   },
   "outputs": [
    {
     "data": {
      "text/plain": [
       "Index(['match_id', 'date', 'venue', 'team1', 'team2', 'stage', 'toss_winner',\n",
       "       'toss_decision', 'first_ings_score', 'first_ings_wkts',\n",
       "       'second_ings_score', 'second_ings_wkts', 'match_winner', 'won_by',\n",
       "       'margin', 'player_of_the_match', 'top_scorer', 'highscore',\n",
       "       'best_bowling', 'best_bowling_figure'],\n",
       "      dtype='object')"
      ]
     },
     "execution_count": 5,
     "metadata": {},
     "output_type": "execute_result"
    }
   ],
   "source": [
    "#Display the columns\n",
    "data.columns"
   ]
  },
  {
   "cell_type": "code",
   "execution_count": 6,
   "id": "bcbe8e0d",
   "metadata": {
    "execution": {
     "iopub.execute_input": "2022-05-12T18:45:09.493204Z",
     "iopub.status.busy": "2022-05-12T18:45:09.492587Z",
     "iopub.status.idle": "2022-05-12T18:45:09.516450Z",
     "shell.execute_reply": "2022-05-12T18:45:09.515795Z"
    },
    "id": "R5EELjVrUR_q",
    "outputId": "448e2b09-ff15-4d04-b595-0acb3ff5ac37",
    "papermill": {
     "duration": 0.055617,
     "end_time": "2022-05-12T18:45:09.518942",
     "exception": false,
     "start_time": "2022-05-12T18:45:09.463325",
     "status": "completed"
    },
    "tags": []
   },
   "outputs": [
    {
     "name": "stdout",
     "output_type": "stream",
     "text": [
      "<class 'pandas.core.frame.DataFrame'>\n",
      "RangeIndex: 65 entries, 0 to 64\n",
      "Data columns (total 20 columns):\n",
      " #   Column               Non-Null Count  Dtype  \n",
      "---  ------               --------------  -----  \n",
      " 0   match_id             65 non-null     int64  \n",
      " 1   date                 65 non-null     object \n",
      " 2   venue                65 non-null     object \n",
      " 3   team1                65 non-null     object \n",
      " 4   team2                65 non-null     object \n",
      " 5   stage                65 non-null     object \n",
      " 6   toss_winner          57 non-null     object \n",
      " 7   toss_decision        57 non-null     object \n",
      " 8   first_ings_score     57 non-null     float64\n",
      " 9   first_ings_wkts      57 non-null     float64\n",
      " 10  second_ings_score    57 non-null     float64\n",
      " 11  second_ings_wkts     57 non-null     float64\n",
      " 12  match_winner         57 non-null     object \n",
      " 13  won_by               57 non-null     object \n",
      " 14  margin               57 non-null     float64\n",
      " 15  player_of_the_match  57 non-null     object \n",
      " 16  top_scorer           57 non-null     object \n",
      " 17  highscore            57 non-null     float64\n",
      " 18  best_bowling         57 non-null     object \n",
      " 19  best_bowling_figure  57 non-null     object \n",
      "dtypes: float64(6), int64(1), object(13)\n",
      "memory usage: 10.3+ KB\n"
     ]
    }
   ],
   "source": [
    "#Display the information about the dataset\n",
    "data.info()"
   ]
  },
  {
   "cell_type": "code",
   "execution_count": 7,
   "id": "84eb6081",
   "metadata": {
    "execution": {
     "iopub.execute_input": "2022-05-12T18:45:09.579211Z",
     "iopub.status.busy": "2022-05-12T18:45:09.578637Z",
     "iopub.status.idle": "2022-05-12T18:45:09.607293Z",
     "shell.execute_reply": "2022-05-12T18:45:09.606644Z"
    },
    "id": "M4xe5iASUiAM",
    "outputId": "7bf8d4fd-f434-4d49-c881-875eb1deadce",
    "papermill": {
     "duration": 0.060083,
     "end_time": "2022-05-12T18:45:09.609066",
     "exception": false,
     "start_time": "2022-05-12T18:45:09.548983",
     "status": "completed"
    },
    "tags": []
   },
   "outputs": [
    {
     "data": {
      "text/html": [
       "<div>\n",
       "<style scoped>\n",
       "    .dataframe tbody tr th:only-of-type {\n",
       "        vertical-align: middle;\n",
       "    }\n",
       "\n",
       "    .dataframe tbody tr th {\n",
       "        vertical-align: top;\n",
       "    }\n",
       "\n",
       "    .dataframe thead th {\n",
       "        text-align: right;\n",
       "    }\n",
       "</style>\n",
       "<table border=\"1\" class=\"dataframe\">\n",
       "  <thead>\n",
       "    <tr style=\"text-align: right;\">\n",
       "      <th></th>\n",
       "      <th>match_id</th>\n",
       "      <th>first_ings_score</th>\n",
       "      <th>first_ings_wkts</th>\n",
       "      <th>second_ings_score</th>\n",
       "      <th>second_ings_wkts</th>\n",
       "      <th>margin</th>\n",
       "      <th>highscore</th>\n",
       "    </tr>\n",
       "  </thead>\n",
       "  <tbody>\n",
       "    <tr>\n",
       "      <th>count</th>\n",
       "      <td>65.00000</td>\n",
       "      <td>57.000000</td>\n",
       "      <td>57.000000</td>\n",
       "      <td>57.000000</td>\n",
       "      <td>57.000000</td>\n",
       "      <td>57.000000</td>\n",
       "      <td>57.000000</td>\n",
       "    </tr>\n",
       "    <tr>\n",
       "      <th>mean</th>\n",
       "      <td>33.00000</td>\n",
       "      <td>172.473684</td>\n",
       "      <td>6.070175</td>\n",
       "      <td>158.596491</td>\n",
       "      <td>6.421053</td>\n",
       "      <td>17.964912</td>\n",
       "      <td>70.929825</td>\n",
       "    </tr>\n",
       "    <tr>\n",
       "      <th>std</th>\n",
       "      <td>18.90767</td>\n",
       "      <td>28.817223</td>\n",
       "      <td>2.218909</td>\n",
       "      <td>30.182102</td>\n",
       "      <td>2.665570</td>\n",
       "      <td>20.607700</td>\n",
       "      <td>18.362286</td>\n",
       "    </tr>\n",
       "    <tr>\n",
       "      <th>min</th>\n",
       "      <td>1.00000</td>\n",
       "      <td>68.000000</td>\n",
       "      <td>2.000000</td>\n",
       "      <td>72.000000</td>\n",
       "      <td>1.000000</td>\n",
       "      <td>3.000000</td>\n",
       "      <td>28.000000</td>\n",
       "    </tr>\n",
       "    <tr>\n",
       "      <th>25%</th>\n",
       "      <td>17.00000</td>\n",
       "      <td>154.000000</td>\n",
       "      <td>5.000000</td>\n",
       "      <td>145.000000</td>\n",
       "      <td>4.000000</td>\n",
       "      <td>6.000000</td>\n",
       "      <td>57.000000</td>\n",
       "    </tr>\n",
       "    <tr>\n",
       "      <th>50%</th>\n",
       "      <td>33.00000</td>\n",
       "      <td>171.000000</td>\n",
       "      <td>6.000000</td>\n",
       "      <td>161.000000</td>\n",
       "      <td>7.000000</td>\n",
       "      <td>8.000000</td>\n",
       "      <td>68.000000</td>\n",
       "    </tr>\n",
       "    <tr>\n",
       "      <th>75%</th>\n",
       "      <td>49.00000</td>\n",
       "      <td>193.000000</td>\n",
       "      <td>8.000000</td>\n",
       "      <td>176.000000</td>\n",
       "      <td>9.000000</td>\n",
       "      <td>20.000000</td>\n",
       "      <td>87.000000</td>\n",
       "    </tr>\n",
       "    <tr>\n",
       "      <th>max</th>\n",
       "      <td>65.00000</td>\n",
       "      <td>222.000000</td>\n",
       "      <td>10.000000</td>\n",
       "      <td>211.000000</td>\n",
       "      <td>10.000000</td>\n",
       "      <td>91.000000</td>\n",
       "      <td>116.000000</td>\n",
       "    </tr>\n",
       "  </tbody>\n",
       "</table>\n",
       "</div>"
      ],
      "text/plain": [
       "       match_id  first_ings_score  first_ings_wkts  second_ings_score  \\\n",
       "count  65.00000         57.000000        57.000000          57.000000   \n",
       "mean   33.00000        172.473684         6.070175         158.596491   \n",
       "std    18.90767         28.817223         2.218909          30.182102   \n",
       "min     1.00000         68.000000         2.000000          72.000000   \n",
       "25%    17.00000        154.000000         5.000000         145.000000   \n",
       "50%    33.00000        171.000000         6.000000         161.000000   \n",
       "75%    49.00000        193.000000         8.000000         176.000000   \n",
       "max    65.00000        222.000000        10.000000         211.000000   \n",
       "\n",
       "       second_ings_wkts     margin   highscore  \n",
       "count         57.000000  57.000000   57.000000  \n",
       "mean           6.421053  17.964912   70.929825  \n",
       "std            2.665570  20.607700   18.362286  \n",
       "min            1.000000   3.000000   28.000000  \n",
       "25%            4.000000   6.000000   57.000000  \n",
       "50%            7.000000   8.000000   68.000000  \n",
       "75%            9.000000  20.000000   87.000000  \n",
       "max           10.000000  91.000000  116.000000  "
      ]
     },
     "execution_count": 7,
     "metadata": {},
     "output_type": "execute_result"
    }
   ],
   "source": [
    "#display the statstics about the dataste\n",
    "data.describe()"
   ]
  },
  {
   "cell_type": "code",
   "execution_count": 8,
   "id": "319794e5",
   "metadata": {
    "execution": {
     "iopub.execute_input": "2022-05-12T18:45:09.668692Z",
     "iopub.status.busy": "2022-05-12T18:45:09.668160Z",
     "iopub.status.idle": "2022-05-12T18:45:09.685987Z",
     "shell.execute_reply": "2022-05-12T18:45:09.685104Z"
    },
    "id": "Oky-7EiMVn5l",
    "outputId": "9394b656-4ee4-4ae0-ceaf-db518ef7183a",
    "papermill": {
     "duration": 0.050336,
     "end_time": "2022-05-12T18:45:09.688284",
     "exception": false,
     "start_time": "2022-05-12T18:45:09.637948",
     "status": "completed"
    },
    "tags": []
   },
   "outputs": [
    {
     "data": {
      "text/html": [
       "<div>\n",
       "<style scoped>\n",
       "    .dataframe tbody tr th:only-of-type {\n",
       "        vertical-align: middle;\n",
       "    }\n",
       "\n",
       "    .dataframe tbody tr th {\n",
       "        vertical-align: top;\n",
       "    }\n",
       "\n",
       "    .dataframe thead th {\n",
       "        text-align: right;\n",
       "    }\n",
       "</style>\n",
       "<table border=\"1\" class=\"dataframe\">\n",
       "  <thead>\n",
       "    <tr style=\"text-align: right;\">\n",
       "      <th></th>\n",
       "      <th>match_id</th>\n",
       "      <th>date</th>\n",
       "      <th>venue</th>\n",
       "      <th>team1</th>\n",
       "      <th>team2</th>\n",
       "      <th>stage</th>\n",
       "      <th>toss_winner</th>\n",
       "      <th>toss_decision</th>\n",
       "      <th>first_ings_score</th>\n",
       "      <th>first_ings_wkts</th>\n",
       "      <th>second_ings_score</th>\n",
       "      <th>second_ings_wkts</th>\n",
       "      <th>match_winner</th>\n",
       "      <th>won_by</th>\n",
       "      <th>margin</th>\n",
       "      <th>player_of_the_match</th>\n",
       "      <th>top_scorer</th>\n",
       "      <th>highscore</th>\n",
       "      <th>best_bowling</th>\n",
       "      <th>best_bowling_figure</th>\n",
       "    </tr>\n",
       "  </thead>\n",
       "  <tbody>\n",
       "    <tr>\n",
       "      <th>0</th>\n",
       "      <td>1</td>\n",
       "      <td>March 26,2022</td>\n",
       "      <td>Wankhede Stadium, Mumbai</td>\n",
       "      <td>Chennai</td>\n",
       "      <td>Kolkata</td>\n",
       "      <td>Group</td>\n",
       "      <td>Kolkata</td>\n",
       "      <td>Field</td>\n",
       "      <td>131.0</td>\n",
       "      <td>5.0</td>\n",
       "      <td>133.0</td>\n",
       "      <td>4.0</td>\n",
       "      <td>Kolkata</td>\n",
       "      <td>Wickets</td>\n",
       "      <td>6.0</td>\n",
       "      <td>Umesh Yadav</td>\n",
       "      <td>MS Dhoni</td>\n",
       "      <td>50.0</td>\n",
       "      <td>Dwayne Bravo</td>\n",
       "      <td>3--20</td>\n",
       "    </tr>\n",
       "  </tbody>\n",
       "</table>\n",
       "</div>"
      ],
      "text/plain": [
       "   match_id           date                     venue    team1    team2  stage  \\\n",
       "0         1  March 26,2022  Wankhede Stadium, Mumbai  Chennai  Kolkata  Group   \n",
       "\n",
       "  toss_winner toss_decision  first_ings_score  first_ings_wkts  \\\n",
       "0     Kolkata         Field             131.0              5.0   \n",
       "\n",
       "   second_ings_score  second_ings_wkts match_winner   won_by  margin  \\\n",
       "0              133.0               4.0      Kolkata  Wickets     6.0   \n",
       "\n",
       "  player_of_the_match top_scorer  highscore  best_bowling best_bowling_figure  \n",
       "0         Umesh Yadav   MS Dhoni       50.0  Dwayne Bravo               3--20  "
      ]
     },
     "execution_count": 8,
     "metadata": {},
     "output_type": "execute_result"
    }
   ],
   "source": [
    "data.head(1)"
   ]
  },
  {
   "cell_type": "code",
   "execution_count": 9,
   "id": "4e5579b8",
   "metadata": {
    "execution": {
     "iopub.execute_input": "2022-05-12T18:45:09.749169Z",
     "iopub.status.busy": "2022-05-12T18:45:09.748634Z",
     "iopub.status.idle": "2022-05-12T18:45:09.754025Z",
     "shell.execute_reply": "2022-05-12T18:45:09.753331Z"
    },
    "id": "QExdhQBXVthP",
    "outputId": "d3cd524f-7ad5-466a-dd14-8db4188c2c90",
    "papermill": {
     "duration": 0.037848,
     "end_time": "2022-05-12T18:45:09.755891",
     "exception": false,
     "start_time": "2022-05-12T18:45:09.718043",
     "status": "completed"
    },
    "tags": []
   },
   "outputs": [
    {
     "name": "stdout",
     "output_type": "stream",
     "text": [
      "Name of Unique Stadium ['Wankhede Stadium, Mumbai' 'Brabourne Stadium, Mumbai'\n",
      " 'Dr DY Patil Sports Academy, Mumbai'\n",
      " 'Maharashtra Cricket Association Stadium,Pune']\n"
     ]
    }
   ],
   "source": [
    "#Dispaly the unique venue \n",
    "df=data['venue'].unique()\n",
    "print(\"Name of Unique Stadium\",df)"
   ]
  },
  {
   "cell_type": "code",
   "execution_count": 10,
   "id": "410fd220",
   "metadata": {
    "execution": {
     "iopub.execute_input": "2022-05-12T18:45:09.818652Z",
     "iopub.status.busy": "2022-05-12T18:45:09.818156Z",
     "iopub.status.idle": "2022-05-12T18:45:10.127281Z",
     "shell.execute_reply": "2022-05-12T18:45:10.126342Z"
    },
    "id": "kwf7ni50aYUx",
    "outputId": "77fc74ca-5ee4-4f24-e4db-506dd98121ac",
    "papermill": {
     "duration": 0.344014,
     "end_time": "2022-05-12T18:45:10.129707",
     "exception": false,
     "start_time": "2022-05-12T18:45:09.785693",
     "status": "completed"
    },
    "tags": []
   },
   "outputs": [
    {
     "data": {
      "image/png": "[encoded data removed]",
      "text/plain": [
       "<Figure size 1152x360 with 1 Axes>"
      ]
     },
     "metadata": {
      "needs_background": "light"
     },
     "output_type": "display_data"
    }
   ],
   "source": [
    "#Show the frequency of each stadium using countplot \n",
    "plt.figure(figsize=(16,5))\n",
    "sns.countplot(y='venue',data=data,hue='venue')\n",
    "plt.show()"
   ]
  },
  {
   "cell_type": "code",
   "execution_count": 11,
   "id": "c67987b5",
   "metadata": {
    "execution": {
     "iopub.execute_input": "2022-05-12T18:45:10.197292Z",
     "iopub.status.busy": "2022-05-12T18:45:10.197020Z",
     "iopub.status.idle": "2022-05-12T18:45:10.203042Z",
     "shell.execute_reply": "2022-05-12T18:45:10.201671Z"
    },
    "id": "Xx2Sb7t8aNrr",
    "outputId": "7ad6038a-f1e8-4610-c0fa-a434521c6699",
    "papermill": {
     "duration": 0.040818,
     "end_time": "2022-05-12T18:45:10.205391",
     "exception": false,
     "start_time": "2022-05-12T18:45:10.164573",
     "status": "completed"
    },
    "tags": []
   },
   "outputs": [
    {
     "name": "stdout",
     "output_type": "stream",
     "text": [
      "Total no of unique stadium  4\n"
     ]
    }
   ],
   "source": [
    "#display the total no of unique stadium\n",
    "df=data['venue'].nunique()\n",
    "print(\"Total no of unique stadium \",df)"
   ]
  },
  {
   "cell_type": "code",
   "execution_count": 12,
   "id": "b04577ff",
   "metadata": {
    "execution": {
     "iopub.execute_input": "2022-05-12T18:45:10.270518Z",
     "iopub.status.busy": "2022-05-12T18:45:10.269927Z",
     "iopub.status.idle": "2022-05-12T18:45:10.277272Z",
     "shell.execute_reply": "2022-05-12T18:45:10.276607Z"
    },
    "id": "C8E6kZ6cfSV_",
    "outputId": "89c3cbf0-7b96-4986-8475-6f393940be6d",
    "papermill": {
     "duration": 0.042005,
     "end_time": "2022-05-12T18:45:10.278986",
     "exception": false,
     "start_time": "2022-05-12T18:45:10.236981",
     "status": "completed"
    },
    "tags": []
   },
   "outputs": [
    {
     "data": {
      "text/plain": [
       "toss_winner\n",
       "Banglore     7\n",
       "Chennai      4\n",
       "Delhi        7\n",
       "Gujarat      8\n",
       "Hyderabad    9\n",
       "Kolkata      7\n",
       "Lucknow      5\n",
       "Mumbai       6\n",
       "Punjab       3\n",
       "Rajasthan    1\n",
       "Name: toss_winner, dtype: int64"
      ]
     },
     "execution_count": 12,
     "metadata": {},
     "output_type": "execute_result"
    }
   ],
   "source": [
    "#Display the team who won the toss most of the times\n",
    "df=data.groupby(\"toss_winner\")\n",
    "df1=df['toss_winner'].count()\n",
    "df1"
   ]
  },
  {
   "cell_type": "code",
   "execution_count": 13,
   "id": "8b438d27",
   "metadata": {
    "execution": {
     "iopub.execute_input": "2022-05-12T18:45:10.344726Z",
     "iopub.status.busy": "2022-05-12T18:45:10.344166Z",
     "iopub.status.idle": "2022-05-12T18:45:10.688851Z",
     "shell.execute_reply": "2022-05-12T18:45:10.687861Z"
    },
    "id": "m0B0ngvGh-mP",
    "outputId": "27a2d51c-4803-4a3b-f83a-db98587be0f4",
    "papermill": {
     "duration": 0.380036,
     "end_time": "2022-05-12T18:45:10.691114",
     "exception": false,
     "start_time": "2022-05-12T18:45:10.311078",
     "status": "completed"
    },
    "tags": []
   },
   "outputs": [
    {
     "data": {
      "image/png": "[encoded data removed]",
      "text/plain": [
       "<Figure size 1152x360 with 1 Axes>"
      ]
     },
     "metadata": {
      "needs_background": "light"
     },
     "output_type": "display_data"
    }
   ],
   "source": [
    "#Display the visulaization using countplot which team has won the toss most and which stadium they won the toss most\n",
    "plt.figure(figsize=(16,5))\n",
    "sns.countplot(y='toss_winner',data=data,hue='venue')\n",
    "plt.show()\n"
   ]
  },
  {
   "cell_type": "code",
   "execution_count": 14,
   "id": "39022a5a",
   "metadata": {
    "execution": {
     "iopub.execute_input": "2022-05-12T18:45:10.757874Z",
     "iopub.status.busy": "2022-05-12T18:45:10.757579Z",
     "iopub.status.idle": "2022-05-12T18:45:10.777763Z",
     "shell.execute_reply": "2022-05-12T18:45:10.776816Z"
    },
    "id": "uTsmc2uNlTBV",
    "outputId": "9072cda6-8258-4203-b72d-f137328369b8",
    "papermill": {
     "duration": 0.055905,
     "end_time": "2022-05-12T18:45:10.779843",
     "exception": false,
     "start_time": "2022-05-12T18:45:10.723938",
     "status": "completed"
    },
    "tags": []
   },
   "outputs": [
    {
     "data": {
      "text/html": [
       "<div>\n",
       "<style scoped>\n",
       "    .dataframe tbody tr th:only-of-type {\n",
       "        vertical-align: middle;\n",
       "    }\n",
       "\n",
       "    .dataframe tbody tr th {\n",
       "        vertical-align: top;\n",
       "    }\n",
       "\n",
       "    .dataframe thead th {\n",
       "        text-align: right;\n",
       "    }\n",
       "</style>\n",
       "<table border=\"1\" class=\"dataframe\">\n",
       "  <thead>\n",
       "    <tr style=\"text-align: right;\">\n",
       "      <th></th>\n",
       "      <th>match_id</th>\n",
       "      <th>date</th>\n",
       "      <th>venue</th>\n",
       "      <th>team1</th>\n",
       "      <th>team2</th>\n",
       "      <th>stage</th>\n",
       "      <th>toss_winner</th>\n",
       "      <th>toss_decision</th>\n",
       "      <th>first_ings_score</th>\n",
       "      <th>first_ings_wkts</th>\n",
       "      <th>second_ings_score</th>\n",
       "      <th>second_ings_wkts</th>\n",
       "      <th>match_winner</th>\n",
       "      <th>won_by</th>\n",
       "      <th>margin</th>\n",
       "      <th>player_of_the_match</th>\n",
       "      <th>top_scorer</th>\n",
       "      <th>highscore</th>\n",
       "      <th>best_bowling</th>\n",
       "      <th>best_bowling_figure</th>\n",
       "    </tr>\n",
       "  </thead>\n",
       "  <tbody>\n",
       "    <tr>\n",
       "      <th>0</th>\n",
       "      <td>1</td>\n",
       "      <td>March 26,2022</td>\n",
       "      <td>Wankhede Stadium, Mumbai</td>\n",
       "      <td>Chennai</td>\n",
       "      <td>Kolkata</td>\n",
       "      <td>Group</td>\n",
       "      <td>Kolkata</td>\n",
       "      <td>Field</td>\n",
       "      <td>131.0</td>\n",
       "      <td>5.0</td>\n",
       "      <td>133.0</td>\n",
       "      <td>4.0</td>\n",
       "      <td>Kolkata</td>\n",
       "      <td>Wickets</td>\n",
       "      <td>6.0</td>\n",
       "      <td>Umesh Yadav</td>\n",
       "      <td>MS Dhoni</td>\n",
       "      <td>50.0</td>\n",
       "      <td>Dwayne Bravo</td>\n",
       "      <td>3--20</td>\n",
       "    </tr>\n",
       "  </tbody>\n",
       "</table>\n",
       "</div>"
      ],
      "text/plain": [
       "   match_id           date                     venue    team1    team2  stage  \\\n",
       "0         1  March 26,2022  Wankhede Stadium, Mumbai  Chennai  Kolkata  Group   \n",
       "\n",
       "  toss_winner toss_decision  first_ings_score  first_ings_wkts  \\\n",
       "0     Kolkata         Field             131.0              5.0   \n",
       "\n",
       "   second_ings_score  second_ings_wkts match_winner   won_by  margin  \\\n",
       "0              133.0               4.0      Kolkata  Wickets     6.0   \n",
       "\n",
       "  player_of_the_match top_scorer  highscore  best_bowling best_bowling_figure  \n",
       "0         Umesh Yadav   MS Dhoni       50.0  Dwayne Bravo               3--20  "
      ]
     },
     "execution_count": 14,
     "metadata": {},
     "output_type": "execute_result"
    }
   ],
   "source": [
    "data.head(1)"
   ]
  },
  {
   "cell_type": "code",
   "execution_count": 15,
   "id": "ffeb3a2a",
   "metadata": {
    "execution": {
     "iopub.execute_input": "2022-05-12T18:45:10.847621Z",
     "iopub.status.busy": "2022-05-12T18:45:10.847371Z",
     "iopub.status.idle": "2022-05-12T18:45:10.854249Z",
     "shell.execute_reply": "2022-05-12T18:45:10.853728Z"
    },
    "id": "a-hdj4kDleWl",
    "outputId": "e501b68d-44f5-4dea-ed97-3129472530c0",
    "papermill": {
     "duration": 0.042892,
     "end_time": "2022-05-12T18:45:10.855828",
     "exception": false,
     "start_time": "2022-05-12T18:45:10.812936",
     "status": "completed"
    },
    "tags": []
   },
   "outputs": [
    {
     "data": {
      "text/plain": [
       "toss_decision\n",
       "Bat       7\n",
       "Field    50\n",
       "Name: toss_decision, dtype: int64"
      ]
     },
     "execution_count": 15,
     "metadata": {},
     "output_type": "execute_result"
    }
   ],
   "source": [
    "#how many times Team choose bat first and field first\n",
    "decision=data.groupby('toss_decision')\n",
    "df=decision['toss_decision'].count()\n",
    "df"
   ]
  },
  {
   "cell_type": "code",
   "execution_count": 16,
   "id": "ce42d9d6",
   "metadata": {
    "execution": {
     "iopub.execute_input": "2022-05-12T18:45:10.926953Z",
     "iopub.status.busy": "2022-05-12T18:45:10.926182Z",
     "iopub.status.idle": "2022-05-12T18:45:11.147944Z",
     "shell.execute_reply": "2022-05-12T18:45:11.147077Z"
    },
    "id": "q16cXyq-mcak",
    "outputId": "f2b4a4b5-5821-44bb-e18d-8740a2c1dc90",
    "papermill": {
     "duration": 0.259357,
     "end_time": "2022-05-12T18:45:11.150027",
     "exception": false,
     "start_time": "2022-05-12T18:45:10.890670",
     "status": "completed"
    },
    "tags": []
   },
   "outputs": [
    {
     "data": {
      "image/png": "[encoded data removed]",
      "text/plain": [
       "<Figure size 1152x360 with 1 Axes>"
      ]
     },
     "metadata": {
      "needs_background": "light"
     },
     "output_type": "display_data"
    }
   ],
   "source": [
    "#Dispaly the visulization using countplot and shows which staidum how many times they choose field over bat and vice-versa.\n",
    "plt.figure(figsize=(16,5))\n",
    "sns.countplot(y='toss_decision', data=data,hue='venue')\n",
    "plt.show()"
   ]
  },
  {
   "cell_type": "code",
   "execution_count": 17,
   "id": "b2ca4735",
   "metadata": {
    "execution": {
     "iopub.execute_input": "2022-05-12T18:45:11.220673Z",
     "iopub.status.busy": "2022-05-12T18:45:11.220041Z",
     "iopub.status.idle": "2022-05-12T18:45:11.238360Z",
     "shell.execute_reply": "2022-05-12T18:45:11.237441Z"
    },
    "id": "ZUBZDl9ToHxh",
    "outputId": "ab24ed5e-0a47-477a-83f3-6e08ea67f2b0",
    "papermill": {
     "duration": 0.055766,
     "end_time": "2022-05-12T18:45:11.240204",
     "exception": false,
     "start_time": "2022-05-12T18:45:11.184438",
     "status": "completed"
    },
    "tags": []
   },
   "outputs": [
    {
     "data": {
      "text/html": [
       "<div>\n",
       "<style scoped>\n",
       "    .dataframe tbody tr th:only-of-type {\n",
       "        vertical-align: middle;\n",
       "    }\n",
       "\n",
       "    .dataframe tbody tr th {\n",
       "        vertical-align: top;\n",
       "    }\n",
       "\n",
       "    .dataframe thead th {\n",
       "        text-align: right;\n",
       "    }\n",
       "</style>\n",
       "<table border=\"1\" class=\"dataframe\">\n",
       "  <thead>\n",
       "    <tr style=\"text-align: right;\">\n",
       "      <th></th>\n",
       "      <th>match_id</th>\n",
       "      <th>date</th>\n",
       "      <th>venue</th>\n",
       "      <th>team1</th>\n",
       "      <th>team2</th>\n",
       "      <th>stage</th>\n",
       "      <th>toss_winner</th>\n",
       "      <th>toss_decision</th>\n",
       "      <th>first_ings_score</th>\n",
       "      <th>first_ings_wkts</th>\n",
       "      <th>second_ings_score</th>\n",
       "      <th>second_ings_wkts</th>\n",
       "      <th>match_winner</th>\n",
       "      <th>won_by</th>\n",
       "      <th>margin</th>\n",
       "      <th>player_of_the_match</th>\n",
       "      <th>top_scorer</th>\n",
       "      <th>highscore</th>\n",
       "      <th>best_bowling</th>\n",
       "      <th>best_bowling_figure</th>\n",
       "    </tr>\n",
       "  </thead>\n",
       "  <tbody>\n",
       "    <tr>\n",
       "      <th>0</th>\n",
       "      <td>1</td>\n",
       "      <td>March 26,2022</td>\n",
       "      <td>Wankhede Stadium, Mumbai</td>\n",
       "      <td>Chennai</td>\n",
       "      <td>Kolkata</td>\n",
       "      <td>Group</td>\n",
       "      <td>Kolkata</td>\n",
       "      <td>Field</td>\n",
       "      <td>131.0</td>\n",
       "      <td>5.0</td>\n",
       "      <td>133.0</td>\n",
       "      <td>4.0</td>\n",
       "      <td>Kolkata</td>\n",
       "      <td>Wickets</td>\n",
       "      <td>6.0</td>\n",
       "      <td>Umesh Yadav</td>\n",
       "      <td>MS Dhoni</td>\n",
       "      <td>50.0</td>\n",
       "      <td>Dwayne Bravo</td>\n",
       "      <td>3--20</td>\n",
       "    </tr>\n",
       "  </tbody>\n",
       "</table>\n",
       "</div>"
      ],
      "text/plain": [
       "   match_id           date                     venue    team1    team2  stage  \\\n",
       "0         1  March 26,2022  Wankhede Stadium, Mumbai  Chennai  Kolkata  Group   \n",
       "\n",
       "  toss_winner toss_decision  first_ings_score  first_ings_wkts  \\\n",
       "0     Kolkata         Field             131.0              5.0   \n",
       "\n",
       "   second_ings_score  second_ings_wkts match_winner   won_by  margin  \\\n",
       "0              133.0               4.0      Kolkata  Wickets     6.0   \n",
       "\n",
       "  player_of_the_match top_scorer  highscore  best_bowling best_bowling_figure  \n",
       "0         Umesh Yadav   MS Dhoni       50.0  Dwayne Bravo               3--20  "
      ]
     },
     "execution_count": 17,
     "metadata": {},
     "output_type": "execute_result"
    }
   ],
   "source": [
    "data.head(1)"
   ]
  },
  {
   "cell_type": "code",
   "execution_count": 18,
   "id": "e9fb4619",
   "metadata": {
    "execution": {
     "iopub.execute_input": "2022-05-12T18:45:11.312260Z",
     "iopub.status.busy": "2022-05-12T18:45:11.311732Z",
     "iopub.status.idle": "2022-05-12T18:45:11.321441Z",
     "shell.execute_reply": "2022-05-12T18:45:11.320826Z"
    },
    "id": "L0CQgowCqFWa",
    "outputId": "a5638a44-1258-4b4c-fde4-d3499959f4ba",
    "papermill": {
     "duration": 0.048073,
     "end_time": "2022-05-12T18:45:11.323347",
     "exception": false,
     "start_time": "2022-05-12T18:45:11.275274",
     "status": "completed"
    },
    "tags": []
   },
   "outputs": [
    {
     "data": {
      "text/plain": [
       "match_id               0\n",
       "date                   0\n",
       "venue                  0\n",
       "team1                  0\n",
       "team2                  0\n",
       "stage                  0\n",
       "toss_winner            0\n",
       "toss_decision          0\n",
       "first_ings_score       0\n",
       "first_ings_wkts        0\n",
       "second_ings_score      0\n",
       "second_ings_wkts       0\n",
       "match_winner           0\n",
       "won_by                 0\n",
       "margin                 0\n",
       "player_of_the_match    0\n",
       "top_scorer             0\n",
       "highscore              0\n",
       "best_bowling           0\n",
       "best_bowling_figure    0\n",
       "dtype: int64"
      ]
     },
     "execution_count": 18,
     "metadata": {},
     "output_type": "execute_result"
    }
   ],
   "source": [
    "#Drop the rows who contains null values using dropna function\n",
    "data=data.dropna(how='any')\n",
    "data.isnull().sum()"
   ]
  },
  {
   "cell_type": "code",
   "execution_count": 19,
   "id": "c8230ac3",
   "metadata": {
    "execution": {
     "iopub.execute_input": "2022-05-12T18:45:11.396631Z",
     "iopub.status.busy": "2022-05-12T18:45:11.396121Z",
     "iopub.status.idle": "2022-05-12T18:45:11.401281Z",
     "shell.execute_reply": "2022-05-12T18:45:11.400279Z"
    },
    "id": "hOoBniuSuHvq",
    "outputId": "3be5da91-0ad4-4d80-940d-91cf44b6e7e6",
    "papermill": {
     "duration": 0.044235,
     "end_time": "2022-05-12T18:45:11.403399",
     "exception": false,
     "start_time": "2022-05-12T18:45:11.359164",
     "status": "completed"
    },
    "tags": []
   },
   "outputs": [
    {
     "name": "stdout",
     "output_type": "stream",
     "text": [
      "The no of rows after drop  57\n",
      "The no of columns after drop  20\n"
     ]
    }
   ],
   "source": [
    "#Check the shape of the dataframe\n",
    "df=data.shape\n",
    "print(\"The no of rows after drop \",df[0])\n",
    "print(\"The no of columns after drop \",df[1])"
   ]
  },
  {
   "cell_type": "code",
   "execution_count": 20,
   "id": "6e3dbc6f",
   "metadata": {
    "execution": {
     "iopub.execute_input": "2022-05-12T18:45:11.476311Z",
     "iopub.status.busy": "2022-05-12T18:45:11.475725Z",
     "iopub.status.idle": "2022-05-12T18:45:11.492874Z",
     "shell.execute_reply": "2022-05-12T18:45:11.492209Z"
    },
    "id": "9ei55MoM0nFF",
    "outputId": "22e5e71e-c861-4004-fad0-eba8744827fe",
    "papermill": {
     "duration": 0.055814,
     "end_time": "2022-05-12T18:45:11.494766",
     "exception": false,
     "start_time": "2022-05-12T18:45:11.438952",
     "status": "completed"
    },
    "tags": []
   },
   "outputs": [
    {
     "data": {
      "text/html": [
       "<div>\n",
       "<style scoped>\n",
       "    .dataframe tbody tr th:only-of-type {\n",
       "        vertical-align: middle;\n",
       "    }\n",
       "\n",
       "    .dataframe tbody tr th {\n",
       "        vertical-align: top;\n",
       "    }\n",
       "\n",
       "    .dataframe thead th {\n",
       "        text-align: right;\n",
       "    }\n",
       "</style>\n",
       "<table border=\"1\" class=\"dataframe\">\n",
       "  <thead>\n",
       "    <tr style=\"text-align: right;\">\n",
       "      <th></th>\n",
       "      <th>match_id</th>\n",
       "      <th>date</th>\n",
       "      <th>venue</th>\n",
       "      <th>team1</th>\n",
       "      <th>team2</th>\n",
       "      <th>stage</th>\n",
       "      <th>toss_winner</th>\n",
       "      <th>toss_decision</th>\n",
       "      <th>first_ings_score</th>\n",
       "      <th>first_ings_wkts</th>\n",
       "      <th>second_ings_score</th>\n",
       "      <th>second_ings_wkts</th>\n",
       "      <th>match_winner</th>\n",
       "      <th>won_by</th>\n",
       "      <th>margin</th>\n",
       "      <th>player_of_the_match</th>\n",
       "      <th>top_scorer</th>\n",
       "      <th>highscore</th>\n",
       "      <th>best_bowling</th>\n",
       "      <th>best_bowling_figure</th>\n",
       "    </tr>\n",
       "  </thead>\n",
       "  <tbody>\n",
       "    <tr>\n",
       "      <th>0</th>\n",
       "      <td>1</td>\n",
       "      <td>March 26,2022</td>\n",
       "      <td>Wankhede Stadium, Mumbai</td>\n",
       "      <td>Chennai</td>\n",
       "      <td>Kolkata</td>\n",
       "      <td>Group</td>\n",
       "      <td>Kolkata</td>\n",
       "      <td>Field</td>\n",
       "      <td>131.0</td>\n",
       "      <td>5.0</td>\n",
       "      <td>133.0</td>\n",
       "      <td>4.0</td>\n",
       "      <td>Kolkata</td>\n",
       "      <td>Wickets</td>\n",
       "      <td>6.0</td>\n",
       "      <td>Umesh Yadav</td>\n",
       "      <td>MS Dhoni</td>\n",
       "      <td>50.0</td>\n",
       "      <td>Dwayne Bravo</td>\n",
       "      <td>3--20</td>\n",
       "    </tr>\n",
       "  </tbody>\n",
       "</table>\n",
       "</div>"
      ],
      "text/plain": [
       "   match_id           date                     venue    team1    team2  stage  \\\n",
       "0         1  March 26,2022  Wankhede Stadium, Mumbai  Chennai  Kolkata  Group   \n",
       "\n",
       "  toss_winner toss_decision  first_ings_score  first_ings_wkts  \\\n",
       "0     Kolkata         Field             131.0              5.0   \n",
       "\n",
       "   second_ings_score  second_ings_wkts match_winner   won_by  margin  \\\n",
       "0              133.0               4.0      Kolkata  Wickets     6.0   \n",
       "\n",
       "  player_of_the_match top_scorer  highscore  best_bowling best_bowling_figure  \n",
       "0         Umesh Yadav   MS Dhoni       50.0  Dwayne Bravo               3--20  "
      ]
     },
     "execution_count": 20,
     "metadata": {},
     "output_type": "execute_result"
    }
   ],
   "source": [
    "data.head(1)"
   ]
  },
  {
   "cell_type": "code",
   "execution_count": 21,
   "id": "d2752e97",
   "metadata": {
    "execution": {
     "iopub.execute_input": "2022-05-12T18:45:11.568886Z",
     "iopub.status.busy": "2022-05-12T18:45:11.568351Z",
     "iopub.status.idle": "2022-05-12T18:45:11.573575Z",
     "shell.execute_reply": "2022-05-12T18:45:11.572825Z"
    },
    "id": "cAGYVRNs0w_Q",
    "outputId": "3776525e-7e65-4c0d-b3c9-cc83edacd292",
    "papermill": {
     "duration": 0.044063,
     "end_time": "2022-05-12T18:45:11.575232",
     "exception": false,
     "start_time": "2022-05-12T18:45:11.531169",
     "status": "completed"
    },
    "tags": []
   },
   "outputs": [
    {
     "data": {
      "text/plain": [
       "172.47368421052633"
      ]
     },
     "execution_count": 21,
     "metadata": {},
     "output_type": "execute_result"
    }
   ],
   "source": [
    "#Average score in first innings\n",
    "data['first_ings_score'].mean()"
   ]
  },
  {
   "cell_type": "code",
   "execution_count": 22,
   "id": "9c89315e",
   "metadata": {
    "execution": {
     "iopub.execute_input": "2022-05-12T18:45:11.652392Z",
     "iopub.status.busy": "2022-05-12T18:45:11.651886Z",
     "iopub.status.idle": "2022-05-12T18:45:11.657308Z",
     "shell.execute_reply": "2022-05-12T18:45:11.656691Z"
    },
    "id": "S2zrrSAO06Kg",
    "outputId": "6b8a952f-2241-441b-d8ac-290db229929b",
    "papermill": {
     "duration": 0.046057,
     "end_time": "2022-05-12T18:45:11.659103",
     "exception": false,
     "start_time": "2022-05-12T18:45:11.613046",
     "status": "completed"
    },
    "tags": []
   },
   "outputs": [
    {
     "data": {
      "text/plain": [
       "158.59649122807016"
      ]
     },
     "execution_count": 22,
     "metadata": {},
     "output_type": "execute_result"
    }
   ],
   "source": [
    "#Average score in first innings\n",
    "data['second_ings_score'].mean()"
   ]
  },
  {
   "cell_type": "code",
   "execution_count": 23,
   "id": "33d853f1",
   "metadata": {
    "execution": {
     "iopub.execute_input": "2022-05-12T18:45:11.734878Z",
     "iopub.status.busy": "2022-05-12T18:45:11.734396Z",
     "iopub.status.idle": "2022-05-12T18:45:11.752433Z",
     "shell.execute_reply": "2022-05-12T18:45:11.751790Z"
    },
    "id": "Rq0-1Mb91nJ3",
    "outputId": "a2a1b193-5aec-48cb-c807-5da7e83f6030",
    "papermill": {
     "duration": 0.058286,
     "end_time": "2022-05-12T18:45:11.754257",
     "exception": false,
     "start_time": "2022-05-12T18:45:11.695971",
     "status": "completed"
    },
    "tags": []
   },
   "outputs": [
    {
     "data": {
      "text/html": [
       "<div>\n",
       "<style scoped>\n",
       "    .dataframe tbody tr th:only-of-type {\n",
       "        vertical-align: middle;\n",
       "    }\n",
       "\n",
       "    .dataframe tbody tr th {\n",
       "        vertical-align: top;\n",
       "    }\n",
       "\n",
       "    .dataframe thead th {\n",
       "        text-align: right;\n",
       "    }\n",
       "</style>\n",
       "<table border=\"1\" class=\"dataframe\">\n",
       "  <thead>\n",
       "    <tr style=\"text-align: right;\">\n",
       "      <th></th>\n",
       "      <th>match_id</th>\n",
       "      <th>date</th>\n",
       "      <th>venue</th>\n",
       "      <th>team1</th>\n",
       "      <th>team2</th>\n",
       "      <th>stage</th>\n",
       "      <th>toss_winner</th>\n",
       "      <th>toss_decision</th>\n",
       "      <th>first_ings_score</th>\n",
       "      <th>first_ings_wkts</th>\n",
       "      <th>second_ings_score</th>\n",
       "      <th>second_ings_wkts</th>\n",
       "      <th>match_winner</th>\n",
       "      <th>won_by</th>\n",
       "      <th>margin</th>\n",
       "      <th>player_of_the_match</th>\n",
       "      <th>top_scorer</th>\n",
       "      <th>highscore</th>\n",
       "      <th>best_bowling</th>\n",
       "      <th>best_bowling_figure</th>\n",
       "    </tr>\n",
       "  </thead>\n",
       "  <tbody>\n",
       "    <tr>\n",
       "      <th>0</th>\n",
       "      <td>1</td>\n",
       "      <td>March 26,2022</td>\n",
       "      <td>Wankhede Stadium, Mumbai</td>\n",
       "      <td>Chennai</td>\n",
       "      <td>Kolkata</td>\n",
       "      <td>Group</td>\n",
       "      <td>Kolkata</td>\n",
       "      <td>Field</td>\n",
       "      <td>131.0</td>\n",
       "      <td>5.0</td>\n",
       "      <td>133.0</td>\n",
       "      <td>4.0</td>\n",
       "      <td>Kolkata</td>\n",
       "      <td>Wickets</td>\n",
       "      <td>6.0</td>\n",
       "      <td>Umesh Yadav</td>\n",
       "      <td>MS Dhoni</td>\n",
       "      <td>50.0</td>\n",
       "      <td>Dwayne Bravo</td>\n",
       "      <td>3--20</td>\n",
       "    </tr>\n",
       "  </tbody>\n",
       "</table>\n",
       "</div>"
      ],
      "text/plain": [
       "   match_id           date                     venue    team1    team2  stage  \\\n",
       "0         1  March 26,2022  Wankhede Stadium, Mumbai  Chennai  Kolkata  Group   \n",
       "\n",
       "  toss_winner toss_decision  first_ings_score  first_ings_wkts  \\\n",
       "0     Kolkata         Field             131.0              5.0   \n",
       "\n",
       "   second_ings_score  second_ings_wkts match_winner   won_by  margin  \\\n",
       "0              133.0               4.0      Kolkata  Wickets     6.0   \n",
       "\n",
       "  player_of_the_match top_scorer  highscore  best_bowling best_bowling_figure  \n",
       "0         Umesh Yadav   MS Dhoni       50.0  Dwayne Bravo               3--20  "
      ]
     },
     "execution_count": 23,
     "metadata": {},
     "output_type": "execute_result"
    }
   ],
   "source": [
    "data.head(1)"
   ]
  },
  {
   "cell_type": "code",
   "execution_count": 24,
   "id": "40925ecd",
   "metadata": {
    "execution": {
     "iopub.execute_input": "2022-05-12T18:45:11.829974Z",
     "iopub.status.busy": "2022-05-12T18:45:11.829480Z",
     "iopub.status.idle": "2022-05-12T18:45:11.834648Z",
     "shell.execute_reply": "2022-05-12T18:45:11.833815Z"
    },
    "id": "XM2l2zI7_Ztv",
    "outputId": "d9e51d32-e416-42fe-f046-f7bc6c54d6fc",
    "papermill": {
     "duration": 0.044996,
     "end_time": "2022-05-12T18:45:11.836397",
     "exception": false,
     "start_time": "2022-05-12T18:45:11.791401",
     "status": "completed"
    },
    "tags": []
   },
   "outputs": [
    {
     "data": {
      "text/plain": [
       "'Rajasthan'"
      ]
     },
     "execution_count": 24,
     "metadata": {},
     "output_type": "execute_result"
    }
   ],
   "source": [
    "#which team has won the most toss\n",
    "data['toss_winner'].max()"
   ]
  },
  {
   "cell_type": "code",
   "execution_count": 25,
   "id": "8dd1bc9c",
   "metadata": {
    "execution": {
     "iopub.execute_input": "2022-05-12T18:45:11.913520Z",
     "iopub.status.busy": "2022-05-12T18:45:11.913025Z",
     "iopub.status.idle": "2022-05-12T18:45:12.261768Z",
     "shell.execute_reply": "2022-05-12T18:45:12.260749Z"
    },
    "id": "aQDon4pGAiJv",
    "outputId": "80822e11-3b55-4fa0-ca2b-2ea5affe4d49",
    "papermill": {
     "duration": 0.390974,
     "end_time": "2022-05-12T18:45:12.264434",
     "exception": false,
     "start_time": "2022-05-12T18:45:11.873460",
     "status": "completed"
    },
    "tags": []
   },
   "outputs": [
    {
     "data": {
      "image/png": "[encoded data removed]",
      "text/plain": [
       "<Figure size 1152x360 with 1 Axes>"
      ]
     },
     "metadata": {
      "needs_background": "light"
     },
     "output_type": "display_data"
    }
   ],
   "source": [
    "#Display the distribution between first_innnings score and first_ings_wickets\n",
    "plt.figure(figsize=(16,5))\n",
    "plt.grid(color = 'black', linestyle = '--', linewidth = 0.5)\n",
    "\n",
    "sns.scatterplot(x='first_ings_score',y='first_ings_wkts',data=data,hue='first_ings_wkts',s=80)\n",
    "plt.show()"
   ]
  },
  {
   "cell_type": "code",
   "execution_count": 26,
   "id": "8013b02b",
   "metadata": {
    "execution": {
     "iopub.execute_input": "2022-05-12T18:45:12.350186Z",
     "iopub.status.busy": "2022-05-12T18:45:12.349323Z",
     "iopub.status.idle": "2022-05-12T18:45:12.692682Z",
     "shell.execute_reply": "2022-05-12T18:45:12.691819Z"
    },
    "id": "UFpnrEqyC6Ox",
    "outputId": "5dc0184f-1622-46bc-d178-ff81cffe9c0e",
    "papermill": {
     "duration": 0.388774,
     "end_time": "2022-05-12T18:45:12.694600",
     "exception": false,
     "start_time": "2022-05-12T18:45:12.305826",
     "status": "completed"
    },
    "tags": []
   },
   "outputs": [
    {
     "data": {
      "image/png": "[encoded data removed]",
      "text/plain": [
       "<Figure size 1152x360 with 1 Axes>"
      ]
     },
     "metadata": {
      "needs_background": "light"
     },
     "output_type": "display_data"
    }
   ],
   "source": [
    "##Display the distribution between second_innnings score and second_ings_wickets\n",
    "plt.figure(figsize=(16,5))\n",
    "plt.grid(color = 'black', linestyle = '--', linewidth = 0.5)\n",
    "\n",
    "sns.scatterplot(x='second_ings_score',y='second_ings_wkts',data=data,hue='second_ings_wkts',s=100)\n",
    "plt.show()"
   ]
  },
  {
   "cell_type": "code",
   "execution_count": 27,
   "id": "141bbd3f",
   "metadata": {
    "execution": {
     "iopub.execute_input": "2022-05-12T18:45:12.778402Z",
     "iopub.status.busy": "2022-05-12T18:45:12.778146Z",
     "iopub.status.idle": "2022-05-12T18:45:12.785514Z",
     "shell.execute_reply": "2022-05-12T18:45:12.784982Z"
    },
    "id": "qjvZM83AEVbZ",
    "outputId": "a81357c2-8dd2-431f-cd3e-7e3bc93bf80e",
    "papermill": {
     "duration": 0.050607,
     "end_time": "2022-05-12T18:45:12.787091",
     "exception": false,
     "start_time": "2022-05-12T18:45:12.736484",
     "status": "completed"
    },
    "tags": []
   },
   "outputs": [
    {
     "data": {
      "text/plain": [
       "highscore                116.0\n",
       "top_scorer    Yashasvi Jaiswal\n",
       "dtype: object"
      ]
     },
     "execution_count": 27,
     "metadata": {},
     "output_type": "execute_result"
    }
   ],
   "source": [
    "#Display the highscore and top scorer name\n",
    "data[['highscore','top_scorer']].max()\n"
   ]
  },
  {
   "cell_type": "code",
   "execution_count": 28,
   "id": "6380bd95",
   "metadata": {
    "execution": {
     "iopub.execute_input": "2022-05-12T18:45:12.869652Z",
     "iopub.status.busy": "2022-05-12T18:45:12.869226Z",
     "iopub.status.idle": "2022-05-12T18:45:12.876298Z",
     "shell.execute_reply": "2022-05-12T18:45:12.875632Z"
    },
    "id": "jV6GfjRoFtzz",
    "outputId": "6cc0bb9b-d964-43eb-ad38-feaf69d38a90",
    "papermill": {
     "duration": 0.050478,
     "end_time": "2022-05-12T18:45:12.878037",
     "exception": false,
     "start_time": "2022-05-12T18:45:12.827559",
     "status": "completed"
    },
    "tags": []
   },
   "outputs": [
    {
     "data": {
      "text/plain": [
       "best_bowling_figure               5--40\n",
       "best_bowling           Yuzvendra Chahal\n",
       "dtype: object"
      ]
     },
     "execution_count": 28,
     "metadata": {},
     "output_type": "execute_result"
    }
   ],
   "source": [
    "#display the best bowling and best bowling figure\n",
    "data[['best_bowling_figure','best_bowling']].max()"
   ]
  },
  {
   "cell_type": "code",
   "execution_count": 29,
   "id": "4bc41a99",
   "metadata": {
    "execution": {
     "iopub.execute_input": "2022-05-12T18:45:12.962158Z",
     "iopub.status.busy": "2022-05-12T18:45:12.961688Z",
     "iopub.status.idle": "2022-05-12T18:45:13.345601Z",
     "shell.execute_reply": "2022-05-12T18:45:13.344707Z"
    },
    "id": "ULUbNomSGWB5",
    "outputId": "c39aa9e3-3e94-4857-a294-57849aa09756",
    "papermill": {
     "duration": 0.428193,
     "end_time": "2022-05-12T18:45:13.347712",
     "exception": false,
     "start_time": "2022-05-12T18:45:12.919519",
     "status": "completed"
    },
    "tags": []
   },
   "outputs": [
    {
     "data": {
      "image/png": "[encoded data removed]",
      "text/plain": [
       "<Figure size 1440x576 with 1 Axes>"
      ]
     },
     "metadata": {
      "needs_background": "light"
     },
     "output_type": "display_data"
    }
   ],
   "source": [
    "#Display top scorere in ipl 2022\n",
    "plt.figure(figsize=(20,8))\n",
    "sns.countplot(y='top_scorer',data=data)\n",
    "plt.title(\"Top scores in IPL 2022\")\n",
    "plt.show()"
   ]
  },
  {
   "cell_type": "code",
   "execution_count": 30,
   "id": "b3ee8b13",
   "metadata": {
    "execution": {
     "iopub.execute_input": "2022-05-12T18:45:13.434762Z",
     "iopub.status.busy": "2022-05-12T18:45:13.434463Z",
     "iopub.status.idle": "2022-05-12T18:45:14.251296Z",
     "shell.execute_reply": "2022-05-12T18:45:14.250654Z"
    },
    "id": "H3gkYdiLJUj8",
    "outputId": "24cd6f9c-8599-4a6a-f9f9-a9691424a4b0",
    "papermill": {
     "duration": 0.862668,
     "end_time": "2022-05-12T18:45:14.253482",
     "exception": false,
     "start_time": "2022-05-12T18:45:13.390814",
     "status": "completed"
    },
    "tags": []
   },
   "outputs": [
    {
     "data": {
      "image/png": "[encoded data removed]",
      "text/plain": [
       "<Figure size 1440x576 with 1 Axes>"
      ]
     },
     "metadata": {
      "needs_background": "light"
     },
     "output_type": "display_data"
    }
   ],
   "source": [
    "#Display High Score in IPL 2022\n",
    "plt.figure(figsize=(20,8))\n",
    "sns.barplot(x='highscore',y='top_scorer',data=data)\n",
    "plt.title(\"High score in ipl2022\")\n",
    "plt.show()"
   ]
  },
  {
   "cell_type": "code",
   "execution_count": 31,
   "id": "30da6de8",
   "metadata": {
    "execution": {
     "iopub.execute_input": "2022-05-12T18:45:14.343408Z",
     "iopub.status.busy": "2022-05-12T18:45:14.342965Z",
     "iopub.status.idle": "2022-05-12T18:45:14.890709Z",
     "shell.execute_reply": "2022-05-12T18:45:14.889836Z"
    },
    "id": "zqw8_fZ1LGDE",
    "outputId": "a80fcfa6-6a04-4732-e3fa-336fe26353cc",
    "papermill": {
     "duration": 0.594767,
     "end_time": "2022-05-12T18:45:14.892550",
     "exception": false,
     "start_time": "2022-05-12T18:45:14.297783",
     "status": "completed"
    },
    "tags": []
   },
   "outputs": [
    {
     "data": {
      "image/png": "[encoded data removed]",
      "text/plain": [
       "<Figure size 1440x576 with 1 Axes>"
      ]
     },
     "metadata": {
      "needs_background": "light"
     },
     "output_type": "display_data"
    }
   ],
   "source": [
    "#Display most player of the match\n",
    "plt.figure(figsize=(20,8))\n",
    "sns.countplot(y='player_of_the_match',data=data)\n",
    "plt.title(\"Most player of the match\")\n",
    "plt.show()"
   ]
  },
  {
   "cell_type": "code",
   "execution_count": 32,
   "id": "a850f506",
   "metadata": {
    "execution": {
     "iopub.execute_input": "2022-05-12T18:45:14.986010Z",
     "iopub.status.busy": "2022-05-12T18:45:14.985461Z",
     "iopub.status.idle": "2022-05-12T18:45:15.207238Z",
     "shell.execute_reply": "2022-05-12T18:45:15.206333Z"
    },
    "id": "BBbpI0J9L-nq",
    "outputId": "e9c9a407-01be-404a-9da8-ef3ae95b819a",
    "papermill": {
     "duration": 0.270403,
     "end_time": "2022-05-12T18:45:15.209417",
     "exception": false,
     "start_time": "2022-05-12T18:45:14.939014",
     "status": "completed"
    },
    "tags": []
   },
   "outputs": [
    {
     "data": {
      "image/png": "[encoded data removed]",
      "text/plain": [
       "<Figure size 1440x576 with 1 Axes>"
      ]
     },
     "metadata": {
      "needs_background": "light"
     },
     "output_type": "display_data"
    }
   ],
   "source": [
    "#Display most win in ipl 2022\n",
    "plt.figure(figsize=(20,8))\n",
    "sns.countplot(y='match_winner',data=data)\n",
    "plt.title(\"Most win in ipl 2022\")\n",
    "plt.show()"
   ]
  }
 ],
 "metadata": {
  "kernelspec": {
   "display_name": "Python 3",
   "language": "python",
   "name": "python3"
  },
  "language_info": {
   "codemirror_mode": {
    "name": "ipython",
    "version": 3
   },
   "file_extension": ".py",
   "mimetype": "text/x-python",
   "name": "python",
   "nbconvert_exporter": "python",
   "pygments_lexer": "ipython3",
   "version": "3.7.12"
  },
  "papermill": {
   "default_parameters": {},
   "duration": 17.751897,
   "end_time": "2022-05-12T18:45:15.976362",
   "environment_variables": {},
   "exception": null,
   "input_path": "__notebook__.ipynb",
   "output_path": "__notebook__.ipynb",
   "parameters": {},
   "start_time": "2022-05-12T18:44:58.224465",
   "version": "2.3.4"
  }
 },
 "nbformat": 4,
 "nbformat_minor": 5
}
