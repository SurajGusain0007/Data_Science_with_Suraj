{
 "cells": [
  {
   "cell_type": "markdown",
   "id": "5849c0ea",
   "metadata": {
    "id": "view-in-github",
    "papermill": {
     "duration": 0.061799,
     "end_time": "2022-05-11T12:42:38.170758",
     "exception": false,
     "start_time": "2022-05-11T12:42:38.108959",
     "status": "completed"
    },
    "tags": []
   },
   "source": [
    "<a href=\"https://colab.research.google.com/github/SurajGusain0007/Dataset_Analysis/blob/main/Udemy_Course.ipynb\" target=\"_parent\"><img src=\"https://colab.research.google.com/assets/colab-badge.svg\" alt=\"Open In Colab\"/></a>"
   ]
  },
  {
   "cell_type": "markdown",
   "id": "60607802",
   "metadata": {
    "id": "_fFK5homhzCF",
    "papermill": {
     "duration": 0.058724,
     "end_time": "2022-05-11T12:42:38.291730",
     "exception": false,
     "start_time": "2022-05-11T12:42:38.233006",
     "status": "completed"
    },
    "tags": []
   },
   "source": [
    "**Reading Dataset**"
   ]
  },
  {
   "cell_type": "code",
   "execution_count": 1,
   "id": "305fde8e",
   "metadata": {
    "execution": {
     "iopub.execute_input": "2022-05-11T12:42:38.412329Z",
     "iopub.status.busy": "2022-05-11T12:42:38.411404Z",
     "iopub.status.idle": "2022-05-11T12:42:39.552711Z",
     "shell.execute_reply": "2022-05-11T12:42:39.551842Z"
    },
    "id": "n2plDjhgh2yL",
    "papermill": {
     "duration": 1.204552,
     "end_time": "2022-05-11T12:42:39.555468",
     "exception": false,
     "start_time": "2022-05-11T12:42:38.350916",
     "status": "completed"
    },
    "tags": []
   },
   "outputs": [],
   "source": [
    "import pandas as pd\n",
    "import numpy as np\n",
    "import matplotlib.pyplot as plt\n",
    "import seaborn as sns"
   ]
  },
  {
   "cell_type": "code",
   "execution_count": 2,
   "id": "94bd885e",
   "metadata": {
    "execution": {
     "iopub.execute_input": "2022-05-11T12:42:39.676973Z",
     "iopub.status.busy": "2022-05-11T12:42:39.676397Z",
     "iopub.status.idle": "2022-05-11T12:42:39.774241Z",
     "shell.execute_reply": "2022-05-11T12:42:39.773430Z"
    },
    "id": "H_nyUGy-iKZr",
    "outputId": "2545cc94-000c-4f44-84d5-763824c7dd5d",
    "papermill": {
     "duration": 0.16231,
     "end_time": "2022-05-11T12:42:39.777036",
     "exception": false,
     "start_time": "2022-05-11T12:42:39.614726",
     "status": "completed"
    },
    "tags": []
   },
   "outputs": [
    {
     "data": {
      "text/html": [
       "<div>\n",
       "<style scoped>\n",
       "    .dataframe tbody tr th:only-of-type {\n",
       "        vertical-align: middle;\n",
       "    }\n",
       "\n",
       "    .dataframe tbody tr th {\n",
       "        vertical-align: top;\n",
       "    }\n",
       "\n",
       "    .dataframe thead th {\n",
       "        text-align: right;\n",
       "    }\n",
       "</style>\n",
       "<table border=\"1\" class=\"dataframe\">\n",
       "  <thead>\n",
       "    <tr style=\"text-align: right;\">\n",
       "      <th></th>\n",
       "      <th>course_id</th>\n",
       "      <th>course_title</th>\n",
       "      <th>url</th>\n",
       "      <th>is_paid</th>\n",
       "      <th>price</th>\n",
       "      <th>num_subscribers</th>\n",
       "      <th>num_reviews</th>\n",
       "      <th>num_lectures</th>\n",
       "      <th>level</th>\n",
       "      <th>content_duration</th>\n",
       "      <th>published_timestamp</th>\n",
       "      <th>subject</th>\n",
       "    </tr>\n",
       "  </thead>\n",
       "  <tbody>\n",
       "    <tr>\n",
       "      <th>0</th>\n",
       "      <td>1070968</td>\n",
       "      <td>Ultimate Investment Banking Course</td>\n",
       "      <td>https://www.udemy.com/ultimate-investment-bank...</td>\n",
       "      <td>True</td>\n",
       "      <td>200</td>\n",
       "      <td>2147</td>\n",
       "      <td>23</td>\n",
       "      <td>51</td>\n",
       "      <td>All Levels</td>\n",
       "      <td>1.5</td>\n",
       "      <td>2017-01-18 20:58:58+00:00</td>\n",
       "      <td>Business Finance</td>\n",
       "    </tr>\n",
       "    <tr>\n",
       "      <th>1</th>\n",
       "      <td>1113822</td>\n",
       "      <td>Complete GST Course &amp; Certification - Grow You...</td>\n",
       "      <td>https://www.udemy.com/goods-and-services-tax/</td>\n",
       "      <td>True</td>\n",
       "      <td>75</td>\n",
       "      <td>2792</td>\n",
       "      <td>923</td>\n",
       "      <td>274</td>\n",
       "      <td>All Levels</td>\n",
       "      <td>39.0</td>\n",
       "      <td>2017-03-09 16:34:20+00:00</td>\n",
       "      <td>Business Finance</td>\n",
       "    </tr>\n",
       "    <tr>\n",
       "      <th>2</th>\n",
       "      <td>1006314</td>\n",
       "      <td>Financial Modeling for Business Analysts and C...</td>\n",
       "      <td>https://www.udemy.com/financial-modeling-for-b...</td>\n",
       "      <td>True</td>\n",
       "      <td>45</td>\n",
       "      <td>2174</td>\n",
       "      <td>74</td>\n",
       "      <td>51</td>\n",
       "      <td>Intermediate Level</td>\n",
       "      <td>2.5</td>\n",
       "      <td>2016-12-19 19:26:30+00:00</td>\n",
       "      <td>Business Finance</td>\n",
       "    </tr>\n",
       "    <tr>\n",
       "      <th>3</th>\n",
       "      <td>1210588</td>\n",
       "      <td>Beginner to Pro - Financial Analysis in Excel ...</td>\n",
       "      <td>https://www.udemy.com/complete-excel-finance-c...</td>\n",
       "      <td>True</td>\n",
       "      <td>95</td>\n",
       "      <td>2451</td>\n",
       "      <td>11</td>\n",
       "      <td>36</td>\n",
       "      <td>All Levels</td>\n",
       "      <td>3.0</td>\n",
       "      <td>2017-05-30 20:07:24+00:00</td>\n",
       "      <td>Business Finance</td>\n",
       "    </tr>\n",
       "    <tr>\n",
       "      <th>4</th>\n",
       "      <td>1011058</td>\n",
       "      <td>How To Maximize Your Profits Trading Options</td>\n",
       "      <td>https://www.udemy.com/how-to-maximize-your-pro...</td>\n",
       "      <td>True</td>\n",
       "      <td>200</td>\n",
       "      <td>1276</td>\n",
       "      <td>45</td>\n",
       "      <td>26</td>\n",
       "      <td>Intermediate Level</td>\n",
       "      <td>2.0</td>\n",
       "      <td>2016-12-13 14:57:18+00:00</td>\n",
       "      <td>Business Finance</td>\n",
       "    </tr>\n",
       "    <tr>\n",
       "      <th>...</th>\n",
       "      <td>...</td>\n",
       "      <td>...</td>\n",
       "      <td>...</td>\n",
       "      <td>...</td>\n",
       "      <td>...</td>\n",
       "      <td>...</td>\n",
       "      <td>...</td>\n",
       "      <td>...</td>\n",
       "      <td>...</td>\n",
       "      <td>...</td>\n",
       "      <td>...</td>\n",
       "      <td>...</td>\n",
       "    </tr>\n",
       "    <tr>\n",
       "      <th>3673</th>\n",
       "      <td>775618</td>\n",
       "      <td>Learn jQuery from Scratch - Master of JavaScri...</td>\n",
       "      <td>https://www.udemy.com/easy-jquery-for-beginner...</td>\n",
       "      <td>True</td>\n",
       "      <td>100</td>\n",
       "      <td>1040</td>\n",
       "      <td>14</td>\n",
       "      <td>21</td>\n",
       "      <td>All Levels</td>\n",
       "      <td>2.0</td>\n",
       "      <td>2016-06-14 17:36:46+00:00</td>\n",
       "      <td>Web Development</td>\n",
       "    </tr>\n",
       "    <tr>\n",
       "      <th>3674</th>\n",
       "      <td>1088178</td>\n",
       "      <td>How To Design A WordPress Website With No Codi...</td>\n",
       "      <td>https://www.udemy.com/how-to-make-a-wordpress-...</td>\n",
       "      <td>True</td>\n",
       "      <td>25</td>\n",
       "      <td>306</td>\n",
       "      <td>3</td>\n",
       "      <td>42</td>\n",
       "      <td>Beginner Level</td>\n",
       "      <td>3.5</td>\n",
       "      <td>2017-03-10 22:24:30+00:00</td>\n",
       "      <td>Web Development</td>\n",
       "    </tr>\n",
       "    <tr>\n",
       "      <th>3675</th>\n",
       "      <td>635248</td>\n",
       "      <td>Learn and Build using Polymer</td>\n",
       "      <td>https://www.udemy.com/learn-and-build-using-po...</td>\n",
       "      <td>True</td>\n",
       "      <td>40</td>\n",
       "      <td>513</td>\n",
       "      <td>169</td>\n",
       "      <td>48</td>\n",
       "      <td>All Levels</td>\n",
       "      <td>3.5</td>\n",
       "      <td>2015-12-30 16:41:42+00:00</td>\n",
       "      <td>Web Development</td>\n",
       "    </tr>\n",
       "    <tr>\n",
       "      <th>3676</th>\n",
       "      <td>905096</td>\n",
       "      <td>CSS Animations: Create Amazing Effects on Your...</td>\n",
       "      <td>https://www.udemy.com/css-animations-create-am...</td>\n",
       "      <td>True</td>\n",
       "      <td>50</td>\n",
       "      <td>300</td>\n",
       "      <td>31</td>\n",
       "      <td>38</td>\n",
       "      <td>All Levels</td>\n",
       "      <td>3.0</td>\n",
       "      <td>2016-08-11 19:06:15+00:00</td>\n",
       "      <td>Web Development</td>\n",
       "    </tr>\n",
       "    <tr>\n",
       "      <th>3677</th>\n",
       "      <td>297602</td>\n",
       "      <td>Using MODX CMS to Build Websites: A Beginner's...</td>\n",
       "      <td>https://www.udemy.com/using-modx-cms-to-build-...</td>\n",
       "      <td>True</td>\n",
       "      <td>45</td>\n",
       "      <td>901</td>\n",
       "      <td>36</td>\n",
       "      <td>20</td>\n",
       "      <td>Beginner Level</td>\n",
       "      <td>2.0</td>\n",
       "      <td>2014-09-28 19:51:11+00:00</td>\n",
       "      <td>Web Development</td>\n",
       "    </tr>\n",
       "  </tbody>\n",
       "</table>\n",
       "<p>3678 rows × 12 columns</p>\n",
       "</div>"
      ],
      "text/plain": [
       "      course_id                                       course_title  \\\n",
       "0       1070968                 Ultimate Investment Banking Course   \n",
       "1       1113822  Complete GST Course & Certification - Grow You...   \n",
       "2       1006314  Financial Modeling for Business Analysts and C...   \n",
       "3       1210588  Beginner to Pro - Financial Analysis in Excel ...   \n",
       "4       1011058       How To Maximize Your Profits Trading Options   \n",
       "...         ...                                                ...   \n",
       "3673     775618  Learn jQuery from Scratch - Master of JavaScri...   \n",
       "3674    1088178  How To Design A WordPress Website With No Codi...   \n",
       "3675     635248                      Learn and Build using Polymer   \n",
       "3676     905096  CSS Animations: Create Amazing Effects on Your...   \n",
       "3677     297602  Using MODX CMS to Build Websites: A Beginner's...   \n",
       "\n",
       "                                                    url  is_paid  price  \\\n",
       "0     https://www.udemy.com/ultimate-investment-bank...     True    200   \n",
       "1         https://www.udemy.com/goods-and-services-tax/     True     75   \n",
       "2     https://www.udemy.com/financial-modeling-for-b...     True     45   \n",
       "3     https://www.udemy.com/complete-excel-finance-c...     True     95   \n",
       "4     https://www.udemy.com/how-to-maximize-your-pro...     True    200   \n",
       "...                                                 ...      ...    ...   \n",
       "3673  https://www.udemy.com/easy-jquery-for-beginner...     True    100   \n",
       "3674  https://www.udemy.com/how-to-make-a-wordpress-...     True     25   \n",
       "3675  https://www.udemy.com/learn-and-build-using-po...     True     40   \n",
       "3676  https://www.udemy.com/css-animations-create-am...     True     50   \n",
       "3677  https://www.udemy.com/using-modx-cms-to-build-...     True     45   \n",
       "\n",
       "      num_subscribers  num_reviews  num_lectures               level  \\\n",
       "0                2147           23            51          All Levels   \n",
       "1                2792          923           274          All Levels   \n",
       "2                2174           74            51  Intermediate Level   \n",
       "3                2451           11            36          All Levels   \n",
       "4                1276           45            26  Intermediate Level   \n",
       "...               ...          ...           ...                 ...   \n",
       "3673             1040           14            21          All Levels   \n",
       "3674              306            3            42      Beginner Level   \n",
       "3675              513          169            48          All Levels   \n",
       "3676              300           31            38          All Levels   \n",
       "3677              901           36            20      Beginner Level   \n",
       "\n",
       "      content_duration       published_timestamp           subject  \n",
       "0                  1.5 2017-01-18 20:58:58+00:00  Business Finance  \n",
       "1                 39.0 2017-03-09 16:34:20+00:00  Business Finance  \n",
       "2                  2.5 2016-12-19 19:26:30+00:00  Business Finance  \n",
       "3                  3.0 2017-05-30 20:07:24+00:00  Business Finance  \n",
       "4                  2.0 2016-12-13 14:57:18+00:00  Business Finance  \n",
       "...                ...                       ...               ...  \n",
       "3673               2.0 2016-06-14 17:36:46+00:00   Web Development  \n",
       "3674               3.5 2017-03-10 22:24:30+00:00   Web Development  \n",
       "3675               3.5 2015-12-30 16:41:42+00:00   Web Development  \n",
       "3676               3.0 2016-08-11 19:06:15+00:00   Web Development  \n",
       "3677               2.0 2014-09-28 19:51:11+00:00   Web Development  \n",
       "\n",
       "[3678 rows x 12 columns]"
      ]
     },
     "execution_count": 2,
     "metadata": {},
     "output_type": "execute_result"
    }
   ],
   "source": [
    "data=pd.read_csv('../input/udemy-course/udemy_courses.csv',parse_dates=['published_timestamp'])\n",
    "data"
   ]
  },
  {
   "cell_type": "code",
   "execution_count": 3,
   "id": "bc090ee9",
   "metadata": {
    "execution": {
     "iopub.execute_input": "2022-05-11T12:42:39.899807Z",
     "iopub.status.busy": "2022-05-11T12:42:39.899489Z",
     "iopub.status.idle": "2022-05-11T12:42:39.906829Z",
     "shell.execute_reply": "2022-05-11T12:42:39.906258Z"
    },
    "id": "6F8P4yVyjeBp",
    "outputId": "6e72507b-aa03-4d6a-ddd0-aafd43d0a846",
    "papermill": {
     "duration": 0.07095,
     "end_time": "2022-05-11T12:42:39.908545",
     "exception": false,
     "start_time": "2022-05-11T12:42:39.837595",
     "status": "completed"
    },
    "tags": []
   },
   "outputs": [
    {
     "data": {
      "text/plain": [
       "course_id                            int64\n",
       "course_title                        object\n",
       "url                                 object\n",
       "is_paid                               bool\n",
       "price                                int64\n",
       "num_subscribers                      int64\n",
       "num_reviews                          int64\n",
       "num_lectures                         int64\n",
       "level                               object\n",
       "content_duration                   float64\n",
       "published_timestamp    datetime64[ns, UTC]\n",
       "subject                             object\n",
       "dtype: object"
      ]
     },
     "execution_count": 3,
     "metadata": {},
     "output_type": "execute_result"
    }
   ],
   "source": [
    "data.dtypes"
   ]
  },
  {
   "cell_type": "markdown",
   "id": "29aaaca5",
   "metadata": {
    "id": "LevwiEPQiWI8",
    "papermill": {
     "duration": 0.060451,
     "end_time": "2022-05-11T12:42:40.029497",
     "exception": false,
     "start_time": "2022-05-11T12:42:39.969046",
     "status": "completed"
    },
    "tags": []
   },
   "source": [
    "**1.Display Top 10 Rows in our dataset**"
   ]
  },
  {
   "cell_type": "code",
   "execution_count": 4,
   "id": "4735294b",
   "metadata": {
    "execution": {
     "iopub.execute_input": "2022-05-11T12:42:40.156902Z",
     "iopub.status.busy": "2022-05-11T12:42:40.156378Z",
     "iopub.status.idle": "2022-05-11T12:42:40.173987Z",
     "shell.execute_reply": "2022-05-11T12:42:40.172986Z"
    },
    "id": "X9-_tVtAidj9",
    "outputId": "473b789d-fd59-4cc8-b5ef-8e8b628b2d80",
    "papermill": {
     "duration": 0.085183,
     "end_time": "2022-05-11T12:42:40.176288",
     "exception": false,
     "start_time": "2022-05-11T12:42:40.091105",
     "status": "completed"
    },
    "tags": []
   },
   "outputs": [
    {
     "data": {
      "text/html": [
       "<div>\n",
       "<style scoped>\n",
       "    .dataframe tbody tr th:only-of-type {\n",
       "        vertical-align: middle;\n",
       "    }\n",
       "\n",
       "    .dataframe tbody tr th {\n",
       "        vertical-align: top;\n",
       "    }\n",
       "\n",
       "    .dataframe thead th {\n",
       "        text-align: right;\n",
       "    }\n",
       "</style>\n",
       "<table border=\"1\" class=\"dataframe\">\n",
       "  <thead>\n",
       "    <tr style=\"text-align: right;\">\n",
       "      <th></th>\n",
       "      <th>course_id</th>\n",
       "      <th>course_title</th>\n",
       "      <th>url</th>\n",
       "      <th>is_paid</th>\n",
       "      <th>price</th>\n",
       "      <th>num_subscribers</th>\n",
       "      <th>num_reviews</th>\n",
       "      <th>num_lectures</th>\n",
       "      <th>level</th>\n",
       "      <th>content_duration</th>\n",
       "      <th>published_timestamp</th>\n",
       "      <th>subject</th>\n",
       "    </tr>\n",
       "  </thead>\n",
       "  <tbody>\n",
       "    <tr>\n",
       "      <th>0</th>\n",
       "      <td>1070968</td>\n",
       "      <td>Ultimate Investment Banking Course</td>\n",
       "      <td>https://www.udemy.com/ultimate-investment-bank...</td>\n",
       "      <td>True</td>\n",
       "      <td>200</td>\n",
       "      <td>2147</td>\n",
       "      <td>23</td>\n",
       "      <td>51</td>\n",
       "      <td>All Levels</td>\n",
       "      <td>1.5</td>\n",
       "      <td>2017-01-18 20:58:58+00:00</td>\n",
       "      <td>Business Finance</td>\n",
       "    </tr>\n",
       "    <tr>\n",
       "      <th>1</th>\n",
       "      <td>1113822</td>\n",
       "      <td>Complete GST Course &amp; Certification - Grow You...</td>\n",
       "      <td>https://www.udemy.com/goods-and-services-tax/</td>\n",
       "      <td>True</td>\n",
       "      <td>75</td>\n",
       "      <td>2792</td>\n",
       "      <td>923</td>\n",
       "      <td>274</td>\n",
       "      <td>All Levels</td>\n",
       "      <td>39.0</td>\n",
       "      <td>2017-03-09 16:34:20+00:00</td>\n",
       "      <td>Business Finance</td>\n",
       "    </tr>\n",
       "    <tr>\n",
       "      <th>2</th>\n",
       "      <td>1006314</td>\n",
       "      <td>Financial Modeling for Business Analysts and C...</td>\n",
       "      <td>https://www.udemy.com/financial-modeling-for-b...</td>\n",
       "      <td>True</td>\n",
       "      <td>45</td>\n",
       "      <td>2174</td>\n",
       "      <td>74</td>\n",
       "      <td>51</td>\n",
       "      <td>Intermediate Level</td>\n",
       "      <td>2.5</td>\n",
       "      <td>2016-12-19 19:26:30+00:00</td>\n",
       "      <td>Business Finance</td>\n",
       "    </tr>\n",
       "    <tr>\n",
       "      <th>3</th>\n",
       "      <td>1210588</td>\n",
       "      <td>Beginner to Pro - Financial Analysis in Excel ...</td>\n",
       "      <td>https://www.udemy.com/complete-excel-finance-c...</td>\n",
       "      <td>True</td>\n",
       "      <td>95</td>\n",
       "      <td>2451</td>\n",
       "      <td>11</td>\n",
       "      <td>36</td>\n",
       "      <td>All Levels</td>\n",
       "      <td>3.0</td>\n",
       "      <td>2017-05-30 20:07:24+00:00</td>\n",
       "      <td>Business Finance</td>\n",
       "    </tr>\n",
       "    <tr>\n",
       "      <th>4</th>\n",
       "      <td>1011058</td>\n",
       "      <td>How To Maximize Your Profits Trading Options</td>\n",
       "      <td>https://www.udemy.com/how-to-maximize-your-pro...</td>\n",
       "      <td>True</td>\n",
       "      <td>200</td>\n",
       "      <td>1276</td>\n",
       "      <td>45</td>\n",
       "      <td>26</td>\n",
       "      <td>Intermediate Level</td>\n",
       "      <td>2.0</td>\n",
       "      <td>2016-12-13 14:57:18+00:00</td>\n",
       "      <td>Business Finance</td>\n",
       "    </tr>\n",
       "    <tr>\n",
       "      <th>5</th>\n",
       "      <td>192870</td>\n",
       "      <td>Trading Penny Stocks: A Guide for All Levels I...</td>\n",
       "      <td>https://www.udemy.com/trading-penny-stocks-a-g...</td>\n",
       "      <td>True</td>\n",
       "      <td>150</td>\n",
       "      <td>9221</td>\n",
       "      <td>138</td>\n",
       "      <td>25</td>\n",
       "      <td>All Levels</td>\n",
       "      <td>3.0</td>\n",
       "      <td>2014-05-02 15:13:30+00:00</td>\n",
       "      <td>Business Finance</td>\n",
       "    </tr>\n",
       "    <tr>\n",
       "      <th>6</th>\n",
       "      <td>739964</td>\n",
       "      <td>Investing And Trading For Beginners: Mastering...</td>\n",
       "      <td>https://www.udemy.com/investing-and-trading-fo...</td>\n",
       "      <td>True</td>\n",
       "      <td>65</td>\n",
       "      <td>1540</td>\n",
       "      <td>178</td>\n",
       "      <td>26</td>\n",
       "      <td>Beginner Level</td>\n",
       "      <td>1.0</td>\n",
       "      <td>2016-02-21 18:23:12+00:00</td>\n",
       "      <td>Business Finance</td>\n",
       "    </tr>\n",
       "    <tr>\n",
       "      <th>7</th>\n",
       "      <td>403100</td>\n",
       "      <td>Trading Stock Chart Patterns For Immediate, Ex...</td>\n",
       "      <td>https://www.udemy.com/trading-chart-patterns-f...</td>\n",
       "      <td>True</td>\n",
       "      <td>95</td>\n",
       "      <td>2917</td>\n",
       "      <td>148</td>\n",
       "      <td>23</td>\n",
       "      <td>All Levels</td>\n",
       "      <td>2.5</td>\n",
       "      <td>2015-01-30 22:13:03+00:00</td>\n",
       "      <td>Business Finance</td>\n",
       "    </tr>\n",
       "    <tr>\n",
       "      <th>8</th>\n",
       "      <td>476268</td>\n",
       "      <td>Options Trading 3 : Advanced Stock Profit and ...</td>\n",
       "      <td>https://www.udemy.com/day-trading-stock-option...</td>\n",
       "      <td>True</td>\n",
       "      <td>195</td>\n",
       "      <td>5172</td>\n",
       "      <td>34</td>\n",
       "      <td>38</td>\n",
       "      <td>Expert Level</td>\n",
       "      <td>2.5</td>\n",
       "      <td>2015-05-28 00:14:03+00:00</td>\n",
       "      <td>Business Finance</td>\n",
       "    </tr>\n",
       "    <tr>\n",
       "      <th>9</th>\n",
       "      <td>1167710</td>\n",
       "      <td>The Only Investment Strategy You Need For Your...</td>\n",
       "      <td>https://www.udemy.com/the-only-investment-stra...</td>\n",
       "      <td>True</td>\n",
       "      <td>200</td>\n",
       "      <td>827</td>\n",
       "      <td>14</td>\n",
       "      <td>15</td>\n",
       "      <td>All Levels</td>\n",
       "      <td>1.0</td>\n",
       "      <td>2017-04-18 18:13:32+00:00</td>\n",
       "      <td>Business Finance</td>\n",
       "    </tr>\n",
       "  </tbody>\n",
       "</table>\n",
       "</div>"
      ],
      "text/plain": [
       "   course_id                                       course_title  \\\n",
       "0    1070968                 Ultimate Investment Banking Course   \n",
       "1    1113822  Complete GST Course & Certification - Grow You...   \n",
       "2    1006314  Financial Modeling for Business Analysts and C...   \n",
       "3    1210588  Beginner to Pro - Financial Analysis in Excel ...   \n",
       "4    1011058       How To Maximize Your Profits Trading Options   \n",
       "5     192870  Trading Penny Stocks: A Guide for All Levels I...   \n",
       "6     739964  Investing And Trading For Beginners: Mastering...   \n",
       "7     403100  Trading Stock Chart Patterns For Immediate, Ex...   \n",
       "8     476268  Options Trading 3 : Advanced Stock Profit and ...   \n",
       "9    1167710  The Only Investment Strategy You Need For Your...   \n",
       "\n",
       "                                                 url  is_paid  price  \\\n",
       "0  https://www.udemy.com/ultimate-investment-bank...     True    200   \n",
       "1      https://www.udemy.com/goods-and-services-tax/     True     75   \n",
       "2  https://www.udemy.com/financial-modeling-for-b...     True     45   \n",
       "3  https://www.udemy.com/complete-excel-finance-c...     True     95   \n",
       "4  https://www.udemy.com/how-to-maximize-your-pro...     True    200   \n",
       "5  https://www.udemy.com/trading-penny-stocks-a-g...     True    150   \n",
       "6  https://www.udemy.com/investing-and-trading-fo...     True     65   \n",
       "7  https://www.udemy.com/trading-chart-patterns-f...     True     95   \n",
       "8  https://www.udemy.com/day-trading-stock-option...     True    195   \n",
       "9  https://www.udemy.com/the-only-investment-stra...     True    200   \n",
       "\n",
       "   num_subscribers  num_reviews  num_lectures               level  \\\n",
       "0             2147           23            51          All Levels   \n",
       "1             2792          923           274          All Levels   \n",
       "2             2174           74            51  Intermediate Level   \n",
       "3             2451           11            36          All Levels   \n",
       "4             1276           45            26  Intermediate Level   \n",
       "5             9221          138            25          All Levels   \n",
       "6             1540          178            26      Beginner Level   \n",
       "7             2917          148            23          All Levels   \n",
       "8             5172           34            38        Expert Level   \n",
       "9              827           14            15          All Levels   \n",
       "\n",
       "   content_duration       published_timestamp           subject  \n",
       "0               1.5 2017-01-18 20:58:58+00:00  Business Finance  \n",
       "1              39.0 2017-03-09 16:34:20+00:00  Business Finance  \n",
       "2               2.5 2016-12-19 19:26:30+00:00  Business Finance  \n",
       "3               3.0 2017-05-30 20:07:24+00:00  Business Finance  \n",
       "4               2.0 2016-12-13 14:57:18+00:00  Business Finance  \n",
       "5               3.0 2014-05-02 15:13:30+00:00  Business Finance  \n",
       "6               1.0 2016-02-21 18:23:12+00:00  Business Finance  \n",
       "7               2.5 2015-01-30 22:13:03+00:00  Business Finance  \n",
       "8               2.5 2015-05-28 00:14:03+00:00  Business Finance  \n",
       "9               1.0 2017-04-18 18:13:32+00:00  Business Finance  "
      ]
     },
     "execution_count": 4,
     "metadata": {},
     "output_type": "execute_result"
    }
   ],
   "source": [
    "data.head(10)"
   ]
  },
  {
   "cell_type": "markdown",
   "id": "517fa083",
   "metadata": {
    "id": "hxHT8aJGikmi",
    "papermill": {
     "duration": 0.06113,
     "end_time": "2022-05-11T12:42:40.299482",
     "exception": false,
     "start_time": "2022-05-11T12:42:40.238352",
     "status": "completed"
    },
    "tags": []
   },
   "source": [
    "**2.Check last 10 rows in our dataset**"
   ]
  },
  {
   "cell_type": "code",
   "execution_count": 5,
   "id": "728ef455",
   "metadata": {
    "execution": {
     "iopub.execute_input": "2022-05-11T12:42:40.424090Z",
     "iopub.status.busy": "2022-05-11T12:42:40.423765Z",
     "iopub.status.idle": "2022-05-11T12:42:40.441564Z",
     "shell.execute_reply": "2022-05-11T12:42:40.440841Z"
    },
    "id": "5P8WeEs4io8n",
    "outputId": "47c4dbc2-e22b-4723-dc2b-763170dbd680",
    "papermill": {
     "duration": 0.082557,
     "end_time": "2022-05-11T12:42:40.443573",
     "exception": false,
     "start_time": "2022-05-11T12:42:40.361016",
     "status": "completed"
    },
    "tags": []
   },
   "outputs": [
    {
     "data": {
      "text/html": [
       "<div>\n",
       "<style scoped>\n",
       "    .dataframe tbody tr th:only-of-type {\n",
       "        vertical-align: middle;\n",
       "    }\n",
       "\n",
       "    .dataframe tbody tr th {\n",
       "        vertical-align: top;\n",
       "    }\n",
       "\n",
       "    .dataframe thead th {\n",
       "        text-align: right;\n",
       "    }\n",
       "</style>\n",
       "<table border=\"1\" class=\"dataframe\">\n",
       "  <thead>\n",
       "    <tr style=\"text-align: right;\">\n",
       "      <th></th>\n",
       "      <th>course_id</th>\n",
       "      <th>course_title</th>\n",
       "      <th>url</th>\n",
       "      <th>is_paid</th>\n",
       "      <th>price</th>\n",
       "      <th>num_subscribers</th>\n",
       "      <th>num_reviews</th>\n",
       "      <th>num_lectures</th>\n",
       "      <th>level</th>\n",
       "      <th>content_duration</th>\n",
       "      <th>published_timestamp</th>\n",
       "      <th>subject</th>\n",
       "    </tr>\n",
       "  </thead>\n",
       "  <tbody>\n",
       "    <tr>\n",
       "      <th>3668</th>\n",
       "      <td>270976</td>\n",
       "      <td>A how to guide in HTML</td>\n",
       "      <td>https://www.udemy.com/a-how-to-guide-in-html/</td>\n",
       "      <td>False</td>\n",
       "      <td>0</td>\n",
       "      <td>7318</td>\n",
       "      <td>205</td>\n",
       "      <td>8</td>\n",
       "      <td>Beginner Level</td>\n",
       "      <td>0.583333</td>\n",
       "      <td>2014-08-10 20:19:10+00:00</td>\n",
       "      <td>Web Development</td>\n",
       "    </tr>\n",
       "    <tr>\n",
       "      <th>3669</th>\n",
       "      <td>679992</td>\n",
       "      <td>Building Better APIs with GraphQL</td>\n",
       "      <td>https://www.udemy.com/building-better-apis-wit...</td>\n",
       "      <td>True</td>\n",
       "      <td>50</td>\n",
       "      <td>555</td>\n",
       "      <td>89</td>\n",
       "      <td>16</td>\n",
       "      <td>All Levels</td>\n",
       "      <td>2.500000</td>\n",
       "      <td>2015-11-29 22:02:02+00:00</td>\n",
       "      <td>Web Development</td>\n",
       "    </tr>\n",
       "    <tr>\n",
       "      <th>3670</th>\n",
       "      <td>330900</td>\n",
       "      <td>Learn Grunt with Examples: Automate Your Front...</td>\n",
       "      <td>https://www.udemy.com/learn-grunt-automate-you...</td>\n",
       "      <td>True</td>\n",
       "      <td>20</td>\n",
       "      <td>496</td>\n",
       "      <td>113</td>\n",
       "      <td>17</td>\n",
       "      <td>All Levels</td>\n",
       "      <td>1.000000</td>\n",
       "      <td>2014-12-19 21:38:54+00:00</td>\n",
       "      <td>Web Development</td>\n",
       "    </tr>\n",
       "    <tr>\n",
       "      <th>3671</th>\n",
       "      <td>667122</td>\n",
       "      <td>Build A Stock Downloader With Visual Studio 20...</td>\n",
       "      <td>https://www.udemy.com/csharpyahoostockdownloader/</td>\n",
       "      <td>True</td>\n",
       "      <td>20</td>\n",
       "      <td>436</td>\n",
       "      <td>36</td>\n",
       "      <td>22</td>\n",
       "      <td>Intermediate Level</td>\n",
       "      <td>1.500000</td>\n",
       "      <td>2015-11-19 17:22:47+00:00</td>\n",
       "      <td>Web Development</td>\n",
       "    </tr>\n",
       "    <tr>\n",
       "      <th>3672</th>\n",
       "      <td>865438</td>\n",
       "      <td>jQuery UI in Action: Build 5 jQuery UI Projects</td>\n",
       "      <td>https://www.udemy.com/jquery-ui-practical-buil...</td>\n",
       "      <td>True</td>\n",
       "      <td>150</td>\n",
       "      <td>382</td>\n",
       "      <td>28</td>\n",
       "      <td>140</td>\n",
       "      <td>All Levels</td>\n",
       "      <td>15.500000</td>\n",
       "      <td>2016-10-10 22:00:32+00:00</td>\n",
       "      <td>Web Development</td>\n",
       "    </tr>\n",
       "    <tr>\n",
       "      <th>3673</th>\n",
       "      <td>775618</td>\n",
       "      <td>Learn jQuery from Scratch - Master of JavaScri...</td>\n",
       "      <td>https://www.udemy.com/easy-jquery-for-beginner...</td>\n",
       "      <td>True</td>\n",
       "      <td>100</td>\n",
       "      <td>1040</td>\n",
       "      <td>14</td>\n",
       "      <td>21</td>\n",
       "      <td>All Levels</td>\n",
       "      <td>2.000000</td>\n",
       "      <td>2016-06-14 17:36:46+00:00</td>\n",
       "      <td>Web Development</td>\n",
       "    </tr>\n",
       "    <tr>\n",
       "      <th>3674</th>\n",
       "      <td>1088178</td>\n",
       "      <td>How To Design A WordPress Website With No Codi...</td>\n",
       "      <td>https://www.udemy.com/how-to-make-a-wordpress-...</td>\n",
       "      <td>True</td>\n",
       "      <td>25</td>\n",
       "      <td>306</td>\n",
       "      <td>3</td>\n",
       "      <td>42</td>\n",
       "      <td>Beginner Level</td>\n",
       "      <td>3.500000</td>\n",
       "      <td>2017-03-10 22:24:30+00:00</td>\n",
       "      <td>Web Development</td>\n",
       "    </tr>\n",
       "    <tr>\n",
       "      <th>3675</th>\n",
       "      <td>635248</td>\n",
       "      <td>Learn and Build using Polymer</td>\n",
       "      <td>https://www.udemy.com/learn-and-build-using-po...</td>\n",
       "      <td>True</td>\n",
       "      <td>40</td>\n",
       "      <td>513</td>\n",
       "      <td>169</td>\n",
       "      <td>48</td>\n",
       "      <td>All Levels</td>\n",
       "      <td>3.500000</td>\n",
       "      <td>2015-12-30 16:41:42+00:00</td>\n",
       "      <td>Web Development</td>\n",
       "    </tr>\n",
       "    <tr>\n",
       "      <th>3676</th>\n",
       "      <td>905096</td>\n",
       "      <td>CSS Animations: Create Amazing Effects on Your...</td>\n",
       "      <td>https://www.udemy.com/css-animations-create-am...</td>\n",
       "      <td>True</td>\n",
       "      <td>50</td>\n",
       "      <td>300</td>\n",
       "      <td>31</td>\n",
       "      <td>38</td>\n",
       "      <td>All Levels</td>\n",
       "      <td>3.000000</td>\n",
       "      <td>2016-08-11 19:06:15+00:00</td>\n",
       "      <td>Web Development</td>\n",
       "    </tr>\n",
       "    <tr>\n",
       "      <th>3677</th>\n",
       "      <td>297602</td>\n",
       "      <td>Using MODX CMS to Build Websites: A Beginner's...</td>\n",
       "      <td>https://www.udemy.com/using-modx-cms-to-build-...</td>\n",
       "      <td>True</td>\n",
       "      <td>45</td>\n",
       "      <td>901</td>\n",
       "      <td>36</td>\n",
       "      <td>20</td>\n",
       "      <td>Beginner Level</td>\n",
       "      <td>2.000000</td>\n",
       "      <td>2014-09-28 19:51:11+00:00</td>\n",
       "      <td>Web Development</td>\n",
       "    </tr>\n",
       "  </tbody>\n",
       "</table>\n",
       "</div>"
      ],
      "text/plain": [
       "      course_id                                       course_title  \\\n",
       "3668     270976                             A how to guide in HTML   \n",
       "3669     679992                  Building Better APIs with GraphQL   \n",
       "3670     330900  Learn Grunt with Examples: Automate Your Front...   \n",
       "3671     667122  Build A Stock Downloader With Visual Studio 20...   \n",
       "3672     865438    jQuery UI in Action: Build 5 jQuery UI Projects   \n",
       "3673     775618  Learn jQuery from Scratch - Master of JavaScri...   \n",
       "3674    1088178  How To Design A WordPress Website With No Codi...   \n",
       "3675     635248                      Learn and Build using Polymer   \n",
       "3676     905096  CSS Animations: Create Amazing Effects on Your...   \n",
       "3677     297602  Using MODX CMS to Build Websites: A Beginner's...   \n",
       "\n",
       "                                                    url  is_paid  price  \\\n",
       "3668      https://www.udemy.com/a-how-to-guide-in-html/    False      0   \n",
       "3669  https://www.udemy.com/building-better-apis-wit...     True     50   \n",
       "3670  https://www.udemy.com/learn-grunt-automate-you...     True     20   \n",
       "3671  https://www.udemy.com/csharpyahoostockdownloader/     True     20   \n",
       "3672  https://www.udemy.com/jquery-ui-practical-buil...     True    150   \n",
       "3673  https://www.udemy.com/easy-jquery-for-beginner...     True    100   \n",
       "3674  https://www.udemy.com/how-to-make-a-wordpress-...     True     25   \n",
       "3675  https://www.udemy.com/learn-and-build-using-po...     True     40   \n",
       "3676  https://www.udemy.com/css-animations-create-am...     True     50   \n",
       "3677  https://www.udemy.com/using-modx-cms-to-build-...     True     45   \n",
       "\n",
       "      num_subscribers  num_reviews  num_lectures               level  \\\n",
       "3668             7318          205             8      Beginner Level   \n",
       "3669              555           89            16          All Levels   \n",
       "3670              496          113            17          All Levels   \n",
       "3671              436           36            22  Intermediate Level   \n",
       "3672              382           28           140          All Levels   \n",
       "3673             1040           14            21          All Levels   \n",
       "3674              306            3            42      Beginner Level   \n",
       "3675              513          169            48          All Levels   \n",
       "3676              300           31            38          All Levels   \n",
       "3677              901           36            20      Beginner Level   \n",
       "\n",
       "      content_duration       published_timestamp          subject  \n",
       "3668          0.583333 2014-08-10 20:19:10+00:00  Web Development  \n",
       "3669          2.500000 2015-11-29 22:02:02+00:00  Web Development  \n",
       "3670          1.000000 2014-12-19 21:38:54+00:00  Web Development  \n",
       "3671          1.500000 2015-11-19 17:22:47+00:00  Web Development  \n",
       "3672         15.500000 2016-10-10 22:00:32+00:00  Web Development  \n",
       "3673          2.000000 2016-06-14 17:36:46+00:00  Web Development  \n",
       "3674          3.500000 2017-03-10 22:24:30+00:00  Web Development  \n",
       "3675          3.500000 2015-12-30 16:41:42+00:00  Web Development  \n",
       "3676          3.000000 2016-08-11 19:06:15+00:00  Web Development  \n",
       "3677          2.000000 2014-09-28 19:51:11+00:00  Web Development  "
      ]
     },
     "execution_count": 5,
     "metadata": {},
     "output_type": "execute_result"
    }
   ],
   "source": [
    "data.tail(10)"
   ]
  },
  {
   "cell_type": "markdown",
   "id": "72362858",
   "metadata": {
    "id": "xp-r1xAli0o0",
    "papermill": {
     "duration": 0.063801,
     "end_time": "2022-05-11T12:42:40.570748",
     "exception": false,
     "start_time": "2022-05-11T12:42:40.506947",
     "status": "completed"
    },
    "tags": []
   },
   "source": [
    "**3.Find shape of our dataset**"
   ]
  },
  {
   "cell_type": "code",
   "execution_count": 6,
   "id": "13b475fe",
   "metadata": {
    "execution": {
     "iopub.execute_input": "2022-05-11T12:42:40.699036Z",
     "iopub.status.busy": "2022-05-11T12:42:40.698602Z",
     "iopub.status.idle": "2022-05-11T12:42:40.702928Z",
     "shell.execute_reply": "2022-05-11T12:42:40.702361Z"
    },
    "id": "rZWtIIOFlbcu",
    "outputId": "a0113671-9944-4ce5-94d9-a376bf569097",
    "papermill": {
     "duration": 0.071019,
     "end_time": "2022-05-11T12:42:40.704862",
     "exception": false,
     "start_time": "2022-05-11T12:42:40.633843",
     "status": "completed"
    },
    "tags": []
   },
   "outputs": [
    {
     "data": {
      "text/plain": [
       "(3678, 12)"
      ]
     },
     "execution_count": 6,
     "metadata": {},
     "output_type": "execute_result"
    }
   ],
   "source": [
    "data.shape"
   ]
  },
  {
   "cell_type": "code",
   "execution_count": 7,
   "id": "862703e7",
   "metadata": {
    "execution": {
     "iopub.execute_input": "2022-05-11T12:42:40.834335Z",
     "iopub.status.busy": "2022-05-11T12:42:40.833863Z",
     "iopub.status.idle": "2022-05-11T12:42:40.839670Z",
     "shell.execute_reply": "2022-05-11T12:42:40.838401Z"
    },
    "id": "SaMzAA1mleoH",
    "outputId": "75dd1716-52f4-4f17-ca31-c366354f40ab",
    "papermill": {
     "duration": 0.072713,
     "end_time": "2022-05-11T12:42:40.841642",
     "exception": false,
     "start_time": "2022-05-11T12:42:40.768929",
     "status": "completed"
    },
    "tags": []
   },
   "outputs": [
    {
     "name": "stdout",
     "output_type": "stream",
     "text": [
      "No of rows 3678\n",
      "No of columns 12\n"
     ]
    }
   ],
   "source": [
    "print(\"No of rows\",data.shape[0])\n",
    "print(\"No of columns\",data.shape[1])"
   ]
  },
  {
   "cell_type": "markdown",
   "id": "19cff523",
   "metadata": {
    "id": "F9tgzqHyltqX",
    "papermill": {
     "duration": 0.063537,
     "end_time": "2022-05-11T12:42:40.969457",
     "exception": false,
     "start_time": "2022-05-11T12:42:40.905920",
     "status": "completed"
    },
    "tags": []
   },
   "source": [
    "**4.Getting information about our dataset**"
   ]
  },
  {
   "cell_type": "code",
   "execution_count": 8,
   "id": "729c0b4f",
   "metadata": {
    "execution": {
     "iopub.execute_input": "2022-05-11T12:42:41.097875Z",
     "iopub.status.busy": "2022-05-11T12:42:41.097323Z",
     "iopub.status.idle": "2022-05-11T12:42:41.122029Z",
     "shell.execute_reply": "2022-05-11T12:42:41.121272Z"
    },
    "id": "-EKrNHTGl0UN",
    "outputId": "3117acca-026e-42b9-8112-ac91f48a68ef",
    "papermill": {
     "duration": 0.09324,
     "end_time": "2022-05-11T12:42:41.125370",
     "exception": false,
     "start_time": "2022-05-11T12:42:41.032130",
     "status": "completed"
    },
    "tags": []
   },
   "outputs": [
    {
     "name": "stdout",
     "output_type": "stream",
     "text": [
      "<class 'pandas.core.frame.DataFrame'>\n",
      "RangeIndex: 3678 entries, 0 to 3677\n",
      "Data columns (total 12 columns):\n",
      " #   Column               Non-Null Count  Dtype              \n",
      "---  ------               --------------  -----              \n",
      " 0   course_id            3678 non-null   int64              \n",
      " 1   course_title         3678 non-null   object             \n",
      " 2   url                  3678 non-null   object             \n",
      " 3   is_paid              3678 non-null   bool               \n",
      " 4   price                3678 non-null   int64              \n",
      " 5   num_subscribers      3678 non-null   int64              \n",
      " 6   num_reviews          3678 non-null   int64              \n",
      " 7   num_lectures         3678 non-null   int64              \n",
      " 8   level                3678 non-null   object             \n",
      " 9   content_duration     3678 non-null   float64            \n",
      " 10  published_timestamp  3678 non-null   datetime64[ns, UTC]\n",
      " 11  subject              3678 non-null   object             \n",
      "dtypes: bool(1), datetime64[ns, UTC](1), float64(1), int64(5), object(4)\n",
      "memory usage: 319.8+ KB\n"
     ]
    }
   ],
   "source": [
    "data.info()"
   ]
  },
  {
   "cell_type": "markdown",
   "id": "ea69b161",
   "metadata": {
    "id": "bMCqColHl7aY",
    "papermill": {
     "duration": 0.064731,
     "end_time": "2022-05-11T12:42:41.254797",
     "exception": false,
     "start_time": "2022-05-11T12:42:41.190066",
     "status": "completed"
    },
    "tags": []
   },
   "source": [
    "**5.Check Null values in our dataset**"
   ]
  },
  {
   "cell_type": "code",
   "execution_count": 9,
   "id": "5c5113a4",
   "metadata": {
    "execution": {
     "iopub.execute_input": "2022-05-11T12:42:41.386406Z",
     "iopub.status.busy": "2022-05-11T12:42:41.385841Z",
     "iopub.status.idle": "2022-05-11T12:42:41.393598Z",
     "shell.execute_reply": "2022-05-11T12:42:41.392776Z"
    },
    "id": "l535Tq-tnGbY",
    "outputId": "67fa5129-aa1c-471f-c057-89fb8159eca8",
    "papermill": {
     "duration": 0.076529,
     "end_time": "2022-05-11T12:42:41.395634",
     "exception": false,
     "start_time": "2022-05-11T12:42:41.319105",
     "status": "completed"
    },
    "tags": []
   },
   "outputs": [
    {
     "name": "stdout",
     "output_type": "stream",
     "text": [
      "Any null value? False\n"
     ]
    }
   ],
   "source": [
    "print(\"Any null value?\",data.isnull().values.any())"
   ]
  },
  {
   "cell_type": "code",
   "execution_count": 10,
   "id": "0f8c9c0d",
   "metadata": {
    "execution": {
     "iopub.execute_input": "2022-05-11T12:42:41.531051Z",
     "iopub.status.busy": "2022-05-11T12:42:41.530516Z",
     "iopub.status.idle": "2022-05-11T12:42:41.540013Z",
     "shell.execute_reply": "2022-05-11T12:42:41.539407Z"
    },
    "id": "yMZcMZCImSsT",
    "outputId": "09c5b8dc-c119-4f55-bf8e-f7d932332e99",
    "papermill": {
     "duration": 0.077671,
     "end_time": "2022-05-11T12:42:41.542432",
     "exception": false,
     "start_time": "2022-05-11T12:42:41.464761",
     "status": "completed"
    },
    "tags": []
   },
   "outputs": [
    {
     "data": {
      "text/plain": [
       "course_id              0\n",
       "course_title           0\n",
       "url                    0\n",
       "is_paid                0\n",
       "price                  0\n",
       "num_subscribers        0\n",
       "num_reviews            0\n",
       "num_lectures           0\n",
       "level                  0\n",
       "content_duration       0\n",
       "published_timestamp    0\n",
       "subject                0\n",
       "dtype: int64"
      ]
     },
     "execution_count": 10,
     "metadata": {},
     "output_type": "execute_result"
    }
   ],
   "source": [
    "data.isnull().sum()"
   ]
  },
  {
   "cell_type": "code",
   "execution_count": 11,
   "id": "789f57b1",
   "metadata": {
    "execution": {
     "iopub.execute_input": "2022-05-11T12:42:41.672845Z",
     "iopub.status.busy": "2022-05-11T12:42:41.672533Z",
     "iopub.status.idle": "2022-05-11T12:42:42.234121Z",
     "shell.execute_reply": "2022-05-11T12:42:42.233478Z"
    },
    "id": "TkG7-smynWm1",
    "outputId": "db15ca82-310e-4fda-8e7f-c7d4264b1823",
    "papermill": {
     "duration": 0.629362,
     "end_time": "2022-05-11T12:42:42.236233",
     "exception": false,
     "start_time": "2022-05-11T12:42:41.606871",
     "status": "completed"
    },
    "tags": []
   },
   "outputs": [
    {
     "data": {
      "text/plain": [
       "<AxesSubplot:>"
      ]
     },
     "execution_count": 11,
     "metadata": {},
     "output_type": "execute_result"
    },
    {
     "data": {
      "image/png": "[encoded data removed]",
      "text/plain": [
       "<Figure size 432x288 with 2 Axes>"
      ]
     },
     "metadata": {
      "needs_background": "light"
     },
     "output_type": "display_data"
    }
   ],
   "source": [
    "sns.heatmap(data.isnull())"
   ]
  },
  {
   "cell_type": "markdown",
   "id": "0ef4feea",
   "metadata": {
    "id": "SWecP4Psmf1K",
    "papermill": {
     "duration": 0.065414,
     "end_time": "2022-05-11T12:42:42.367344",
     "exception": false,
     "start_time": "2022-05-11T12:42:42.301930",
     "status": "completed"
    },
    "tags": []
   },
   "source": [
    "**6.Check for duplicated data and drop them**"
   ]
  },
  {
   "cell_type": "code",
   "execution_count": 12,
   "id": "18f131df",
   "metadata": {
    "execution": {
     "iopub.execute_input": "2022-05-11T12:42:42.500831Z",
     "iopub.status.busy": "2022-05-11T12:42:42.499989Z",
     "iopub.status.idle": "2022-05-11T12:42:42.513863Z",
     "shell.execute_reply": "2022-05-11T12:42:42.512888Z"
    },
    "id": "DdggXtOmmlXU",
    "outputId": "cc65abba-d67e-4ba8-ce6f-66f48a43b800",
    "papermill": {
     "duration": 0.08371,
     "end_time": "2022-05-11T12:42:42.516471",
     "exception": false,
     "start_time": "2022-05-11T12:42:42.432761",
     "status": "completed"
    },
    "tags": []
   },
   "outputs": [
    {
     "name": "stdout",
     "output_type": "stream",
     "text": [
      "Any duplicated value? True\n"
     ]
    }
   ],
   "source": [
    "dup=data.duplicated().values.any()\n",
    "print(\"Any duplicated value?\",dup)"
   ]
  },
  {
   "cell_type": "code",
   "execution_count": 13,
   "id": "10e94d27",
   "metadata": {
    "execution": {
     "iopub.execute_input": "2022-05-11T12:42:42.651224Z",
     "iopub.status.busy": "2022-05-11T12:42:42.650822Z",
     "iopub.status.idle": "2022-05-11T12:42:42.663271Z",
     "shell.execute_reply": "2022-05-11T12:42:42.662508Z"
    },
    "id": "EhQEHdStnvMY",
    "papermill": {
     "duration": 0.082674,
     "end_time": "2022-05-11T12:42:42.665534",
     "exception": false,
     "start_time": "2022-05-11T12:42:42.582860",
     "status": "completed"
    },
    "tags": []
   },
   "outputs": [],
   "source": [
    "data=data.drop_duplicates()"
   ]
  },
  {
   "cell_type": "code",
   "execution_count": 14,
   "id": "7057c1fb",
   "metadata": {
    "execution": {
     "iopub.execute_input": "2022-05-11T12:42:42.806534Z",
     "iopub.status.busy": "2022-05-11T12:42:42.805611Z",
     "iopub.status.idle": "2022-05-11T12:42:42.817869Z",
     "shell.execute_reply": "2022-05-11T12:42:42.816920Z"
    },
    "id": "SkCVBuenoxy-",
    "outputId": "a3fa0d7f-f01b-44b3-9e79-0183f16aa4ec",
    "papermill": {
     "duration": 0.086583,
     "end_time": "2022-05-11T12:42:42.819974",
     "exception": false,
     "start_time": "2022-05-11T12:42:42.733391",
     "status": "completed"
    },
    "tags": []
   },
   "outputs": [
    {
     "name": "stdout",
     "output_type": "stream",
     "text": [
      "Any duplicated value? False\n"
     ]
    }
   ],
   "source": [
    "dup=data.duplicated().values.any()\n",
    "print(\"Any duplicated value?\",dup)"
   ]
  },
  {
   "cell_type": "markdown",
   "id": "71d0727c",
   "metadata": {
    "id": "1jf7GGhWoz6K",
    "papermill": {
     "duration": 0.068639,
     "end_time": "2022-05-11T12:42:42.955173",
     "exception": false,
     "start_time": "2022-05-11T12:42:42.886534",
     "status": "completed"
    },
    "tags": []
   },
   "source": [
    "**7.Find out Number of Courses Per Subject**"
   ]
  },
  {
   "cell_type": "code",
   "execution_count": 15,
   "id": "bc57adff",
   "metadata": {
    "execution": {
     "iopub.execute_input": "2022-05-11T12:42:43.091695Z",
     "iopub.status.busy": "2022-05-11T12:42:43.090838Z",
     "iopub.status.idle": "2022-05-11T12:42:43.097169Z",
     "shell.execute_reply": "2022-05-11T12:42:43.096378Z"
    },
    "id": "dp_E51Fgo73k",
    "outputId": "fff12af4-4a5c-4dcb-96c0-e3b887e2dd6e",
    "papermill": {
     "duration": 0.076437,
     "end_time": "2022-05-11T12:42:43.099332",
     "exception": false,
     "start_time": "2022-05-11T12:42:43.022895",
     "status": "completed"
    },
    "tags": []
   },
   "outputs": [
    {
     "data": {
      "text/plain": [
       "Index(['course_id', 'course_title', 'url', 'is_paid', 'price',\n",
       "       'num_subscribers', 'num_reviews', 'num_lectures', 'level',\n",
       "       'content_duration', 'published_timestamp', 'subject'],\n",
       "      dtype='object')"
      ]
     },
     "execution_count": 15,
     "metadata": {},
     "output_type": "execute_result"
    }
   ],
   "source": [
    "data.columns"
   ]
  },
  {
   "cell_type": "code",
   "execution_count": 16,
   "id": "cf0ea762",
   "metadata": {
    "execution": {
     "iopub.execute_input": "2022-05-11T12:42:43.243197Z",
     "iopub.status.busy": "2022-05-11T12:42:43.242758Z",
     "iopub.status.idle": "2022-05-11T12:42:43.251296Z",
     "shell.execute_reply": "2022-05-11T12:42:43.250342Z"
    },
    "id": "NQ42Cyozq7-I",
    "outputId": "d0d208be-eabc-4a2a-efae-32d8f3245164",
    "papermill": {
     "duration": 0.082507,
     "end_time": "2022-05-11T12:42:43.253426",
     "exception": false,
     "start_time": "2022-05-11T12:42:43.170919",
     "status": "completed"
    },
    "tags": []
   },
   "outputs": [
    {
     "data": {
      "text/plain": [
       "Web Development        1199\n",
       "Business Finance       1191\n",
       "Musical Instruments     680\n",
       "Graphic Design          602\n",
       "Name: subject, dtype: int64"
      ]
     },
     "execution_count": 16,
     "metadata": {},
     "output_type": "execute_result"
    }
   ],
   "source": [
    "data['subject'].value_counts()"
   ]
  },
  {
   "cell_type": "code",
   "execution_count": 17,
   "id": "88fa37d6",
   "metadata": {
    "execution": {
     "iopub.execute_input": "2022-05-11T12:42:43.395721Z",
     "iopub.status.busy": "2022-05-11T12:42:43.395436Z",
     "iopub.status.idle": "2022-05-11T12:42:43.591798Z",
     "shell.execute_reply": "2022-05-11T12:42:43.590686Z"
    },
    "id": "_LJbGRhOrcUL",
    "outputId": "12fb5c1a-8344-4bec-bcbe-9067608f0844",
    "papermill": {
     "duration": 0.270023,
     "end_time": "2022-05-11T12:42:43.594699",
     "exception": false,
     "start_time": "2022-05-11T12:42:43.324676",
     "status": "completed"
    },
    "tags": []
   },
   "outputs": [
    {
     "name": "stderr",
     "output_type": "stream",
     "text": [
      "/opt/conda/lib/python3.7/site-packages/seaborn/_decorators.py:43: FutureWarning: Pass the following variable as a keyword arg: x. From version 0.12, the only valid positional argument will be `data`, and passing other arguments without an explicit keyword will result in an error or misinterpretation.\n",
      "  FutureWarning\n"
     ]
    },
    {
     "data": {
      "image/png": "[encoded data removed]",
      "text/plain": [
       "<Figure size 432x288 with 1 Axes>"
      ]
     },
     "metadata": {
      "needs_background": "light"
     },
     "output_type": "display_data"
    }
   ],
   "source": [
    "sns.countplot(data['subject'])\n",
    "plt.ylabel(\"No fo courses per subject\",fontsize=10)\n",
    "plt.xlabel(\"Subject\",fontsize=10)\n",
    "plt.xticks(rotation=60)\n",
    "plt.show()"
   ]
  },
  {
   "cell_type": "markdown",
   "id": "df5c0d7b",
   "metadata": {
    "id": "itkJiSKWsU8n",
    "papermill": {
     "duration": 0.071412,
     "end_time": "2022-05-11T12:42:43.741791",
     "exception": false,
     "start_time": "2022-05-11T12:42:43.670379",
     "status": "completed"
    },
    "tags": []
   },
   "source": [
    "**8.For which level Udemy Courses Providing the courses**"
   ]
  },
  {
   "cell_type": "code",
   "execution_count": 18,
   "id": "cd25b405",
   "metadata": {
    "execution": {
     "iopub.execute_input": "2022-05-11T12:42:43.885221Z",
     "iopub.status.busy": "2022-05-11T12:42:43.884721Z",
     "iopub.status.idle": "2022-05-11T12:42:43.890002Z",
     "shell.execute_reply": "2022-05-11T12:42:43.889379Z"
    },
    "id": "IC5Wbu5IskZs",
    "outputId": "3971117d-38a5-433e-9d14-663de3f41195",
    "papermill": {
     "duration": 0.079312,
     "end_time": "2022-05-11T12:42:43.892158",
     "exception": false,
     "start_time": "2022-05-11T12:42:43.812846",
     "status": "completed"
    },
    "tags": []
   },
   "outputs": [
    {
     "data": {
      "text/plain": [
       "Index(['course_id', 'course_title', 'url', 'is_paid', 'price',\n",
       "       'num_subscribers', 'num_reviews', 'num_lectures', 'level',\n",
       "       'content_duration', 'published_timestamp', 'subject'],\n",
       "      dtype='object')"
      ]
     },
     "execution_count": 18,
     "metadata": {},
     "output_type": "execute_result"
    }
   ],
   "source": [
    "data.columns"
   ]
  },
  {
   "cell_type": "code",
   "execution_count": 19,
   "id": "c117c282",
   "metadata": {
    "execution": {
     "iopub.execute_input": "2022-05-11T12:42:44.033347Z",
     "iopub.status.busy": "2022-05-11T12:42:44.032770Z",
     "iopub.status.idle": "2022-05-11T12:42:44.039932Z",
     "shell.execute_reply": "2022-05-11T12:42:44.039364Z"
    },
    "id": "ubocWOXMs-n2",
    "outputId": "6380cbe1-561e-43a2-d066-f33c39a0f2f9",
    "papermill": {
     "duration": 0.080268,
     "end_time": "2022-05-11T12:42:44.041790",
     "exception": false,
     "start_time": "2022-05-11T12:42:43.961522",
     "status": "completed"
    },
    "tags": []
   },
   "outputs": [
    {
     "data": {
      "text/plain": [
       "All Levels            1925\n",
       "Beginner Level        1268\n",
       "Intermediate Level     421\n",
       "Expert Level            58\n",
       "Name: level, dtype: int64"
      ]
     },
     "execution_count": 19,
     "metadata": {},
     "output_type": "execute_result"
    }
   ],
   "source": [
    "data['level'].value_counts()"
   ]
  },
  {
   "cell_type": "code",
   "execution_count": 20,
   "id": "30cc09d5",
   "metadata": {
    "execution": {
     "iopub.execute_input": "2022-05-11T12:42:44.186596Z",
     "iopub.status.busy": "2022-05-11T12:42:44.186026Z",
     "iopub.status.idle": "2022-05-11T12:42:44.373347Z",
     "shell.execute_reply": "2022-05-11T12:42:44.372177Z"
    },
    "id": "TSxD9IH9s7ZU",
    "outputId": "cae49a4d-d999-4377-ee68-844bb917eeff",
    "papermill": {
     "duration": 0.262497,
     "end_time": "2022-05-11T12:42:44.375744",
     "exception": false,
     "start_time": "2022-05-11T12:42:44.113247",
     "status": "completed"
    },
    "tags": []
   },
   "outputs": [
    {
     "name": "stderr",
     "output_type": "stream",
     "text": [
      "/opt/conda/lib/python3.7/site-packages/seaborn/_decorators.py:43: FutureWarning: Pass the following variable as a keyword arg: x. From version 0.12, the only valid positional argument will be `data`, and passing other arguments without an explicit keyword will result in an error or misinterpretation.\n",
      "  FutureWarning\n"
     ]
    },
    {
     "data": {
      "image/png": "[encoded data removed]",
      "text/plain": [
       "<Figure size 432x288 with 1 Axes>"
      ]
     },
     "metadata": {
      "needs_background": "light"
     },
     "output_type": "display_data"
    }
   ],
   "source": [
    "sns.countplot(data['level'])\n",
    "plt.ylabel(\"No fo level per courses\",fontsize=10)\n",
    "plt.xlabel(\"level\",fontsize=10)\n",
    "plt.xticks(rotation=60)\n",
    "plt.show()"
   ]
  },
  {
   "cell_type": "markdown",
   "id": "4788cfd3",
   "metadata": {
    "id": "jAgj64zatZ_t",
    "papermill": {
     "duration": 0.072057,
     "end_time": "2022-05-11T12:42:44.520624",
     "exception": false,
     "start_time": "2022-05-11T12:42:44.448567",
     "status": "completed"
    },
    "tags": []
   },
   "source": [
    "**9.Display the count of paid and free courses**"
   ]
  },
  {
   "cell_type": "code",
   "execution_count": 21,
   "id": "5ffdfb24",
   "metadata": {
    "execution": {
     "iopub.execute_input": "2022-05-11T12:42:44.665825Z",
     "iopub.status.busy": "2022-05-11T12:42:44.665531Z",
     "iopub.status.idle": "2022-05-11T12:42:44.671474Z",
     "shell.execute_reply": "2022-05-11T12:42:44.670744Z"
    },
    "id": "QIUE3AWctoNp",
    "outputId": "13bfeecb-7b1e-4fb1-e4f0-b1bec2a84e8f",
    "papermill": {
     "duration": 0.080842,
     "end_time": "2022-05-11T12:42:44.673208",
     "exception": false,
     "start_time": "2022-05-11T12:42:44.592366",
     "status": "completed"
    },
    "tags": []
   },
   "outputs": [
    {
     "data": {
      "text/plain": [
       "Index(['course_id', 'course_title', 'url', 'is_paid', 'price',\n",
       "       'num_subscribers', 'num_reviews', 'num_lectures', 'level',\n",
       "       'content_duration', 'published_timestamp', 'subject'],\n",
       "      dtype='object')"
      ]
     },
     "execution_count": 21,
     "metadata": {},
     "output_type": "execute_result"
    }
   ],
   "source": [
    "data.columns"
   ]
  },
  {
   "cell_type": "code",
   "execution_count": 22,
   "id": "a4fc2a10",
   "metadata": {
    "execution": {
     "iopub.execute_input": "2022-05-11T12:42:44.820073Z",
     "iopub.status.busy": "2022-05-11T12:42:44.819511Z",
     "iopub.status.idle": "2022-05-11T12:42:44.826043Z",
     "shell.execute_reply": "2022-05-11T12:42:44.825490Z"
    },
    "id": "r90TFsxit3Xz",
    "outputId": "f32b11b2-5124-41ec-c381-8573ed3de872",
    "papermill": {
     "duration": 0.082765,
     "end_time": "2022-05-11T12:42:44.828211",
     "exception": false,
     "start_time": "2022-05-11T12:42:44.745446",
     "status": "completed"
    },
    "tags": []
   },
   "outputs": [
    {
     "data": {
      "text/plain": [
       "True     3362\n",
       "False     310\n",
       "Name: is_paid, dtype: int64"
      ]
     },
     "execution_count": 22,
     "metadata": {},
     "output_type": "execute_result"
    }
   ],
   "source": [
    "data['is_paid'].value_counts()"
   ]
  },
  {
   "cell_type": "code",
   "execution_count": 23,
   "id": "2938ab8e",
   "metadata": {
    "execution": {
     "iopub.execute_input": "2022-05-11T12:42:44.973483Z",
     "iopub.status.busy": "2022-05-11T12:42:44.972887Z",
     "iopub.status.idle": "2022-05-11T12:42:45.093775Z",
     "shell.execute_reply": "2022-05-11T12:42:45.091899Z"
    },
    "id": "4DJmO4tRuPSy",
    "outputId": "75b25fa2-85b3-4a6d-e7ae-cc0e40571446",
    "papermill": {
     "duration": 0.197373,
     "end_time": "2022-05-11T12:42:45.097317",
     "exception": false,
     "start_time": "2022-05-11T12:42:44.899944",
     "status": "completed"
    },
    "tags": []
   },
   "outputs": [
    {
     "name": "stderr",
     "output_type": "stream",
     "text": [
      "/opt/conda/lib/python3.7/site-packages/seaborn/_decorators.py:43: FutureWarning: Pass the following variable as a keyword arg: x. From version 0.12, the only valid positional argument will be `data`, and passing other arguments without an explicit keyword will result in an error or misinterpretation.\n",
      "  FutureWarning\n"
     ]
    },
    {
     "data": {
      "image/png": "[encoded data removed]",
      "text/plain": [
       "<Figure size 432x288 with 1 Axes>"
      ]
     },
     "metadata": {
      "needs_background": "light"
     },
     "output_type": "display_data"
    }
   ],
   "source": [
    "sns.countplot(data['is_paid'])\n",
    "plt.ylabel(\"No of free and paid couses\",fontsize=10)\n",
    "plt.xlabel(\"is_paid\",fontsize=10)\n",
    "plt.xticks(rotation=60)\n",
    "plt.show()"
   ]
  },
  {
   "cell_type": "markdown",
   "id": "73423622",
   "metadata": {
    "id": "3Za7DX7iueUW",
    "papermill": {
     "duration": 0.074524,
     "end_time": "2022-05-11T12:42:45.257056",
     "exception": false,
     "start_time": "2022-05-11T12:42:45.182532",
     "status": "completed"
    },
    "tags": []
   },
   "source": [
    "**10.Which Course Has more lectures(free or paid)**"
   ]
  },
  {
   "cell_type": "code",
   "execution_count": 24,
   "id": "16d3d9b1",
   "metadata": {
    "execution": {
     "iopub.execute_input": "2022-05-11T12:42:45.406868Z",
     "iopub.status.busy": "2022-05-11T12:42:45.406070Z",
     "iopub.status.idle": "2022-05-11T12:42:45.411713Z",
     "shell.execute_reply": "2022-05-11T12:42:45.411032Z"
    },
    "id": "6vS3rybcukXT",
    "outputId": "f9ff53cf-ea76-43a4-d663-40687ebcaf83",
    "papermill": {
     "duration": 0.083112,
     "end_time": "2022-05-11T12:42:45.413650",
     "exception": false,
     "start_time": "2022-05-11T12:42:45.330538",
     "status": "completed"
    },
    "tags": []
   },
   "outputs": [
    {
     "data": {
      "text/plain": [
       "Index(['course_id', 'course_title', 'url', 'is_paid', 'price',\n",
       "       'num_subscribers', 'num_reviews', 'num_lectures', 'level',\n",
       "       'content_duration', 'published_timestamp', 'subject'],\n",
       "      dtype='object')"
      ]
     },
     "execution_count": 24,
     "metadata": {},
     "output_type": "execute_result"
    }
   ],
   "source": [
    "data.columns"
   ]
  },
  {
   "cell_type": "code",
   "execution_count": 25,
   "id": "742be9a7",
   "metadata": {
    "execution": {
     "iopub.execute_input": "2022-05-11T12:42:45.562874Z",
     "iopub.status.busy": "2022-05-11T12:42:45.562332Z",
     "iopub.status.idle": "2022-05-11T12:42:45.579044Z",
     "shell.execute_reply": "2022-05-11T12:42:45.578451Z"
    },
    "id": "rQG4PJH5uzb0",
    "outputId": "fd977a67-f70e-4af2-dbb6-bd97319ba329",
    "papermill": {
     "duration": 0.093738,
     "end_time": "2022-05-11T12:42:45.580843",
     "exception": false,
     "start_time": "2022-05-11T12:42:45.487105",
     "status": "completed"
    },
    "tags": []
   },
   "outputs": [
    {
     "data": {
      "text/html": [
       "<div>\n",
       "<style scoped>\n",
       "    .dataframe tbody tr th:only-of-type {\n",
       "        vertical-align: middle;\n",
       "    }\n",
       "\n",
       "    .dataframe tbody tr th {\n",
       "        vertical-align: top;\n",
       "    }\n",
       "\n",
       "    .dataframe thead th {\n",
       "        text-align: right;\n",
       "    }\n",
       "</style>\n",
       "<table border=\"1\" class=\"dataframe\">\n",
       "  <thead>\n",
       "    <tr style=\"text-align: right;\">\n",
       "      <th></th>\n",
       "      <th>course_id</th>\n",
       "      <th>price</th>\n",
       "      <th>num_subscribers</th>\n",
       "      <th>num_reviews</th>\n",
       "      <th>num_lectures</th>\n",
       "      <th>content_duration</th>\n",
       "    </tr>\n",
       "    <tr>\n",
       "      <th>is_paid</th>\n",
       "      <th></th>\n",
       "      <th></th>\n",
       "      <th></th>\n",
       "      <th></th>\n",
       "      <th></th>\n",
       "      <th></th>\n",
       "    </tr>\n",
       "  </thead>\n",
       "  <tbody>\n",
       "    <tr>\n",
       "      <th>False</th>\n",
       "      <td>691446.970968</td>\n",
       "      <td>0.000000</td>\n",
       "      <td>11533.951613</td>\n",
       "      <td>425.929032</td>\n",
       "      <td>21.416129</td>\n",
       "      <td>2.210753</td>\n",
       "    </tr>\n",
       "    <tr>\n",
       "      <th>True</th>\n",
       "      <td>674463.946163</td>\n",
       "      <td>72.198096</td>\n",
       "      <td>2421.270077</td>\n",
       "      <td>131.516359</td>\n",
       "      <td>41.866746</td>\n",
       "      <td>4.271584</td>\n",
       "    </tr>\n",
       "  </tbody>\n",
       "</table>\n",
       "</div>"
      ],
      "text/plain": [
       "             course_id      price  num_subscribers  num_reviews  num_lectures  \\\n",
       "is_paid                                                                         \n",
       "False    691446.970968   0.000000     11533.951613   425.929032     21.416129   \n",
       "True     674463.946163  72.198096      2421.270077   131.516359     41.866746   \n",
       "\n",
       "         content_duration  \n",
       "is_paid                    \n",
       "False            2.210753  \n",
       "True             4.271584  "
      ]
     },
     "execution_count": 25,
     "metadata": {},
     "output_type": "execute_result"
    }
   ],
   "source": [
    "data.groupby(\"is_paid\").mean()"
   ]
  },
  {
   "cell_type": "markdown",
   "id": "590aa37b",
   "metadata": {
    "id": "UIf1-0AqviiN",
    "papermill": {
     "duration": 0.073732,
     "end_time": "2022-05-11T12:42:45.728917",
     "exception": false,
     "start_time": "2022-05-11T12:42:45.655185",
     "status": "completed"
    },
    "tags": []
   },
   "source": [
    "**11.Which course have a higher number of subscribers free or paid**"
   ]
  },
  {
   "cell_type": "code",
   "execution_count": 26,
   "id": "b92b3cc8",
   "metadata": {
    "execution": {
     "iopub.execute_input": "2022-05-11T12:42:45.881025Z",
     "iopub.status.busy": "2022-05-11T12:42:45.880434Z",
     "iopub.status.idle": "2022-05-11T12:42:45.886023Z",
     "shell.execute_reply": "2022-05-11T12:42:45.885232Z"
    },
    "id": "WsMUTIsuvrU3",
    "outputId": "7273d439-4567-42ff-dadb-885a6f5b3b47",
    "papermill": {
     "duration": 0.083022,
     "end_time": "2022-05-11T12:42:45.887995",
     "exception": false,
     "start_time": "2022-05-11T12:42:45.804973",
     "status": "completed"
    },
    "tags": []
   },
   "outputs": [
    {
     "data": {
      "text/plain": [
       "Index(['course_id', 'course_title', 'url', 'is_paid', 'price',\n",
       "       'num_subscribers', 'num_reviews', 'num_lectures', 'level',\n",
       "       'content_duration', 'published_timestamp', 'subject'],\n",
       "      dtype='object')"
      ]
     },
     "execution_count": 26,
     "metadata": {},
     "output_type": "execute_result"
    }
   ],
   "source": [
    "data.columns"
   ]
  },
  {
   "cell_type": "code",
   "execution_count": 27,
   "id": "f35cff46",
   "metadata": {
    "execution": {
     "iopub.execute_input": "2022-05-11T12:42:46.038538Z",
     "iopub.status.busy": "2022-05-11T12:42:46.037974Z",
     "iopub.status.idle": "2022-05-11T12:42:46.330441Z",
     "shell.execute_reply": "2022-05-11T12:42:46.329461Z"
    },
    "id": "QYwM_yUnwaij",
    "outputId": "19f669a8-e1f6-4e18-aa8d-e50e2313cfe9",
    "papermill": {
     "duration": 0.370724,
     "end_time": "2022-05-11T12:42:46.332604",
     "exception": false,
     "start_time": "2022-05-11T12:42:45.961880",
     "status": "completed"
    },
    "tags": []
   },
   "outputs": [
    {
     "data": {
      "text/plain": [
       "<AxesSubplot:xlabel='is_paid', ylabel='num_subscribers'>"
      ]
     },
     "execution_count": 27,
     "metadata": {},
     "output_type": "execute_result"
    },
    {
     "data": {
      "image/png": "[encoded data removed]",
      "text/plain": [
       "<Figure size 432x288 with 1 Axes>"
      ]
     },
     "metadata": {
      "needs_background": "light"
     },
     "output_type": "display_data"
    }
   ],
   "source": [
    "sns.barplot(x=\"is_paid\",y=\"num_subscribers\",data=data)"
   ]
  },
  {
   "cell_type": "markdown",
   "id": "5c7d9591",
   "metadata": {
    "id": "ENHQre-hwsl9",
    "papermill": {
     "duration": 0.077424,
     "end_time": "2022-05-11T12:42:46.488003",
     "exception": false,
     "start_time": "2022-05-11T12:42:46.410579",
     "status": "completed"
    },
    "tags": []
   },
   "source": [
    "**12.Which level has the highest number of subscriberst**"
   ]
  },
  {
   "cell_type": "code",
   "execution_count": 28,
   "id": "82493cea",
   "metadata": {
    "execution": {
     "iopub.execute_input": "2022-05-11T12:42:46.643175Z",
     "iopub.status.busy": "2022-05-11T12:42:46.642864Z",
     "iopub.status.idle": "2022-05-11T12:42:46.649413Z",
     "shell.execute_reply": "2022-05-11T12:42:46.648461Z"
    },
    "id": "bhyhYCdTwxya",
    "outputId": "bd24935f-8dcd-4fff-f81f-2710efcbb2de",
    "papermill": {
     "duration": 0.085771,
     "end_time": "2022-05-11T12:42:46.651495",
     "exception": false,
     "start_time": "2022-05-11T12:42:46.565724",
     "status": "completed"
    },
    "tags": []
   },
   "outputs": [
    {
     "data": {
      "text/plain": [
       "Index(['course_id', 'course_title', 'url', 'is_paid', 'price',\n",
       "       'num_subscribers', 'num_reviews', 'num_lectures', 'level',\n",
       "       'content_duration', 'published_timestamp', 'subject'],\n",
       "      dtype='object')"
      ]
     },
     "execution_count": 28,
     "metadata": {},
     "output_type": "execute_result"
    }
   ],
   "source": [
    "data.columns"
   ]
  },
  {
   "cell_type": "code",
   "execution_count": 29,
   "id": "4607b7ca",
   "metadata": {
    "execution": {
     "iopub.execute_input": "2022-05-11T12:42:46.808031Z",
     "iopub.status.busy": "2022-05-11T12:42:46.807470Z",
     "iopub.status.idle": "2022-05-11T12:42:47.166469Z",
     "shell.execute_reply": "2022-05-11T12:42:47.165391Z"
    },
    "id": "JmM_ASa5w3kU",
    "outputId": "659bbb15-922f-47b7-9267-0480b9a8f3a9",
    "papermill": {
     "duration": 0.44099,
     "end_time": "2022-05-11T12:42:47.169466",
     "exception": false,
     "start_time": "2022-05-11T12:42:46.728476",
     "status": "completed"
    },
    "tags": []
   },
   "outputs": [
    {
     "data": {
      "image/png": "[encoded data removed]",
      "text/plain": [
       "<Figure size 432x288 with 1 Axes>"
      ]
     },
     "metadata": {
      "needs_background": "light"
     },
     "output_type": "display_data"
    }
   ],
   "source": [
    "sns.barplot(x=\"level\",y=\"num_subscribers\",data=data)\n",
    "plt.xticks(rotation=60) \n",
    "plt.show()"
   ]
  },
  {
   "cell_type": "markdown",
   "id": "bd3f799d",
   "metadata": {
    "id": "_Bp_9X-5xLrn",
    "papermill": {
     "duration": 0.080643,
     "end_time": "2022-05-11T12:42:47.327682",
     "exception": false,
     "start_time": "2022-05-11T12:42:47.247039",
     "status": "completed"
    },
    "tags": []
   },
   "source": [
    "**13.Find most popular Course Title**"
   ]
  },
  {
   "cell_type": "code",
   "execution_count": 30,
   "id": "8305ba03",
   "metadata": {
    "execution": {
     "iopub.execute_input": "2022-05-11T12:42:47.501595Z",
     "iopub.status.busy": "2022-05-11T12:42:47.501296Z",
     "iopub.status.idle": "2022-05-11T12:42:47.507338Z",
     "shell.execute_reply": "2022-05-11T12:42:47.506487Z"
    },
    "id": "GjBgIQr0xeHy",
    "outputId": "64a07075-85bf-4236-a290-e684d3412ba4",
    "papermill": {
     "duration": 0.086523,
     "end_time": "2022-05-11T12:42:47.509839",
     "exception": false,
     "start_time": "2022-05-11T12:42:47.423316",
     "status": "completed"
    },
    "tags": []
   },
   "outputs": [
    {
     "data": {
      "text/plain": [
       "Index(['course_id', 'course_title', 'url', 'is_paid', 'price',\n",
       "       'num_subscribers', 'num_reviews', 'num_lectures', 'level',\n",
       "       'content_duration', 'published_timestamp', 'subject'],\n",
       "      dtype='object')"
      ]
     },
     "execution_count": 30,
     "metadata": {},
     "output_type": "execute_result"
    }
   ],
   "source": [
    "data.columns"
   ]
  },
  {
   "cell_type": "code",
   "execution_count": 31,
   "id": "fb4039da",
   "metadata": {
    "execution": {
     "iopub.execute_input": "2022-05-11T12:42:47.667365Z",
     "iopub.status.busy": "2022-05-11T12:42:47.666769Z",
     "iopub.status.idle": "2022-05-11T12:42:47.675564Z",
     "shell.execute_reply": "2022-05-11T12:42:47.674672Z"
    },
    "id": "JSzHGLy8y4ND",
    "outputId": "90fcffdc-f3f5-4c5a-8c40-5061a8c973bd",
    "papermill": {
     "duration": 0.089624,
     "end_time": "2022-05-11T12:42:47.677872",
     "exception": false,
     "start_time": "2022-05-11T12:42:47.588248",
     "status": "completed"
    },
    "tags": []
   },
   "outputs": [
    {
     "data": {
      "text/plain": [
       "2827    Learn HTML5 Programming From Scratch\n",
       "Name: course_title, dtype: object"
      ]
     },
     "execution_count": 31,
     "metadata": {},
     "output_type": "execute_result"
    }
   ],
   "source": [
    "data[data['num_subscribers'].max()==data['num_subscribers']]['course_title']"
   ]
  },
  {
   "cell_type": "markdown",
   "id": "b86527bb",
   "metadata": {
    "id": "5G6VkdIF0Mno",
    "papermill": {
     "duration": 0.076715,
     "end_time": "2022-05-11T12:42:47.834821",
     "exception": false,
     "start_time": "2022-05-11T12:42:47.758106",
     "status": "completed"
    },
    "tags": []
   },
   "source": [
    "**14.Display 10 most Popular Course As per Number of subscribers**"
   ]
  },
  {
   "cell_type": "code",
   "execution_count": 32,
   "id": "215be57b",
   "metadata": {
    "execution": {
     "iopub.execute_input": "2022-05-11T12:42:47.990789Z",
     "iopub.status.busy": "2022-05-11T12:42:47.990475Z",
     "iopub.status.idle": "2022-05-11T12:42:47.997242Z",
     "shell.execute_reply": "2022-05-11T12:42:47.996154Z"
    },
    "id": "A0LfFfO00ZPp",
    "outputId": "a79985e9-3054-4711-862c-cd8492b65426",
    "papermill": {
     "duration": 0.087281,
     "end_time": "2022-05-11T12:42:47.999402",
     "exception": false,
     "start_time": "2022-05-11T12:42:47.912121",
     "status": "completed"
    },
    "tags": []
   },
   "outputs": [
    {
     "data": {
      "text/plain": [
       "Index(['course_id', 'course_title', 'url', 'is_paid', 'price',\n",
       "       'num_subscribers', 'num_reviews', 'num_lectures', 'level',\n",
       "       'content_duration', 'published_timestamp', 'subject'],\n",
       "      dtype='object')"
      ]
     },
     "execution_count": 32,
     "metadata": {},
     "output_type": "execute_result"
    }
   ],
   "source": [
    "data.columns"
   ]
  },
  {
   "cell_type": "code",
   "execution_count": 33,
   "id": "a82ea87d",
   "metadata": {
    "execution": {
     "iopub.execute_input": "2022-05-11T12:42:48.164637Z",
     "iopub.status.busy": "2022-05-11T12:42:48.164341Z",
     "iopub.status.idle": "2022-05-11T12:42:48.177856Z",
     "shell.execute_reply": "2022-05-11T12:42:48.177024Z"
    },
    "id": "3yZAC-BZ0bos",
    "outputId": "fe171655-9b3b-423c-81c0-c70e99d0b131",
    "papermill": {
     "duration": 0.100848,
     "end_time": "2022-05-11T12:42:48.179965",
     "exception": false,
     "start_time": "2022-05-11T12:42:48.079117",
     "status": "completed"
    },
    "tags": []
   },
   "outputs": [
    {
     "data": {
      "text/html": [
       "<div>\n",
       "<style scoped>\n",
       "    .dataframe tbody tr th:only-of-type {\n",
       "        vertical-align: middle;\n",
       "    }\n",
       "\n",
       "    .dataframe tbody tr th {\n",
       "        vertical-align: top;\n",
       "    }\n",
       "\n",
       "    .dataframe thead th {\n",
       "        text-align: right;\n",
       "    }\n",
       "</style>\n",
       "<table border=\"1\" class=\"dataframe\">\n",
       "  <thead>\n",
       "    <tr style=\"text-align: right;\">\n",
       "      <th></th>\n",
       "      <th>num_subscribers</th>\n",
       "    </tr>\n",
       "    <tr>\n",
       "      <th>course_title</th>\n",
       "      <th></th>\n",
       "    </tr>\n",
       "  </thead>\n",
       "  <tbody>\n",
       "    <tr>\n",
       "      <th>Learn HTML5 Programming From Scratch</th>\n",
       "      <td>268923</td>\n",
       "    </tr>\n",
       "    <tr>\n",
       "      <th>Coding for Entrepreneurs Basic</th>\n",
       "      <td>161029</td>\n",
       "    </tr>\n",
       "    <tr>\n",
       "      <th>The Web Developer Bootcamp</th>\n",
       "      <td>121584</td>\n",
       "    </tr>\n",
       "    <tr>\n",
       "      <th>Build Your First Website in 1 Week with HTML5 and CSS3</th>\n",
       "      <td>120291</td>\n",
       "    </tr>\n",
       "    <tr>\n",
       "      <th>The Complete Web Developer Course 2.0</th>\n",
       "      <td>114512</td>\n",
       "    </tr>\n",
       "    <tr>\n",
       "      <th>Free Beginner Electric Guitar Lessons</th>\n",
       "      <td>101154</td>\n",
       "    </tr>\n",
       "    <tr>\n",
       "      <th>Web Design for Web Developers: Build Beautiful Websites!</th>\n",
       "      <td>98867</td>\n",
       "    </tr>\n",
       "    <tr>\n",
       "      <th>Learn Javascript &amp; JQuery From Scratch</th>\n",
       "      <td>84897</td>\n",
       "    </tr>\n",
       "    <tr>\n",
       "      <th>Practical PHP: Master the Basics and Code Dynamic Websites</th>\n",
       "      <td>83737</td>\n",
       "    </tr>\n",
       "    <tr>\n",
       "      <th>JavaScript: Understanding the Weird Parts</th>\n",
       "      <td>79612</td>\n",
       "    </tr>\n",
       "  </tbody>\n",
       "</table>\n",
       "</div>"
      ],
      "text/plain": [
       "                                                    num_subscribers\n",
       "course_title                                                       \n",
       "Learn HTML5 Programming From Scratch                         268923\n",
       "Coding for Entrepreneurs Basic                               161029\n",
       "The Web Developer Bootcamp                                   121584\n",
       "Build Your First Website in 1 Week with HTML5 a...           120291\n",
       "The Complete Web Developer Course 2.0                        114512\n",
       "Free Beginner Electric Guitar Lessons                        101154\n",
       "Web Design for Web Developers: Build Beautiful ...            98867\n",
       "Learn Javascript & JQuery From Scratch                        84897\n",
       "Practical PHP: Master the Basics and Code Dynam...            83737\n",
       "JavaScript: Understanding the Weird Parts                     79612"
      ]
     },
     "execution_count": 33,
     "metadata": {},
     "output_type": "execute_result"
    }
   ],
   "source": [
    "df=data.nlargest(10,'num_subscribers')[['course_title','num_subscribers']].set_index(\"course_title\")\n",
    "df"
   ]
  },
  {
   "cell_type": "code",
   "execution_count": 34,
   "id": "98927d40",
   "metadata": {
    "execution": {
     "iopub.execute_input": "2022-05-11T12:42:48.345940Z",
     "iopub.status.busy": "2022-05-11T12:42:48.345657Z",
     "iopub.status.idle": "2022-05-11T12:42:48.632153Z",
     "shell.execute_reply": "2022-05-11T12:42:48.629859Z"
    },
    "id": "pm74luc-1dqy",
    "outputId": "d9b01e1b-473b-459f-b04a-a6deb4c5b7b6",
    "papermill": {
     "duration": 0.374381,
     "end_time": "2022-05-11T12:42:48.634593",
     "exception": false,
     "start_time": "2022-05-11T12:42:48.260212",
     "status": "completed"
    },
    "tags": []
   },
   "outputs": [
    {
     "data": {
      "image/png": "[encoded data removed]",
      "text/plain": [
       "<Figure size 1152x648 with 1 Axes>"
      ]
     },
     "metadata": {
      "needs_background": "light"
     },
     "output_type": "display_data"
    }
   ],
   "source": [
    "plt.figure(figsize=(16,9))\n",
    "sns.barplot(x=\"num_subscribers\",y=df.index,data=df,dodge=False)\n",
    "plt.show()\n"
   ]
  },
  {
   "cell_type": "code",
   "execution_count": 35,
   "id": "072bfcd5",
   "metadata": {
    "execution": {
     "iopub.execute_input": "2022-05-11T12:42:48.798232Z",
     "iopub.status.busy": "2022-05-11T12:42:48.797296Z",
     "iopub.status.idle": "2022-05-11T12:42:48.817475Z",
     "shell.execute_reply": "2022-05-11T12:42:48.816391Z"
    },
    "id": "NU8FESi85agI",
    "outputId": "6b236d36-9792-43be-da9c-93a92577fa99",
    "papermill": {
     "duration": 0.105443,
     "end_time": "2022-05-11T12:42:48.819974",
     "exception": false,
     "start_time": "2022-05-11T12:42:48.714531",
     "status": "completed"
    },
    "tags": []
   },
   "outputs": [
    {
     "data": {
      "text/html": [
       "<div>\n",
       "<style scoped>\n",
       "    .dataframe tbody tr th:only-of-type {\n",
       "        vertical-align: middle;\n",
       "    }\n",
       "\n",
       "    .dataframe tbody tr th {\n",
       "        vertical-align: top;\n",
       "    }\n",
       "\n",
       "    .dataframe thead th {\n",
       "        text-align: right;\n",
       "    }\n",
       "</style>\n",
       "<table border=\"1\" class=\"dataframe\">\n",
       "  <thead>\n",
       "    <tr style=\"text-align: right;\">\n",
       "      <th></th>\n",
       "      <th>course_id</th>\n",
       "      <th>course_title</th>\n",
       "      <th>url</th>\n",
       "      <th>is_paid</th>\n",
       "      <th>price</th>\n",
       "      <th>num_subscribers</th>\n",
       "      <th>num_reviews</th>\n",
       "      <th>num_lectures</th>\n",
       "      <th>level</th>\n",
       "      <th>content_duration</th>\n",
       "      <th>published_timestamp</th>\n",
       "      <th>subject</th>\n",
       "    </tr>\n",
       "  </thead>\n",
       "  <tbody>\n",
       "    <tr>\n",
       "      <th>2827</th>\n",
       "      <td>41295</td>\n",
       "      <td>Learn HTML5 Programming From Scratch</td>\n",
       "      <td>https://www.udemy.com/learn-html5-programming-...</td>\n",
       "      <td>False</td>\n",
       "      <td>0</td>\n",
       "      <td>268923</td>\n",
       "      <td>8629</td>\n",
       "      <td>45</td>\n",
       "      <td>All Levels</td>\n",
       "      <td>10.5</td>\n",
       "      <td>2013-02-14 07:03:41+00:00</td>\n",
       "      <td>Web Development</td>\n",
       "    </tr>\n",
       "    <tr>\n",
       "      <th>3032</th>\n",
       "      <td>59014</td>\n",
       "      <td>Coding for Entrepreneurs Basic</td>\n",
       "      <td>https://www.udemy.com/coding-for-entrepreneurs...</td>\n",
       "      <td>False</td>\n",
       "      <td>0</td>\n",
       "      <td>161029</td>\n",
       "      <td>279</td>\n",
       "      <td>27</td>\n",
       "      <td>Beginner Level</td>\n",
       "      <td>3.5</td>\n",
       "      <td>2013-06-09 15:51:55+00:00</td>\n",
       "      <td>Web Development</td>\n",
       "    </tr>\n",
       "    <tr>\n",
       "      <th>3230</th>\n",
       "      <td>625204</td>\n",
       "      <td>The Web Developer Bootcamp</td>\n",
       "      <td>https://www.udemy.com/the-web-developer-bootcamp/</td>\n",
       "      <td>True</td>\n",
       "      <td>200</td>\n",
       "      <td>121584</td>\n",
       "      <td>27445</td>\n",
       "      <td>342</td>\n",
       "      <td>All Levels</td>\n",
       "      <td>43.0</td>\n",
       "      <td>2015-11-02 21:13:27+00:00</td>\n",
       "      <td>Web Development</td>\n",
       "    </tr>\n",
       "    <tr>\n",
       "      <th>2783</th>\n",
       "      <td>173548</td>\n",
       "      <td>Build Your First Website in 1 Week with HTML5 ...</td>\n",
       "      <td>https://www.udemy.com/build-your-first-website...</td>\n",
       "      <td>False</td>\n",
       "      <td>0</td>\n",
       "      <td>120291</td>\n",
       "      <td>5924</td>\n",
       "      <td>30</td>\n",
       "      <td>Beginner Level</td>\n",
       "      <td>3.0</td>\n",
       "      <td>2014-04-08 16:21:30+00:00</td>\n",
       "      <td>Web Development</td>\n",
       "    </tr>\n",
       "    <tr>\n",
       "      <th>3232</th>\n",
       "      <td>764164</td>\n",
       "      <td>The Complete Web Developer Course 2.0</td>\n",
       "      <td>https://www.udemy.com/the-complete-web-develop...</td>\n",
       "      <td>True</td>\n",
       "      <td>200</td>\n",
       "      <td>114512</td>\n",
       "      <td>22412</td>\n",
       "      <td>304</td>\n",
       "      <td>All Levels</td>\n",
       "      <td>30.5</td>\n",
       "      <td>2016-03-08 22:28:36+00:00</td>\n",
       "      <td>Web Development</td>\n",
       "    </tr>\n",
       "  </tbody>\n",
       "</table>\n",
       "</div>"
      ],
      "text/plain": [
       "      course_id                                       course_title  \\\n",
       "2827      41295               Learn HTML5 Programming From Scratch   \n",
       "3032      59014                     Coding for Entrepreneurs Basic   \n",
       "3230     625204                         The Web Developer Bootcamp   \n",
       "2783     173548  Build Your First Website in 1 Week with HTML5 ...   \n",
       "3232     764164              The Complete Web Developer Course 2.0   \n",
       "\n",
       "                                                    url  is_paid  price  \\\n",
       "2827  https://www.udemy.com/learn-html5-programming-...    False      0   \n",
       "3032  https://www.udemy.com/coding-for-entrepreneurs...    False      0   \n",
       "3230  https://www.udemy.com/the-web-developer-bootcamp/     True    200   \n",
       "2783  https://www.udemy.com/build-your-first-website...    False      0   \n",
       "3232  https://www.udemy.com/the-complete-web-develop...     True    200   \n",
       "\n",
       "      num_subscribers  num_reviews  num_lectures           level  \\\n",
       "2827           268923         8629            45      All Levels   \n",
       "3032           161029          279            27  Beginner Level   \n",
       "3230           121584        27445           342      All Levels   \n",
       "2783           120291         5924            30  Beginner Level   \n",
       "3232           114512        22412           304      All Levels   \n",
       "\n",
       "      content_duration       published_timestamp          subject  \n",
       "2827              10.5 2013-02-14 07:03:41+00:00  Web Development  \n",
       "3032               3.5 2013-06-09 15:51:55+00:00  Web Development  \n",
       "3230              43.0 2015-11-02 21:13:27+00:00  Web Development  \n",
       "2783               3.0 2014-04-08 16:21:30+00:00  Web Development  \n",
       "3232              30.5 2016-03-08 22:28:36+00:00  Web Development  "
      ]
     },
     "execution_count": 35,
     "metadata": {},
     "output_type": "execute_result"
    }
   ],
   "source": [
    "top_10=data.sort_values(by=\"num_subscribers\",ascending=False)\n",
    "top_10.head()"
   ]
  },
  {
   "cell_type": "markdown",
   "id": "d4c433da",
   "metadata": {
    "id": "Zqdyvlvv5p-m",
    "papermill": {
     "duration": 0.0818,
     "end_time": "2022-05-11T12:42:48.985969",
     "exception": false,
     "start_time": "2022-05-11T12:42:48.904169",
     "status": "completed"
    },
    "tags": []
   },
   "source": [
    "**15.Find the subject which is having the highest number of  reviews**"
   ]
  },
  {
   "cell_type": "code",
   "execution_count": 36,
   "id": "dd2eabac",
   "metadata": {
    "execution": {
     "iopub.execute_input": "2022-05-11T12:42:49.150037Z",
     "iopub.status.busy": "2022-05-11T12:42:49.149491Z",
     "iopub.status.idle": "2022-05-11T12:42:49.155120Z",
     "shell.execute_reply": "2022-05-11T12:42:49.154517Z"
    },
    "id": "PKCGb3wm6Hh5",
    "outputId": "6fe2f429-dcf0-407c-ad62-ab44b522b372",
    "papermill": {
     "duration": 0.089978,
     "end_time": "2022-05-11T12:42:49.156982",
     "exception": false,
     "start_time": "2022-05-11T12:42:49.067004",
     "status": "completed"
    },
    "tags": []
   },
   "outputs": [
    {
     "data": {
      "text/plain": [
       "Index(['course_id', 'course_title', 'url', 'is_paid', 'price',\n",
       "       'num_subscribers', 'num_reviews', 'num_lectures', 'level',\n",
       "       'content_duration', 'published_timestamp', 'subject'],\n",
       "      dtype='object')"
      ]
     },
     "execution_count": 36,
     "metadata": {},
     "output_type": "execute_result"
    }
   ],
   "source": [
    "data.columns"
   ]
  },
  {
   "cell_type": "code",
   "execution_count": 37,
   "id": "f9b209a7",
   "metadata": {
    "execution": {
     "iopub.execute_input": "2022-05-11T12:42:49.325452Z",
     "iopub.status.busy": "2022-05-11T12:42:49.325130Z",
     "iopub.status.idle": "2022-05-11T12:42:49.333379Z",
     "shell.execute_reply": "2022-05-11T12:42:49.332464Z"
    },
    "id": "KM8DbzsV6Wxu",
    "outputId": "f7d6f865-06af-4d1e-9f4b-406f5292134f",
    "papermill": {
     "duration": 0.093253,
     "end_time": "2022-05-11T12:42:49.335451",
     "exception": false,
     "start_time": "2022-05-11T12:42:49.242198",
     "status": "completed"
    },
    "tags": []
   },
   "outputs": [
    {
     "data": {
      "text/plain": [
       "3230    Web Development\n",
       "Name: subject, dtype: object"
      ]
     },
     "execution_count": 37,
     "metadata": {},
     "output_type": "execute_result"
    }
   ],
   "source": [
    "data[data['num_reviews'].max()==data['num_reviews']]['subject']"
   ]
  },
  {
   "cell_type": "code",
   "execution_count": 38,
   "id": "15deb8f6",
   "metadata": {
    "execution": {
     "iopub.execute_input": "2022-05-11T12:42:49.501060Z",
     "iopub.status.busy": "2022-05-11T12:42:49.500055Z",
     "iopub.status.idle": "2022-05-11T12:42:49.843958Z",
     "shell.execute_reply": "2022-05-11T12:42:49.843017Z"
    },
    "id": "MC4bT6W47ugG",
    "outputId": "8a6e898e-90e8-4cfa-bf6d-7a9feeee1db9",
    "papermill": {
     "duration": 0.430213,
     "end_time": "2022-05-11T12:42:49.847119",
     "exception": false,
     "start_time": "2022-05-11T12:42:49.416906",
     "status": "completed"
    },
    "tags": []
   },
   "outputs": [
    {
     "data": {
      "image/png": "[encoded data removed]",
      "text/plain": [
       "<Figure size 432x288 with 1 Axes>"
      ]
     },
     "metadata": {
      "needs_background": "light"
     },
     "output_type": "display_data"
    }
   ],
   "source": [
    "sns.barplot(x=\"subject\",y=\"num_reviews\",data=data)\n",
    "plt.xticks(rotation=80)\n",
    "plt.show()"
   ]
  },
  {
   "cell_type": "markdown",
   "id": "5c396f41",
   "metadata": {
    "id": "OTgv0XBO8Q-P",
    "papermill": {
     "duration": 0.083602,
     "end_time": "2022-05-11T12:42:50.016282",
     "exception": false,
     "start_time": "2022-05-11T12:42:49.932680",
     "status": "completed"
    },
    "tags": []
   },
   "source": [
    "**16.Does Price affect number of reviews**"
   ]
  },
  {
   "cell_type": "code",
   "execution_count": 39,
   "id": "360910be",
   "metadata": {
    "execution": {
     "iopub.execute_input": "2022-05-11T12:42:50.191761Z",
     "iopub.status.busy": "2022-05-11T12:42:50.191248Z",
     "iopub.status.idle": "2022-05-11T12:42:50.197521Z",
     "shell.execute_reply": "2022-05-11T12:42:50.196626Z"
    },
    "id": "jyVEyYgN8fbq",
    "outputId": "7d5f068f-14ff-4a41-80d2-fef5e4359ae0",
    "papermill": {
     "duration": 0.097096,
     "end_time": "2022-05-11T12:42:50.199521",
     "exception": false,
     "start_time": "2022-05-11T12:42:50.102425",
     "status": "completed"
    },
    "tags": []
   },
   "outputs": [
    {
     "data": {
      "text/plain": [
       "Index(['course_id', 'course_title', 'url', 'is_paid', 'price',\n",
       "       'num_subscribers', 'num_reviews', 'num_lectures', 'level',\n",
       "       'content_duration', 'published_timestamp', 'subject'],\n",
       "      dtype='object')"
      ]
     },
     "execution_count": 39,
     "metadata": {},
     "output_type": "execute_result"
    }
   ],
   "source": [
    "data.columns"
   ]
  },
  {
   "cell_type": "code",
   "execution_count": 40,
   "id": "3df25b36",
   "metadata": {
    "execution": {
     "iopub.execute_input": "2022-05-11T12:42:50.367073Z",
     "iopub.status.busy": "2022-05-11T12:42:50.366085Z",
     "iopub.status.idle": "2022-05-11T12:42:50.621329Z",
     "shell.execute_reply": "2022-05-11T12:42:50.620342Z"
    },
    "id": "2NxlH9Zb70y2",
    "outputId": "b4dbc7f7-1f0e-429a-dc5e-81dfeeedf0b9",
    "papermill": {
     "duration": 0.341415,
     "end_time": "2022-05-11T12:42:50.623560",
     "exception": false,
     "start_time": "2022-05-11T12:42:50.282145",
     "status": "completed"
    },
    "tags": []
   },
   "outputs": [
    {
     "data": {
      "image/png": "[encoded data removed]",
      "text/plain": [
       "<Figure size 1152x648 with 1 Axes>"
      ]
     },
     "metadata": {
      "needs_background": "light"
     },
     "output_type": "display_data"
    }
   ],
   "source": [
    "plt.figure(figsize=(16,9))\n",
    "sns.scatterplot(x=\"price\",y=\"num_reviews\",data=data)\n",
    "plt.show()"
   ]
  },
  {
   "cell_type": "markdown",
   "id": "6535481b",
   "metadata": {
    "id": "qXqi1f9f9FFA",
    "papermill": {
     "duration": 0.083764,
     "end_time": "2022-05-11T12:42:50.791196",
     "exception": false,
     "start_time": "2022-05-11T12:42:50.707432",
     "status": "completed"
    },
    "tags": []
   },
   "source": [
    "**17.Find the total number of courses related to python**"
   ]
  },
  {
   "cell_type": "code",
   "execution_count": 41,
   "id": "269a7646",
   "metadata": {
    "execution": {
     "iopub.execute_input": "2022-05-11T12:42:50.962355Z",
     "iopub.status.busy": "2022-05-11T12:42:50.962022Z",
     "iopub.status.idle": "2022-05-11T12:42:50.975135Z",
     "shell.execute_reply": "2022-05-11T12:42:50.974493Z"
    },
    "id": "EGHqKPxv9OSG",
    "outputId": "bd3d56b4-552e-4091-b031-5fde6accc727",
    "papermill": {
     "duration": 0.1012,
     "end_time": "2022-05-11T12:42:50.977132",
     "exception": false,
     "start_time": "2022-05-11T12:42:50.875932",
     "status": "completed"
    },
    "tags": []
   },
   "outputs": [
    {
     "data": {
      "text/plain": [
       "29"
      ]
     },
     "execution_count": 41,
     "metadata": {},
     "output_type": "execute_result"
    }
   ],
   "source": [
    "len(data[data['course_title'].str.contains('python',case=False)])"
   ]
  },
  {
   "cell_type": "markdown",
   "id": "18ac6b70",
   "metadata": {
    "id": "ZGpRLvn9-FJ9",
    "papermill": {
     "duration": 0.086953,
     "end_time": "2022-05-11T12:42:51.158877",
     "exception": false,
     "start_time": "2022-05-11T12:42:51.071924",
     "status": "completed"
    },
    "tags": []
   },
   "source": [
    "**18.Display 10 most popular puthon courses as per number of subscribers**"
   ]
  },
  {
   "cell_type": "code",
   "execution_count": 42,
   "id": "18690efc",
   "metadata": {
    "execution": {
     "iopub.execute_input": "2022-05-11T12:42:51.337991Z",
     "iopub.status.busy": "2022-05-11T12:42:51.337116Z",
     "iopub.status.idle": "2022-05-11T12:42:51.362635Z",
     "shell.execute_reply": "2022-05-11T12:42:51.361926Z"
    },
    "id": "3Q8pq9UJ-NC7",
    "outputId": "26a2755d-c39b-443b-b21b-1089c5217db0",
    "papermill": {
     "duration": 0.114668,
     "end_time": "2022-05-11T12:42:51.364513",
     "exception": false,
     "start_time": "2022-05-11T12:42:51.249845",
     "status": "completed"
    },
    "tags": []
   },
   "outputs": [
    {
     "data": {
      "text/html": [
       "<div>\n",
       "<style scoped>\n",
       "    .dataframe tbody tr th:only-of-type {\n",
       "        vertical-align: middle;\n",
       "    }\n",
       "\n",
       "    .dataframe tbody tr th {\n",
       "        vertical-align: top;\n",
       "    }\n",
       "\n",
       "    .dataframe thead th {\n",
       "        text-align: right;\n",
       "    }\n",
       "</style>\n",
       "<table border=\"1\" class=\"dataframe\">\n",
       "  <thead>\n",
       "    <tr style=\"text-align: right;\">\n",
       "      <th></th>\n",
       "      <th>course_id</th>\n",
       "      <th>course_title</th>\n",
       "      <th>url</th>\n",
       "      <th>is_paid</th>\n",
       "      <th>price</th>\n",
       "      <th>num_subscribers</th>\n",
       "      <th>num_reviews</th>\n",
       "      <th>num_lectures</th>\n",
       "      <th>level</th>\n",
       "      <th>content_duration</th>\n",
       "      <th>published_timestamp</th>\n",
       "      <th>subject</th>\n",
       "    </tr>\n",
       "  </thead>\n",
       "  <tbody>\n",
       "    <tr>\n",
       "      <th>2497</th>\n",
       "      <td>16646</td>\n",
       "      <td>Web Programming with Python</td>\n",
       "      <td>https://www.udemy.com/web-programming-with-pyt...</td>\n",
       "      <td>True</td>\n",
       "      <td>50</td>\n",
       "      <td>35267</td>\n",
       "      <td>217</td>\n",
       "      <td>53</td>\n",
       "      <td>All Levels</td>\n",
       "      <td>4.0</td>\n",
       "      <td>2012-04-25 00:01:43+00:00</td>\n",
       "      <td>Web Development</td>\n",
       "    </tr>\n",
       "    <tr>\n",
       "      <th>2570</th>\n",
       "      <td>47963</td>\n",
       "      <td>Coding for Entrepreneurs: Learn Python, Django...</td>\n",
       "      <td>https://www.udemy.com/coding-for-entrepreneurs/</td>\n",
       "      <td>True</td>\n",
       "      <td>195</td>\n",
       "      <td>23412</td>\n",
       "      <td>799</td>\n",
       "      <td>251</td>\n",
       "      <td>All Levels</td>\n",
       "      <td>45.0</td>\n",
       "      <td>2013-04-08 00:46:14+00:00</td>\n",
       "      <td>Web Development</td>\n",
       "    </tr>\n",
       "    <tr>\n",
       "      <th>2528</th>\n",
       "      <td>391546</td>\n",
       "      <td>Learn Python and Django: Payment Processing</td>\n",
       "      <td>https://www.udemy.com/learn-django-code-accept...</td>\n",
       "      <td>True</td>\n",
       "      <td>70</td>\n",
       "      <td>17714</td>\n",
       "      <td>198</td>\n",
       "      <td>23</td>\n",
       "      <td>All Levels</td>\n",
       "      <td>3.5</td>\n",
       "      <td>2015-02-09 15:37:56+00:00</td>\n",
       "      <td>Web Development</td>\n",
       "    </tr>\n",
       "    <tr>\n",
       "      <th>3200</th>\n",
       "      <td>822444</td>\n",
       "      <td>Python and Django Full Stack Web Developer Boo...</td>\n",
       "      <td>https://www.udemy.com/python-and-django-full-s...</td>\n",
       "      <td>True</td>\n",
       "      <td>200</td>\n",
       "      <td>11832</td>\n",
       "      <td>1883</td>\n",
       "      <td>191</td>\n",
       "      <td>All Levels</td>\n",
       "      <td>31.5</td>\n",
       "      <td>2017-02-24 18:40:55+00:00</td>\n",
       "      <td>Web Development</td>\n",
       "    </tr>\n",
       "    <tr>\n",
       "      <th>3507</th>\n",
       "      <td>394832</td>\n",
       "      <td>Fun and creative web engineering with Python a...</td>\n",
       "      <td>https://www.udemy.com/web-engineering-with-pyt...</td>\n",
       "      <td>False</td>\n",
       "      <td>0</td>\n",
       "      <td>10917</td>\n",
       "      <td>319</td>\n",
       "      <td>25</td>\n",
       "      <td>All Levels</td>\n",
       "      <td>2.0</td>\n",
       "      <td>2015-06-09 19:51:50+00:00</td>\n",
       "      <td>Web Development</td>\n",
       "    </tr>\n",
       "    <tr>\n",
       "      <th>2553</th>\n",
       "      <td>938560</td>\n",
       "      <td>The Complete Ethical Hacking Course 2.0: Pytho...</td>\n",
       "      <td>https://www.udemy.com/penetration-testing-ethi...</td>\n",
       "      <td>True</td>\n",
       "      <td>195</td>\n",
       "      <td>7827</td>\n",
       "      <td>268</td>\n",
       "      <td>66</td>\n",
       "      <td>All Levels</td>\n",
       "      <td>11.0</td>\n",
       "      <td>2016-09-26 15:08:29+00:00</td>\n",
       "      <td>Web Development</td>\n",
       "    </tr>\n",
       "    <tr>\n",
       "      <th>3138</th>\n",
       "      <td>631128</td>\n",
       "      <td>Complete Python Web Course: Build 8 Python Web...</td>\n",
       "      <td>https://www.udemy.com/the-complete-python-web-...</td>\n",
       "      <td>True</td>\n",
       "      <td>110</td>\n",
       "      <td>7489</td>\n",
       "      <td>941</td>\n",
       "      <td>173</td>\n",
       "      <td>All Levels</td>\n",
       "      <td>16.0</td>\n",
       "      <td>2015-11-08 20:57:35+00:00</td>\n",
       "      <td>Web Development</td>\n",
       "    </tr>\n",
       "    <tr>\n",
       "      <th>3197</th>\n",
       "      <td>76052</td>\n",
       "      <td>Try Django 1.9 | Build a Blog and Learn Python...</td>\n",
       "      <td>https://www.udemy.com/try-django/</td>\n",
       "      <td>True</td>\n",
       "      <td>50</td>\n",
       "      <td>7407</td>\n",
       "      <td>172</td>\n",
       "      <td>147</td>\n",
       "      <td>All Levels</td>\n",
       "      <td>20.0</td>\n",
       "      <td>2014-03-04 07:12:21+00:00</td>\n",
       "      <td>Web Development</td>\n",
       "    </tr>\n",
       "    <tr>\n",
       "      <th>2681</th>\n",
       "      <td>477702</td>\n",
       "      <td>Python for Beginners: Python Programming Langu...</td>\n",
       "      <td>https://www.udemy.com/python-course/</td>\n",
       "      <td>True</td>\n",
       "      <td>150</td>\n",
       "      <td>6153</td>\n",
       "      <td>125</td>\n",
       "      <td>84</td>\n",
       "      <td>Beginner Level</td>\n",
       "      <td>5.0</td>\n",
       "      <td>2015-06-14 18:18:57+00:00</td>\n",
       "      <td>Web Development</td>\n",
       "    </tr>\n",
       "    <tr>\n",
       "      <th>3203</th>\n",
       "      <td>970600</td>\n",
       "      <td>REST APIs with Flask and Python</td>\n",
       "      <td>https://www.udemy.com/rest-api-flask-and-python/</td>\n",
       "      <td>True</td>\n",
       "      <td>110</td>\n",
       "      <td>5151</td>\n",
       "      <td>737</td>\n",
       "      <td>115</td>\n",
       "      <td>Intermediate Level</td>\n",
       "      <td>12.5</td>\n",
       "      <td>2016-11-06 19:00:38+00:00</td>\n",
       "      <td>Web Development</td>\n",
       "    </tr>\n",
       "  </tbody>\n",
       "</table>\n",
       "</div>"
      ],
      "text/plain": [
       "      course_id                                       course_title  \\\n",
       "2497      16646                        Web Programming with Python   \n",
       "2570      47963  Coding for Entrepreneurs: Learn Python, Django...   \n",
       "2528     391546        Learn Python and Django: Payment Processing   \n",
       "3200     822444  Python and Django Full Stack Web Developer Boo...   \n",
       "3507     394832  Fun and creative web engineering with Python a...   \n",
       "2553     938560  The Complete Ethical Hacking Course 2.0: Pytho...   \n",
       "3138     631128  Complete Python Web Course: Build 8 Python Web...   \n",
       "3197      76052  Try Django 1.9 | Build a Blog and Learn Python...   \n",
       "2681     477702  Python for Beginners: Python Programming Langu...   \n",
       "3203     970600                    REST APIs with Flask and Python   \n",
       "\n",
       "                                                    url  is_paid  price  \\\n",
       "2497  https://www.udemy.com/web-programming-with-pyt...     True     50   \n",
       "2570    https://www.udemy.com/coding-for-entrepreneurs/     True    195   \n",
       "2528  https://www.udemy.com/learn-django-code-accept...     True     70   \n",
       "3200  https://www.udemy.com/python-and-django-full-s...     True    200   \n",
       "3507  https://www.udemy.com/web-engineering-with-pyt...    False      0   \n",
       "2553  https://www.udemy.com/penetration-testing-ethi...     True    195   \n",
       "3138  https://www.udemy.com/the-complete-python-web-...     True    110   \n",
       "3197                  https://www.udemy.com/try-django/     True     50   \n",
       "2681               https://www.udemy.com/python-course/     True    150   \n",
       "3203   https://www.udemy.com/rest-api-flask-and-python/     True    110   \n",
       "\n",
       "      num_subscribers  num_reviews  num_lectures               level  \\\n",
       "2497            35267          217            53          All Levels   \n",
       "2570            23412          799           251          All Levels   \n",
       "2528            17714          198            23          All Levels   \n",
       "3200            11832         1883           191          All Levels   \n",
       "3507            10917          319            25          All Levels   \n",
       "2553             7827          268            66          All Levels   \n",
       "3138             7489          941           173          All Levels   \n",
       "3197             7407          172           147          All Levels   \n",
       "2681             6153          125            84      Beginner Level   \n",
       "3203             5151          737           115  Intermediate Level   \n",
       "\n",
       "      content_duration       published_timestamp          subject  \n",
       "2497               4.0 2012-04-25 00:01:43+00:00  Web Development  \n",
       "2570              45.0 2013-04-08 00:46:14+00:00  Web Development  \n",
       "2528               3.5 2015-02-09 15:37:56+00:00  Web Development  \n",
       "3200              31.5 2017-02-24 18:40:55+00:00  Web Development  \n",
       "3507               2.0 2015-06-09 19:51:50+00:00  Web Development  \n",
       "2553              11.0 2016-09-26 15:08:29+00:00  Web Development  \n",
       "3138              16.0 2015-11-08 20:57:35+00:00  Web Development  \n",
       "3197              20.0 2014-03-04 07:12:21+00:00  Web Development  \n",
       "2681               5.0 2015-06-14 18:18:57+00:00  Web Development  \n",
       "3203              12.5 2016-11-06 19:00:38+00:00  Web Development  "
      ]
     },
     "execution_count": 42,
     "metadata": {},
     "output_type": "execute_result"
    }
   ],
   "source": [
    "python=data[data['course_title'].str.contains('python',case=False)].sort_values(by=\"num_subscribers\",ascending=False).head(10)\n",
    "python"
   ]
  },
  {
   "cell_type": "code",
   "execution_count": 43,
   "id": "c97e36ed",
   "metadata": {
    "execution": {
     "iopub.execute_input": "2022-05-11T12:42:51.568504Z",
     "iopub.status.busy": "2022-05-11T12:42:51.567895Z",
     "iopub.status.idle": "2022-05-11T12:42:52.005337Z",
     "shell.execute_reply": "2022-05-11T12:42:52.004478Z"
    },
    "id": "N6t3dSpO-utc",
    "outputId": "87ec5e30-2d5f-4187-d761-638f7c01b17b",
    "papermill": {
     "duration": 0.542836,
     "end_time": "2022-05-11T12:42:52.007936",
     "exception": false,
     "start_time": "2022-05-11T12:42:51.465100",
     "status": "completed"
    },
    "tags": []
   },
   "outputs": [
    {
     "data": {
      "image/png": "[encoded data removed]",
      "text/plain": [
       "<Figure size 432x288 with 1 Axes>"
      ]
     },
     "metadata": {
      "needs_background": "light"
     },
     "output_type": "display_data"
    }
   ],
   "source": [
    "sns.barplot(x=\"num_subscribers\",y=\"course_title\",data=python)\n",
    "plt.show()"
   ]
  },
  {
   "cell_type": "markdown",
   "id": "cfb80329",
   "metadata": {
    "id": "x7BntObC-6kO",
    "papermill": {
     "duration": 0.090103,
     "end_time": "2022-05-11T12:42:52.187728",
     "exception": false,
     "start_time": "2022-05-11T12:42:52.097625",
     "status": "completed"
    },
    "tags": []
   },
   "source": [
    "**19.In which year The highest Number of Courses Were Posted**"
   ]
  },
  {
   "cell_type": "code",
   "execution_count": 44,
   "id": "25cbc3ec",
   "metadata": {
    "execution": {
     "iopub.execute_input": "2022-05-11T12:42:52.371947Z",
     "iopub.status.busy": "2022-05-11T12:42:52.371662Z",
     "iopub.status.idle": "2022-05-11T12:42:52.391672Z",
     "shell.execute_reply": "2022-05-11T12:42:52.390295Z"
    },
    "id": "ZPE-UkPZ_Pab",
    "outputId": "95202a1d-c949-4eb2-cf9f-aee713774fb2",
    "papermill": {
     "duration": 0.117321,
     "end_time": "2022-05-11T12:42:52.394570",
     "exception": false,
     "start_time": "2022-05-11T12:42:52.277249",
     "status": "completed"
    },
    "tags": []
   },
   "outputs": [
    {
     "name": "stderr",
     "output_type": "stream",
     "text": [
      "/opt/conda/lib/python3.7/site-packages/ipykernel_launcher.py:1: SettingWithCopyWarning: \n",
      "A value is trying to be set on a copy of a slice from a DataFrame.\n",
      "Try using .loc[row_indexer,col_indexer] = value instead\n",
      "\n",
      "See the caveats in the documentation: https://pandas.pydata.org/pandas-docs/stable/user_guide/indexing.html#returning-a-view-versus-a-copy\n",
      "  \"\"\"Entry point for launching an IPython kernel.\n"
     ]
    },
    {
     "data": {
      "text/html": [
       "<div>\n",
       "<style scoped>\n",
       "    .dataframe tbody tr th:only-of-type {\n",
       "        vertical-align: middle;\n",
       "    }\n",
       "\n",
       "    .dataframe tbody tr th {\n",
       "        vertical-align: top;\n",
       "    }\n",
       "\n",
       "    .dataframe thead th {\n",
       "        text-align: right;\n",
       "    }\n",
       "</style>\n",
       "<table border=\"1\" class=\"dataframe\">\n",
       "  <thead>\n",
       "    <tr style=\"text-align: right;\">\n",
       "      <th></th>\n",
       "      <th>course_id</th>\n",
       "      <th>course_title</th>\n",
       "      <th>url</th>\n",
       "      <th>is_paid</th>\n",
       "      <th>price</th>\n",
       "      <th>num_subscribers</th>\n",
       "      <th>num_reviews</th>\n",
       "      <th>num_lectures</th>\n",
       "      <th>level</th>\n",
       "      <th>content_duration</th>\n",
       "      <th>published_timestamp</th>\n",
       "      <th>subject</th>\n",
       "      <th>year</th>\n",
       "    </tr>\n",
       "  </thead>\n",
       "  <tbody>\n",
       "    <tr>\n",
       "      <th>0</th>\n",
       "      <td>1070968</td>\n",
       "      <td>Ultimate Investment Banking Course</td>\n",
       "      <td>https://www.udemy.com/ultimate-investment-bank...</td>\n",
       "      <td>True</td>\n",
       "      <td>200</td>\n",
       "      <td>2147</td>\n",
       "      <td>23</td>\n",
       "      <td>51</td>\n",
       "      <td>All Levels</td>\n",
       "      <td>1.5</td>\n",
       "      <td>2017-01-18 20:58:58+00:00</td>\n",
       "      <td>Business Finance</td>\n",
       "      <td>2017</td>\n",
       "    </tr>\n",
       "  </tbody>\n",
       "</table>\n",
       "</div>"
      ],
      "text/plain": [
       "   course_id                        course_title  \\\n",
       "0    1070968  Ultimate Investment Banking Course   \n",
       "\n",
       "                                                 url  is_paid  price  \\\n",
       "0  https://www.udemy.com/ultimate-investment-bank...     True    200   \n",
       "\n",
       "   num_subscribers  num_reviews  num_lectures       level  content_duration  \\\n",
       "0             2147           23            51  All Levels               1.5   \n",
       "\n",
       "        published_timestamp           subject  year  \n",
       "0 2017-01-18 20:58:58+00:00  Business Finance  2017  "
      ]
     },
     "execution_count": 44,
     "metadata": {},
     "output_type": "execute_result"
    }
   ],
   "source": [
    "data['year']=data['published_timestamp'].dt.year\n",
    "data.head(1)"
   ]
  },
  {
   "cell_type": "code",
   "execution_count": 45,
   "id": "4262e6b2",
   "metadata": {
    "execution": {
     "iopub.execute_input": "2022-05-11T12:42:52.572995Z",
     "iopub.status.busy": "2022-05-11T12:42:52.572686Z",
     "iopub.status.idle": "2022-05-11T12:42:52.717473Z",
     "shell.execute_reply": "2022-05-11T12:42:52.716466Z"
    },
    "id": "vt3565tZAG04",
    "outputId": "11865da5-5bff-426a-d1f3-8f2b0d7277e0",
    "papermill": {
     "duration": 0.236345,
     "end_time": "2022-05-11T12:42:52.719780",
     "exception": false,
     "start_time": "2022-05-11T12:42:52.483435",
     "status": "completed"
    },
    "tags": []
   },
   "outputs": [
    {
     "name": "stderr",
     "output_type": "stream",
     "text": [
      "/opt/conda/lib/python3.7/site-packages/seaborn/_decorators.py:43: FutureWarning: Pass the following variable as a keyword arg: x. From version 0.12, the only valid positional argument will be `data`, and passing other arguments without an explicit keyword will result in an error or misinterpretation.\n",
      "  FutureWarning\n"
     ]
    },
    {
     "data": {
      "image/png": "[encoded data removed]",
      "text/plain": [
       "<Figure size 432x288 with 1 Axes>"
      ]
     },
     "metadata": {
      "needs_background": "light"
     },
     "output_type": "display_data"
    }
   ],
   "source": [
    "sns.countplot('year',data=data)\n",
    "plt.show()"
   ]
  },
  {
   "cell_type": "markdown",
   "id": "a6d21481",
   "metadata": {
    "id": "45twQ1sJAR-E",
    "papermill": {
     "duration": 0.089347,
     "end_time": "2022-05-11T12:42:52.898667",
     "exception": false,
     "start_time": "2022-05-11T12:42:52.809320",
     "status": "completed"
    },
    "tags": []
   },
   "source": [
    "**20.Display category wise count of posted subjects(year wise**"
   ]
  },
  {
   "cell_type": "code",
   "execution_count": 46,
   "id": "c3b2ee6f",
   "metadata": {
    "execution": {
     "iopub.execute_input": "2022-05-11T12:42:53.079004Z",
     "iopub.status.busy": "2022-05-11T12:42:53.078458Z",
     "iopub.status.idle": "2022-05-11T12:42:53.089764Z",
     "shell.execute_reply": "2022-05-11T12:42:53.088890Z"
    },
    "id": "pmoV7XTeAZj9",
    "outputId": "5f349dcb-910e-404b-f2f0-a9ca855151fb",
    "papermill": {
     "duration": 0.105232,
     "end_time": "2022-05-11T12:42:53.092243",
     "exception": false,
     "start_time": "2022-05-11T12:42:52.987011",
     "status": "completed"
    },
    "tags": []
   },
   "outputs": [
    {
     "data": {
      "text/plain": [
       "year  subject            \n",
       "2011  Web Development          5\n",
       "2012  Web Development         19\n",
       "      Graphic Design          10\n",
       "      Musical Instruments     10\n",
       "      Business Finance         6\n",
       "2013  Business Finance        84\n",
       "      Web Development         55\n",
       "      Musical Instruments     39\n",
       "      Graphic Design          23\n",
       "2014  Business Finance       192\n",
       "      Musical Instruments    120\n",
       "      Web Development        113\n",
       "      Graphic Design          65\n",
       "2015  Business Finance       339\n",
       "      Web Development        336\n",
       "      Musical Instruments    171\n",
       "      Graphic Design         168\n",
       "2016  Web Development        448\n",
       "      Business Finance       347\n",
       "      Musical Instruments    228\n",
       "      Graphic Design         181\n",
       "2017  Business Finance       223\n",
       "      Web Development        223\n",
       "      Graphic Design         155\n",
       "      Musical Instruments    112\n",
       "Name: subject, dtype: int64"
      ]
     },
     "execution_count": 46,
     "metadata": {},
     "output_type": "execute_result"
    }
   ],
   "source": [
    "data.groupby(\"year\")['subject'].value_counts()"
   ]
  },
  {
   "cell_type": "code",
   "execution_count": 47,
   "id": "8ceb3d69",
   "metadata": {
    "execution": {
     "iopub.execute_input": "2022-05-11T12:42:53.277715Z",
     "iopub.status.busy": "2022-05-11T12:42:53.277248Z",
     "iopub.status.idle": "2022-05-11T12:42:53.443794Z",
     "shell.execute_reply": "2022-05-11T12:42:53.443085Z"
    },
    "id": "fDNsZPlTA0Kc",
    "outputId": "26efd270-5204-4259-cbe8-5945620e065a",
    "papermill": {
     "duration": 0.262486,
     "end_time": "2022-05-11T12:42:53.445900",
     "exception": false,
     "start_time": "2022-05-11T12:42:53.183414",
     "status": "completed"
    },
    "tags": []
   },
   "outputs": [
    {
     "name": "stderr",
     "output_type": "stream",
     "text": [
      "/opt/conda/lib/python3.7/site-packages/seaborn/_decorators.py:43: FutureWarning: Pass the following variable as a keyword arg: x. From version 0.12, the only valid positional argument will be `data`, and passing other arguments without an explicit keyword will result in an error or misinterpretation.\n",
      "  FutureWarning\n"
     ]
    },
    {
     "data": {
      "text/plain": [
       "<AxesSubplot:xlabel='year', ylabel='count'>"
      ]
     },
     "execution_count": 47,
     "metadata": {},
     "output_type": "execute_result"
    },
    {
     "data": {
      "image/png": "[encoded data removed]",
      "text/plain": [
       "<Figure size 432x288 with 1 Axes>"
      ]
     },
     "metadata": {
      "needs_background": "light"
     },
     "output_type": "display_data"
    }
   ],
   "source": [
    "sns.countplot('year',data=data)\n"
   ]
  }
 ],
 "metadata": {
  "kernelspec": {
   "display_name": "Python 3",
   "language": "python",
   "name": "python3"
  },
  "language_info": {
   "codemirror_mode": {
    "name": "ipython",
    "version": 3
   },
   "file_extension": ".py",
   "mimetype": "text/x-python",
   "name": "python",
   "nbconvert_exporter": "python",
   "pygments_lexer": "ipython3",
   "version": "3.7.12"
  },
  "papermill": {
   "default_parameters": {},
   "duration": 26.968173,
   "end_time": "2022-05-11T12:42:54.359588",
   "environment_variables": {},
   "exception": null,
   "input_path": "__notebook__.ipynb",
   "output_path": "__notebook__.ipynb",
   "parameters": {},
   "start_time": "2022-05-11T12:42:27.391415",
   "version": "2.3.4"
  }
 },
 "nbformat": 4,
 "nbformat_minor": 5
}
