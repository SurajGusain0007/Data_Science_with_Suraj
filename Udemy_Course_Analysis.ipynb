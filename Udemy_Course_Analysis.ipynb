{
 "cells": [
  {
   "cell_type": "markdown",
   "id": "7efa06c9",
   "metadata": {
    "id": "view-in-github",
    "papermill": {
     "duration": 0.045877,
     "end_time": "2022-05-11T12:40:12.031634",
     "exception": false,
     "start_time": "2022-05-11T12:40:11.985757",
     "status": "completed"
    },
    "tags": []
   },
   "source": [
    "<a href=\"https://colab.research.google.com/github/SurajGusain0007/Dataset_Analysis/blob/main/Udemy_Course.ipynb\" target=\"_parent\"><img src=\"https://colab.research.google.com/assets/colab-badge.svg\" alt=\"Open In Colab\"/></a>"
   ]
  },
  {
   "cell_type": "markdown",
   "id": "30e77052",
   "metadata": {
    "id": "_fFK5homhzCF",
    "papermill": {
     "duration": 0.044627,
     "end_time": "2022-05-11T12:40:12.122402",
     "exception": false,
     "start_time": "2022-05-11T12:40:12.077775",
     "status": "completed"
    },
    "tags": []
   },
   "source": [
    "**Reading Dataset**"
   ]
  },
  {
   "cell_type": "code",
   "execution_count": 1,
   "id": "8dd4f80a",
   "metadata": {
    "execution": {
     "iopub.execute_input": "2022-05-11T12:40:12.215218Z",
     "iopub.status.busy": "2022-05-11T12:40:12.214400Z",
     "iopub.status.idle": "2022-05-11T12:40:13.400941Z",
     "shell.execute_reply": "2022-05-11T12:40:13.400031Z"
    },
    "id": "n2plDjhgh2yL",
    "papermill": {
     "duration": 1.236095,
     "end_time": "2022-05-11T12:40:13.403582",
     "exception": false,
     "start_time": "2022-05-11T12:40:12.167487",
     "status": "completed"
    },
    "tags": []
   },
   "outputs": [],
   "source": [
    "import pandas as pd\n",
    "import numpy as np\n",
    "import matplotlib.pyplot as plt\n",
    "import seaborn as sns"
   ]
  },
  {
   "cell_type": "code",
   "execution_count": 2,
   "id": "c5547fcb",
   "metadata": {
    "execution": {
     "iopub.execute_input": "2022-05-11T12:40:13.497381Z",
     "iopub.status.busy": "2022-05-11T12:40:13.496805Z",
     "iopub.status.idle": "2022-05-11T12:40:13.595385Z",
     "shell.execute_reply": "2022-05-11T12:40:13.594647Z"
    },
    "id": "H_nyUGy-iKZr",
    "outputId": "2545cc94-000c-4f44-84d5-763824c7dd5d",
    "papermill": {
     "duration": 0.149169,
     "end_time": "2022-05-11T12:40:13.597847",
     "exception": false,
     "start_time": "2022-05-11T12:40:13.448678",
     "status": "completed"
    },
    "tags": []
   },
   "outputs": [
    {
     "data": {
      "text/html": [
       "<div>\n",
       "<style scoped>\n",
       "    .dataframe tbody tr th:only-of-type {\n",
       "        vertical-align: middle;\n",
       "    }\n",
       "\n",
       "    .dataframe tbody tr th {\n",
       "        vertical-align: top;\n",
       "    }\n",
       "\n",
       "    .dataframe thead th {\n",
       "        text-align: right;\n",
       "    }\n",
       "</style>\n",
       "<table border=\"1\" class=\"dataframe\">\n",
       "  <thead>\n",
       "    <tr style=\"text-align: right;\">\n",
       "      <th></th>\n",
       "      <th>course_id</th>\n",
       "      <th>course_title</th>\n",
       "      <th>url</th>\n",
       "      <th>is_paid</th>\n",
       "      <th>price</th>\n",
       "      <th>num_subscribers</th>\n",
       "      <th>num_reviews</th>\n",
       "      <th>num_lectures</th>\n",
       "      <th>level</th>\n",
       "      <th>content_duration</th>\n",
       "      <th>published_timestamp</th>\n",
       "      <th>subject</th>\n",
       "    </tr>\n",
       "  </thead>\n",
       "  <tbody>\n",
       "    <tr>\n",
       "      <th>0</th>\n",
       "      <td>1070968</td>\n",
       "      <td>Ultimate Investment Banking Course</td>\n",
       "      <td>https://www.udemy.com/ultimate-investment-bank...</td>\n",
       "      <td>True</td>\n",
       "      <td>200</td>\n",
       "      <td>2147</td>\n",
       "      <td>23</td>\n",
       "      <td>51</td>\n",
       "      <td>All Levels</td>\n",
       "      <td>1.5</td>\n",
       "      <td>2017-01-18 20:58:58+00:00</td>\n",
       "      <td>Business Finance</td>\n",
       "    </tr>\n",
       "    <tr>\n",
       "      <th>1</th>\n",
       "      <td>1113822</td>\n",
       "      <td>Complete GST Course &amp; Certification - Grow You...</td>\n",
       "      <td>https://www.udemy.com/goods-and-services-tax/</td>\n",
       "      <td>True</td>\n",
       "      <td>75</td>\n",
       "      <td>2792</td>\n",
       "      <td>923</td>\n",
       "      <td>274</td>\n",
       "      <td>All Levels</td>\n",
       "      <td>39.0</td>\n",
       "      <td>2017-03-09 16:34:20+00:00</td>\n",
       "      <td>Business Finance</td>\n",
       "    </tr>\n",
       "    <tr>\n",
       "      <th>2</th>\n",
       "      <td>1006314</td>\n",
       "      <td>Financial Modeling for Business Analysts and C...</td>\n",
       "      <td>https://www.udemy.com/financial-modeling-for-b...</td>\n",
       "      <td>True</td>\n",
       "      <td>45</td>\n",
       "      <td>2174</td>\n",
       "      <td>74</td>\n",
       "      <td>51</td>\n",
       "      <td>Intermediate Level</td>\n",
       "      <td>2.5</td>\n",
       "      <td>2016-12-19 19:26:30+00:00</td>\n",
       "      <td>Business Finance</td>\n",
       "    </tr>\n",
       "    <tr>\n",
       "      <th>3</th>\n",
       "      <td>1210588</td>\n",
       "      <td>Beginner to Pro - Financial Analysis in Excel ...</td>\n",
       "      <td>https://www.udemy.com/complete-excel-finance-c...</td>\n",
       "      <td>True</td>\n",
       "      <td>95</td>\n",
       "      <td>2451</td>\n",
       "      <td>11</td>\n",
       "      <td>36</td>\n",
       "      <td>All Levels</td>\n",
       "      <td>3.0</td>\n",
       "      <td>2017-05-30 20:07:24+00:00</td>\n",
       "      <td>Business Finance</td>\n",
       "    </tr>\n",
       "    <tr>\n",
       "      <th>4</th>\n",
       "      <td>1011058</td>\n",
       "      <td>How To Maximize Your Profits Trading Options</td>\n",
       "      <td>https://www.udemy.com/how-to-maximize-your-pro...</td>\n",
       "      <td>True</td>\n",
       "      <td>200</td>\n",
       "      <td>1276</td>\n",
       "      <td>45</td>\n",
       "      <td>26</td>\n",
       "      <td>Intermediate Level</td>\n",
       "      <td>2.0</td>\n",
       "      <td>2016-12-13 14:57:18+00:00</td>\n",
       "      <td>Business Finance</td>\n",
       "    </tr>\n",
       "    <tr>\n",
       "      <th>...</th>\n",
       "      <td>...</td>\n",
       "      <td>...</td>\n",
       "      <td>...</td>\n",
       "      <td>...</td>\n",
       "      <td>...</td>\n",
       "      <td>...</td>\n",
       "      <td>...</td>\n",
       "      <td>...</td>\n",
       "      <td>...</td>\n",
       "      <td>...</td>\n",
       "      <td>...</td>\n",
       "      <td>...</td>\n",
       "    </tr>\n",
       "    <tr>\n",
       "      <th>3673</th>\n",
       "      <td>775618</td>\n",
       "      <td>Learn jQuery from Scratch - Master of JavaScri...</td>\n",
       "      <td>https://www.udemy.com/easy-jquery-for-beginner...</td>\n",
       "      <td>True</td>\n",
       "      <td>100</td>\n",
       "      <td>1040</td>\n",
       "      <td>14</td>\n",
       "      <td>21</td>\n",
       "      <td>All Levels</td>\n",
       "      <td>2.0</td>\n",
       "      <td>2016-06-14 17:36:46+00:00</td>\n",
       "      <td>Web Development</td>\n",
       "    </tr>\n",
       "    <tr>\n",
       "      <th>3674</th>\n",
       "      <td>1088178</td>\n",
       "      <td>How To Design A WordPress Website With No Codi...</td>\n",
       "      <td>https://www.udemy.com/how-to-make-a-wordpress-...</td>\n",
       "      <td>True</td>\n",
       "      <td>25</td>\n",
       "      <td>306</td>\n",
       "      <td>3</td>\n",
       "      <td>42</td>\n",
       "      <td>Beginner Level</td>\n",
       "      <td>3.5</td>\n",
       "      <td>2017-03-10 22:24:30+00:00</td>\n",
       "      <td>Web Development</td>\n",
       "    </tr>\n",
       "    <tr>\n",
       "      <th>3675</th>\n",
       "      <td>635248</td>\n",
       "      <td>Learn and Build using Polymer</td>\n",
       "      <td>https://www.udemy.com/learn-and-build-using-po...</td>\n",
       "      <td>True</td>\n",
       "      <td>40</td>\n",
       "      <td>513</td>\n",
       "      <td>169</td>\n",
       "      <td>48</td>\n",
       "      <td>All Levels</td>\n",
       "      <td>3.5</td>\n",
       "      <td>2015-12-30 16:41:42+00:00</td>\n",
       "      <td>Web Development</td>\n",
       "    </tr>\n",
       "    <tr>\n",
       "      <th>3676</th>\n",
       "      <td>905096</td>\n",
       "      <td>CSS Animations: Create Amazing Effects on Your...</td>\n",
       "      <td>https://www.udemy.com/css-animations-create-am...</td>\n",
       "      <td>True</td>\n",
       "      <td>50</td>\n",
       "      <td>300</td>\n",
       "      <td>31</td>\n",
       "      <td>38</td>\n",
       "      <td>All Levels</td>\n",
       "      <td>3.0</td>\n",
       "      <td>2016-08-11 19:06:15+00:00</td>\n",
       "      <td>Web Development</td>\n",
       "    </tr>\n",
       "    <tr>\n",
       "      <th>3677</th>\n",
       "      <td>297602</td>\n",
       "      <td>Using MODX CMS to Build Websites: A Beginner's...</td>\n",
       "      <td>https://www.udemy.com/using-modx-cms-to-build-...</td>\n",
       "      <td>True</td>\n",
       "      <td>45</td>\n",
       "      <td>901</td>\n",
       "      <td>36</td>\n",
       "      <td>20</td>\n",
       "      <td>Beginner Level</td>\n",
       "      <td>2.0</td>\n",
       "      <td>2014-09-28 19:51:11+00:00</td>\n",
       "      <td>Web Development</td>\n",
       "    </tr>\n",
       "  </tbody>\n",
       "</table>\n",
       "<p>3678 rows × 12 columns</p>\n",
       "</div>"
      ],
      "text/plain": [
       "      course_id                                       course_title  \\\n",
       "0       1070968                 Ultimate Investment Banking Course   \n",
       "1       1113822  Complete GST Course & Certification - Grow You...   \n",
       "2       1006314  Financial Modeling for Business Analysts and C...   \n",
       "3       1210588  Beginner to Pro - Financial Analysis in Excel ...   \n",
       "4       1011058       How To Maximize Your Profits Trading Options   \n",
       "...         ...                                                ...   \n",
       "3673     775618  Learn jQuery from Scratch - Master of JavaScri...   \n",
       "3674    1088178  How To Design A WordPress Website With No Codi...   \n",
       "3675     635248                      Learn and Build using Polymer   \n",
       "3676     905096  CSS Animations: Create Amazing Effects on Your...   \n",
       "3677     297602  Using MODX CMS to Build Websites: A Beginner's...   \n",
       "\n",
       "                                                    url  is_paid  price  \\\n",
       "0     https://www.udemy.com/ultimate-investment-bank...     True    200   \n",
       "1         https://www.udemy.com/goods-and-services-tax/     True     75   \n",
       "2     https://www.udemy.com/financial-modeling-for-b...     True     45   \n",
       "3     https://www.udemy.com/complete-excel-finance-c...     True     95   \n",
       "4     https://www.udemy.com/how-to-maximize-your-pro...     True    200   \n",
       "...                                                 ...      ...    ...   \n",
       "3673  https://www.udemy.com/easy-jquery-for-beginner...     True    100   \n",
       "3674  https://www.udemy.com/how-to-make-a-wordpress-...     True     25   \n",
       "3675  https://www.udemy.com/learn-and-build-using-po...     True     40   \n",
       "3676  https://www.udemy.com/css-animations-create-am...     True     50   \n",
       "3677  https://www.udemy.com/using-modx-cms-to-build-...     True     45   \n",
       "\n",
       "      num_subscribers  num_reviews  num_lectures               level  \\\n",
       "0                2147           23            51          All Levels   \n",
       "1                2792          923           274          All Levels   \n",
       "2                2174           74            51  Intermediate Level   \n",
       "3                2451           11            36          All Levels   \n",
       "4                1276           45            26  Intermediate Level   \n",
       "...               ...          ...           ...                 ...   \n",
       "3673             1040           14            21          All Levels   \n",
       "3674              306            3            42      Beginner Level   \n",
       "3675              513          169            48          All Levels   \n",
       "3676              300           31            38          All Levels   \n",
       "3677              901           36            20      Beginner Level   \n",
       "\n",
       "      content_duration       published_timestamp           subject  \n",
       "0                  1.5 2017-01-18 20:58:58+00:00  Business Finance  \n",
       "1                 39.0 2017-03-09 16:34:20+00:00  Business Finance  \n",
       "2                  2.5 2016-12-19 19:26:30+00:00  Business Finance  \n",
       "3                  3.0 2017-05-30 20:07:24+00:00  Business Finance  \n",
       "4                  2.0 2016-12-13 14:57:18+00:00  Business Finance  \n",
       "...                ...                       ...               ...  \n",
       "3673               2.0 2016-06-14 17:36:46+00:00   Web Development  \n",
       "3674               3.5 2017-03-10 22:24:30+00:00   Web Development  \n",
       "3675               3.5 2015-12-30 16:41:42+00:00   Web Development  \n",
       "3676               3.0 2016-08-11 19:06:15+00:00   Web Development  \n",
       "3677               2.0 2014-09-28 19:51:11+00:00   Web Development  \n",
       "\n",
       "[3678 rows x 12 columns]"
      ]
     },
     "execution_count": 2,
     "metadata": {},
     "output_type": "execute_result"
    }
   ],
   "source": [
    "data=pd.read_csv('../input/udemy-course/udemy_courses.csv',parse_dates=['published_timestamp'])\n",
    "data"
   ]
  },
  {
   "cell_type": "code",
   "execution_count": 3,
   "id": "400a0b90",
   "metadata": {
    "execution": {
     "iopub.execute_input": "2022-05-11T12:40:13.694937Z",
     "iopub.status.busy": "2022-05-11T12:40:13.694376Z",
     "iopub.status.idle": "2022-05-11T12:40:13.701754Z",
     "shell.execute_reply": "2022-05-11T12:40:13.701097Z"
    },
    "id": "6F8P4yVyjeBp",
    "outputId": "6e72507b-aa03-4d6a-ddd0-aafd43d0a846",
    "papermill": {
     "duration": 0.058243,
     "end_time": "2022-05-11T12:40:13.703964",
     "exception": false,
     "start_time": "2022-05-11T12:40:13.645721",
     "status": "completed"
    },
    "tags": []
   },
   "outputs": [
    {
     "data": {
      "text/plain": [
       "course_id                            int64\n",
       "course_title                        object\n",
       "url                                 object\n",
       "is_paid                               bool\n",
       "price                                int64\n",
       "num_subscribers                      int64\n",
       "num_reviews                          int64\n",
       "num_lectures                         int64\n",
       "level                               object\n",
       "content_duration                   float64\n",
       "published_timestamp    datetime64[ns, UTC]\n",
       "subject                             object\n",
       "dtype: object"
      ]
     },
     "execution_count": 3,
     "metadata": {},
     "output_type": "execute_result"
    }
   ],
   "source": [
    "data.dtypes"
   ]
  },
  {
   "cell_type": "markdown",
   "id": "79635d10",
   "metadata": {
    "id": "LevwiEPQiWI8",
    "papermill": {
     "duration": 0.048246,
     "end_time": "2022-05-11T12:40:13.799719",
     "exception": false,
     "start_time": "2022-05-11T12:40:13.751473",
     "status": "completed"
    },
    "tags": []
   },
   "source": [
    "**1.Display Top 10 Rows in our dataset**"
   ]
  },
  {
   "cell_type": "code",
   "execution_count": 4,
   "id": "a65964b6",
   "metadata": {
    "execution": {
     "iopub.execute_input": "2022-05-11T12:40:13.892413Z",
     "iopub.status.busy": "2022-05-11T12:40:13.891814Z",
     "iopub.status.idle": "2022-05-11T12:40:13.907446Z",
     "shell.execute_reply": "2022-05-11T12:40:13.906833Z"
    },
    "id": "X9-_tVtAidj9",
    "outputId": "473b789d-fd59-4cc8-b5ef-8e8b628b2d80",
    "papermill": {
     "duration": 0.064281,
     "end_time": "2022-05-11T12:40:13.909281",
     "exception": false,
     "start_time": "2022-05-11T12:40:13.845000",
     "status": "completed"
    },
    "tags": []
   },
   "outputs": [
    {
     "data": {
      "text/html": [
       "<div>\n",
       "<style scoped>\n",
       "    .dataframe tbody tr th:only-of-type {\n",
       "        vertical-align: middle;\n",
       "    }\n",
       "\n",
       "    .dataframe tbody tr th {\n",
       "        vertical-align: top;\n",
       "    }\n",
       "\n",
       "    .dataframe thead th {\n",
       "        text-align: right;\n",
       "    }\n",
       "</style>\n",
       "<table border=\"1\" class=\"dataframe\">\n",
       "  <thead>\n",
       "    <tr style=\"text-align: right;\">\n",
       "      <th></th>\n",
       "      <th>course_id</th>\n",
       "      <th>course_title</th>\n",
       "      <th>url</th>\n",
       "      <th>is_paid</th>\n",
       "      <th>price</th>\n",
       "      <th>num_subscribers</th>\n",
       "      <th>num_reviews</th>\n",
       "      <th>num_lectures</th>\n",
       "      <th>level</th>\n",
       "      <th>content_duration</th>\n",
       "      <th>published_timestamp</th>\n",
       "      <th>subject</th>\n",
       "    </tr>\n",
       "  </thead>\n",
       "  <tbody>\n",
       "    <tr>\n",
       "      <th>0</th>\n",
       "      <td>1070968</td>\n",
       "      <td>Ultimate Investment Banking Course</td>\n",
       "      <td>https://www.udemy.com/ultimate-investment-bank...</td>\n",
       "      <td>True</td>\n",
       "      <td>200</td>\n",
       "      <td>2147</td>\n",
       "      <td>23</td>\n",
       "      <td>51</td>\n",
       "      <td>All Levels</td>\n",
       "      <td>1.5</td>\n",
       "      <td>2017-01-18 20:58:58+00:00</td>\n",
       "      <td>Business Finance</td>\n",
       "    </tr>\n",
       "    <tr>\n",
       "      <th>1</th>\n",
       "      <td>1113822</td>\n",
       "      <td>Complete GST Course &amp; Certification - Grow You...</td>\n",
       "      <td>https://www.udemy.com/goods-and-services-tax/</td>\n",
       "      <td>True</td>\n",
       "      <td>75</td>\n",
       "      <td>2792</td>\n",
       "      <td>923</td>\n",
       "      <td>274</td>\n",
       "      <td>All Levels</td>\n",
       "      <td>39.0</td>\n",
       "      <td>2017-03-09 16:34:20+00:00</td>\n",
       "      <td>Business Finance</td>\n",
       "    </tr>\n",
       "    <tr>\n",
       "      <th>2</th>\n",
       "      <td>1006314</td>\n",
       "      <td>Financial Modeling for Business Analysts and C...</td>\n",
       "      <td>https://www.udemy.com/financial-modeling-for-b...</td>\n",
       "      <td>True</td>\n",
       "      <td>45</td>\n",
       "      <td>2174</td>\n",
       "      <td>74</td>\n",
       "      <td>51</td>\n",
       "      <td>Intermediate Level</td>\n",
       "      <td>2.5</td>\n",
       "      <td>2016-12-19 19:26:30+00:00</td>\n",
       "      <td>Business Finance</td>\n",
       "    </tr>\n",
       "    <tr>\n",
       "      <th>3</th>\n",
       "      <td>1210588</td>\n",
       "      <td>Beginner to Pro - Financial Analysis in Excel ...</td>\n",
       "      <td>https://www.udemy.com/complete-excel-finance-c...</td>\n",
       "      <td>True</td>\n",
       "      <td>95</td>\n",
       "      <td>2451</td>\n",
       "      <td>11</td>\n",
       "      <td>36</td>\n",
       "      <td>All Levels</td>\n",
       "      <td>3.0</td>\n",
       "      <td>2017-05-30 20:07:24+00:00</td>\n",
       "      <td>Business Finance</td>\n",
       "    </tr>\n",
       "    <tr>\n",
       "      <th>4</th>\n",
       "      <td>1011058</td>\n",
       "      <td>How To Maximize Your Profits Trading Options</td>\n",
       "      <td>https://www.udemy.com/how-to-maximize-your-pro...</td>\n",
       "      <td>True</td>\n",
       "      <td>200</td>\n",
       "      <td>1276</td>\n",
       "      <td>45</td>\n",
       "      <td>26</td>\n",
       "      <td>Intermediate Level</td>\n",
       "      <td>2.0</td>\n",
       "      <td>2016-12-13 14:57:18+00:00</td>\n",
       "      <td>Business Finance</td>\n",
       "    </tr>\n",
       "    <tr>\n",
       "      <th>5</th>\n",
       "      <td>192870</td>\n",
       "      <td>Trading Penny Stocks: A Guide for All Levels I...</td>\n",
       "      <td>https://www.udemy.com/trading-penny-stocks-a-g...</td>\n",
       "      <td>True</td>\n",
       "      <td>150</td>\n",
       "      <td>9221</td>\n",
       "      <td>138</td>\n",
       "      <td>25</td>\n",
       "      <td>All Levels</td>\n",
       "      <td>3.0</td>\n",
       "      <td>2014-05-02 15:13:30+00:00</td>\n",
       "      <td>Business Finance</td>\n",
       "    </tr>\n",
       "    <tr>\n",
       "      <th>6</th>\n",
       "      <td>739964</td>\n",
       "      <td>Investing And Trading For Beginners: Mastering...</td>\n",
       "      <td>https://www.udemy.com/investing-and-trading-fo...</td>\n",
       "      <td>True</td>\n",
       "      <td>65</td>\n",
       "      <td>1540</td>\n",
       "      <td>178</td>\n",
       "      <td>26</td>\n",
       "      <td>Beginner Level</td>\n",
       "      <td>1.0</td>\n",
       "      <td>2016-02-21 18:23:12+00:00</td>\n",
       "      <td>Business Finance</td>\n",
       "    </tr>\n",
       "    <tr>\n",
       "      <th>7</th>\n",
       "      <td>403100</td>\n",
       "      <td>Trading Stock Chart Patterns For Immediate, Ex...</td>\n",
       "      <td>https://www.udemy.com/trading-chart-patterns-f...</td>\n",
       "      <td>True</td>\n",
       "      <td>95</td>\n",
       "      <td>2917</td>\n",
       "      <td>148</td>\n",
       "      <td>23</td>\n",
       "      <td>All Levels</td>\n",
       "      <td>2.5</td>\n",
       "      <td>2015-01-30 22:13:03+00:00</td>\n",
       "      <td>Business Finance</td>\n",
       "    </tr>\n",
       "    <tr>\n",
       "      <th>8</th>\n",
       "      <td>476268</td>\n",
       "      <td>Options Trading 3 : Advanced Stock Profit and ...</td>\n",
       "      <td>https://www.udemy.com/day-trading-stock-option...</td>\n",
       "      <td>True</td>\n",
       "      <td>195</td>\n",
       "      <td>5172</td>\n",
       "      <td>34</td>\n",
       "      <td>38</td>\n",
       "      <td>Expert Level</td>\n",
       "      <td>2.5</td>\n",
       "      <td>2015-05-28 00:14:03+00:00</td>\n",
       "      <td>Business Finance</td>\n",
       "    </tr>\n",
       "    <tr>\n",
       "      <th>9</th>\n",
       "      <td>1167710</td>\n",
       "      <td>The Only Investment Strategy You Need For Your...</td>\n",
       "      <td>https://www.udemy.com/the-only-investment-stra...</td>\n",
       "      <td>True</td>\n",
       "      <td>200</td>\n",
       "      <td>827</td>\n",
       "      <td>14</td>\n",
       "      <td>15</td>\n",
       "      <td>All Levels</td>\n",
       "      <td>1.0</td>\n",
       "      <td>2017-04-18 18:13:32+00:00</td>\n",
       "      <td>Business Finance</td>\n",
       "    </tr>\n",
       "  </tbody>\n",
       "</table>\n",
       "</div>"
      ],
      "text/plain": [
       "   course_id                                       course_title  \\\n",
       "0    1070968                 Ultimate Investment Banking Course   \n",
       "1    1113822  Complete GST Course & Certification - Grow You...   \n",
       "2    1006314  Financial Modeling for Business Analysts and C...   \n",
       "3    1210588  Beginner to Pro - Financial Analysis in Excel ...   \n",
       "4    1011058       How To Maximize Your Profits Trading Options   \n",
       "5     192870  Trading Penny Stocks: A Guide for All Levels I...   \n",
       "6     739964  Investing And Trading For Beginners: Mastering...   \n",
       "7     403100  Trading Stock Chart Patterns For Immediate, Ex...   \n",
       "8     476268  Options Trading 3 : Advanced Stock Profit and ...   \n",
       "9    1167710  The Only Investment Strategy You Need For Your...   \n",
       "\n",
       "                                                 url  is_paid  price  \\\n",
       "0  https://www.udemy.com/ultimate-investment-bank...     True    200   \n",
       "1      https://www.udemy.com/goods-and-services-tax/     True     75   \n",
       "2  https://www.udemy.com/financial-modeling-for-b...     True     45   \n",
       "3  https://www.udemy.com/complete-excel-finance-c...     True     95   \n",
       "4  https://www.udemy.com/how-to-maximize-your-pro...     True    200   \n",
       "5  https://www.udemy.com/trading-penny-stocks-a-g...     True    150   \n",
       "6  https://www.udemy.com/investing-and-trading-fo...     True     65   \n",
       "7  https://www.udemy.com/trading-chart-patterns-f...     True     95   \n",
       "8  https://www.udemy.com/day-trading-stock-option...     True    195   \n",
       "9  https://www.udemy.com/the-only-investment-stra...     True    200   \n",
       "\n",
       "   num_subscribers  num_reviews  num_lectures               level  \\\n",
       "0             2147           23            51          All Levels   \n",
       "1             2792          923           274          All Levels   \n",
       "2             2174           74            51  Intermediate Level   \n",
       "3             2451           11            36          All Levels   \n",
       "4             1276           45            26  Intermediate Level   \n",
       "5             9221          138            25          All Levels   \n",
       "6             1540          178            26      Beginner Level   \n",
       "7             2917          148            23          All Levels   \n",
       "8             5172           34            38        Expert Level   \n",
       "9              827           14            15          All Levels   \n",
       "\n",
       "   content_duration       published_timestamp           subject  \n",
       "0               1.5 2017-01-18 20:58:58+00:00  Business Finance  \n",
       "1              39.0 2017-03-09 16:34:20+00:00  Business Finance  \n",
       "2               2.5 2016-12-19 19:26:30+00:00  Business Finance  \n",
       "3               3.0 2017-05-30 20:07:24+00:00  Business Finance  \n",
       "4               2.0 2016-12-13 14:57:18+00:00  Business Finance  \n",
       "5               3.0 2014-05-02 15:13:30+00:00  Business Finance  \n",
       "6               1.0 2016-02-21 18:23:12+00:00  Business Finance  \n",
       "7               2.5 2015-01-30 22:13:03+00:00  Business Finance  \n",
       "8               2.5 2015-05-28 00:14:03+00:00  Business Finance  \n",
       "9               1.0 2017-04-18 18:13:32+00:00  Business Finance  "
      ]
     },
     "execution_count": 4,
     "metadata": {},
     "output_type": "execute_result"
    }
   ],
   "source": [
    "data.head(10)"
   ]
  },
  {
   "cell_type": "markdown",
   "id": "36d3136a",
   "metadata": {
    "id": "hxHT8aJGikmi",
    "papermill": {
     "duration": 0.048403,
     "end_time": "2022-05-11T12:40:14.007113",
     "exception": false,
     "start_time": "2022-05-11T12:40:13.958710",
     "status": "completed"
    },
    "tags": []
   },
   "source": [
    "**2.Check last 10 rows in our dataset**"
   ]
  },
  {
   "cell_type": "code",
   "execution_count": 5,
   "id": "48e63937",
   "metadata": {
    "execution": {
     "iopub.execute_input": "2022-05-11T12:40:14.114136Z",
     "iopub.status.busy": "2022-05-11T12:40:14.113801Z",
     "iopub.status.idle": "2022-05-11T12:40:14.130260Z",
     "shell.execute_reply": "2022-05-11T12:40:14.129361Z"
    },
    "id": "5P8WeEs4io8n",
    "outputId": "47c4dbc2-e22b-4723-dc2b-763170dbd680",
    "papermill": {
     "duration": 0.075513,
     "end_time": "2022-05-11T12:40:14.132354",
     "exception": false,
     "start_time": "2022-05-11T12:40:14.056841",
     "status": "completed"
    },
    "tags": []
   },
   "outputs": [
    {
     "data": {
      "text/html": [
       "<div>\n",
       "<style scoped>\n",
       "    .dataframe tbody tr th:only-of-type {\n",
       "        vertical-align: middle;\n",
       "    }\n",
       "\n",
       "    .dataframe tbody tr th {\n",
       "        vertical-align: top;\n",
       "    }\n",
       "\n",
       "    .dataframe thead th {\n",
       "        text-align: right;\n",
       "    }\n",
       "</style>\n",
       "<table border=\"1\" class=\"dataframe\">\n",
       "  <thead>\n",
       "    <tr style=\"text-align: right;\">\n",
       "      <th></th>\n",
       "      <th>course_id</th>\n",
       "      <th>course_title</th>\n",
       "      <th>url</th>\n",
       "      <th>is_paid</th>\n",
       "      <th>price</th>\n",
       "      <th>num_subscribers</th>\n",
       "      <th>num_reviews</th>\n",
       "      <th>num_lectures</th>\n",
       "      <th>level</th>\n",
       "      <th>content_duration</th>\n",
       "      <th>published_timestamp</th>\n",
       "      <th>subject</th>\n",
       "    </tr>\n",
       "  </thead>\n",
       "  <tbody>\n",
       "    <tr>\n",
       "      <th>3668</th>\n",
       "      <td>270976</td>\n",
       "      <td>A how to guide in HTML</td>\n",
       "      <td>https://www.udemy.com/a-how-to-guide-in-html/</td>\n",
       "      <td>False</td>\n",
       "      <td>0</td>\n",
       "      <td>7318</td>\n",
       "      <td>205</td>\n",
       "      <td>8</td>\n",
       "      <td>Beginner Level</td>\n",
       "      <td>0.583333</td>\n",
       "      <td>2014-08-10 20:19:10+00:00</td>\n",
       "      <td>Web Development</td>\n",
       "    </tr>\n",
       "    <tr>\n",
       "      <th>3669</th>\n",
       "      <td>679992</td>\n",
       "      <td>Building Better APIs with GraphQL</td>\n",
       "      <td>https://www.udemy.com/building-better-apis-wit...</td>\n",
       "      <td>True</td>\n",
       "      <td>50</td>\n",
       "      <td>555</td>\n",
       "      <td>89</td>\n",
       "      <td>16</td>\n",
       "      <td>All Levels</td>\n",
       "      <td>2.500000</td>\n",
       "      <td>2015-11-29 22:02:02+00:00</td>\n",
       "      <td>Web Development</td>\n",
       "    </tr>\n",
       "    <tr>\n",
       "      <th>3670</th>\n",
       "      <td>330900</td>\n",
       "      <td>Learn Grunt with Examples: Automate Your Front...</td>\n",
       "      <td>https://www.udemy.com/learn-grunt-automate-you...</td>\n",
       "      <td>True</td>\n",
       "      <td>20</td>\n",
       "      <td>496</td>\n",
       "      <td>113</td>\n",
       "      <td>17</td>\n",
       "      <td>All Levels</td>\n",
       "      <td>1.000000</td>\n",
       "      <td>2014-12-19 21:38:54+00:00</td>\n",
       "      <td>Web Development</td>\n",
       "    </tr>\n",
       "    <tr>\n",
       "      <th>3671</th>\n",
       "      <td>667122</td>\n",
       "      <td>Build A Stock Downloader With Visual Studio 20...</td>\n",
       "      <td>https://www.udemy.com/csharpyahoostockdownloader/</td>\n",
       "      <td>True</td>\n",
       "      <td>20</td>\n",
       "      <td>436</td>\n",
       "      <td>36</td>\n",
       "      <td>22</td>\n",
       "      <td>Intermediate Level</td>\n",
       "      <td>1.500000</td>\n",
       "      <td>2015-11-19 17:22:47+00:00</td>\n",
       "      <td>Web Development</td>\n",
       "    </tr>\n",
       "    <tr>\n",
       "      <th>3672</th>\n",
       "      <td>865438</td>\n",
       "      <td>jQuery UI in Action: Build 5 jQuery UI Projects</td>\n",
       "      <td>https://www.udemy.com/jquery-ui-practical-buil...</td>\n",
       "      <td>True</td>\n",
       "      <td>150</td>\n",
       "      <td>382</td>\n",
       "      <td>28</td>\n",
       "      <td>140</td>\n",
       "      <td>All Levels</td>\n",
       "      <td>15.500000</td>\n",
       "      <td>2016-10-10 22:00:32+00:00</td>\n",
       "      <td>Web Development</td>\n",
       "    </tr>\n",
       "    <tr>\n",
       "      <th>3673</th>\n",
       "      <td>775618</td>\n",
       "      <td>Learn jQuery from Scratch - Master of JavaScri...</td>\n",
       "      <td>https://www.udemy.com/easy-jquery-for-beginner...</td>\n",
       "      <td>True</td>\n",
       "      <td>100</td>\n",
       "      <td>1040</td>\n",
       "      <td>14</td>\n",
       "      <td>21</td>\n",
       "      <td>All Levels</td>\n",
       "      <td>2.000000</td>\n",
       "      <td>2016-06-14 17:36:46+00:00</td>\n",
       "      <td>Web Development</td>\n",
       "    </tr>\n",
       "    <tr>\n",
       "      <th>3674</th>\n",
       "      <td>1088178</td>\n",
       "      <td>How To Design A WordPress Website With No Codi...</td>\n",
       "      <td>https://www.udemy.com/how-to-make-a-wordpress-...</td>\n",
       "      <td>True</td>\n",
       "      <td>25</td>\n",
       "      <td>306</td>\n",
       "      <td>3</td>\n",
       "      <td>42</td>\n",
       "      <td>Beginner Level</td>\n",
       "      <td>3.500000</td>\n",
       "      <td>2017-03-10 22:24:30+00:00</td>\n",
       "      <td>Web Development</td>\n",
       "    </tr>\n",
       "    <tr>\n",
       "      <th>3675</th>\n",
       "      <td>635248</td>\n",
       "      <td>Learn and Build using Polymer</td>\n",
       "      <td>https://www.udemy.com/learn-and-build-using-po...</td>\n",
       "      <td>True</td>\n",
       "      <td>40</td>\n",
       "      <td>513</td>\n",
       "      <td>169</td>\n",
       "      <td>48</td>\n",
       "      <td>All Levels</td>\n",
       "      <td>3.500000</td>\n",
       "      <td>2015-12-30 16:41:42+00:00</td>\n",
       "      <td>Web Development</td>\n",
       "    </tr>\n",
       "    <tr>\n",
       "      <th>3676</th>\n",
       "      <td>905096</td>\n",
       "      <td>CSS Animations: Create Amazing Effects on Your...</td>\n",
       "      <td>https://www.udemy.com/css-animations-create-am...</td>\n",
       "      <td>True</td>\n",
       "      <td>50</td>\n",
       "      <td>300</td>\n",
       "      <td>31</td>\n",
       "      <td>38</td>\n",
       "      <td>All Levels</td>\n",
       "      <td>3.000000</td>\n",
       "      <td>2016-08-11 19:06:15+00:00</td>\n",
       "      <td>Web Development</td>\n",
       "    </tr>\n",
       "    <tr>\n",
       "      <th>3677</th>\n",
       "      <td>297602</td>\n",
       "      <td>Using MODX CMS to Build Websites: A Beginner's...</td>\n",
       "      <td>https://www.udemy.com/using-modx-cms-to-build-...</td>\n",
       "      <td>True</td>\n",
       "      <td>45</td>\n",
       "      <td>901</td>\n",
       "      <td>36</td>\n",
       "      <td>20</td>\n",
       "      <td>Beginner Level</td>\n",
       "      <td>2.000000</td>\n",
       "      <td>2014-09-28 19:51:11+00:00</td>\n",
       "      <td>Web Development</td>\n",
       "    </tr>\n",
       "  </tbody>\n",
       "</table>\n",
       "</div>"
      ],
      "text/plain": [
       "      course_id                                       course_title  \\\n",
       "3668     270976                             A how to guide in HTML   \n",
       "3669     679992                  Building Better APIs with GraphQL   \n",
       "3670     330900  Learn Grunt with Examples: Automate Your Front...   \n",
       "3671     667122  Build A Stock Downloader With Visual Studio 20...   \n",
       "3672     865438    jQuery UI in Action: Build 5 jQuery UI Projects   \n",
       "3673     775618  Learn jQuery from Scratch - Master of JavaScri...   \n",
       "3674    1088178  How To Design A WordPress Website With No Codi...   \n",
       "3675     635248                      Learn and Build using Polymer   \n",
       "3676     905096  CSS Animations: Create Amazing Effects on Your...   \n",
       "3677     297602  Using MODX CMS to Build Websites: A Beginner's...   \n",
       "\n",
       "                                                    url  is_paid  price  \\\n",
       "3668      https://www.udemy.com/a-how-to-guide-in-html/    False      0   \n",
       "3669  https://www.udemy.com/building-better-apis-wit...     True     50   \n",
       "3670  https://www.udemy.com/learn-grunt-automate-you...     True     20   \n",
       "3671  https://www.udemy.com/csharpyahoostockdownloader/     True     20   \n",
       "3672  https://www.udemy.com/jquery-ui-practical-buil...     True    150   \n",
       "3673  https://www.udemy.com/easy-jquery-for-beginner...     True    100   \n",
       "3674  https://www.udemy.com/how-to-make-a-wordpress-...     True     25   \n",
       "3675  https://www.udemy.com/learn-and-build-using-po...     True     40   \n",
       "3676  https://www.udemy.com/css-animations-create-am...     True     50   \n",
       "3677  https://www.udemy.com/using-modx-cms-to-build-...     True     45   \n",
       "\n",
       "      num_subscribers  num_reviews  num_lectures               level  \\\n",
       "3668             7318          205             8      Beginner Level   \n",
       "3669              555           89            16          All Levels   \n",
       "3670              496          113            17          All Levels   \n",
       "3671              436           36            22  Intermediate Level   \n",
       "3672              382           28           140          All Levels   \n",
       "3673             1040           14            21          All Levels   \n",
       "3674              306            3            42      Beginner Level   \n",
       "3675              513          169            48          All Levels   \n",
       "3676              300           31            38          All Levels   \n",
       "3677              901           36            20      Beginner Level   \n",
       "\n",
       "      content_duration       published_timestamp          subject  \n",
       "3668          0.583333 2014-08-10 20:19:10+00:00  Web Development  \n",
       "3669          2.500000 2015-11-29 22:02:02+00:00  Web Development  \n",
       "3670          1.000000 2014-12-19 21:38:54+00:00  Web Development  \n",
       "3671          1.500000 2015-11-19 17:22:47+00:00  Web Development  \n",
       "3672         15.500000 2016-10-10 22:00:32+00:00  Web Development  \n",
       "3673          2.000000 2016-06-14 17:36:46+00:00  Web Development  \n",
       "3674          3.500000 2017-03-10 22:24:30+00:00  Web Development  \n",
       "3675          3.500000 2015-12-30 16:41:42+00:00  Web Development  \n",
       "3676          3.000000 2016-08-11 19:06:15+00:00  Web Development  \n",
       "3677          2.000000 2014-09-28 19:51:11+00:00  Web Development  "
      ]
     },
     "execution_count": 5,
     "metadata": {},
     "output_type": "execute_result"
    }
   ],
   "source": [
    "data.tail(10)"
   ]
  },
  {
   "cell_type": "markdown",
   "id": "0b9a0fc8",
   "metadata": {
    "id": "xp-r1xAli0o0",
    "papermill": {
     "duration": 0.046947,
     "end_time": "2022-05-11T12:40:14.227455",
     "exception": false,
     "start_time": "2022-05-11T12:40:14.180508",
     "status": "completed"
    },
    "tags": []
   },
   "source": [
    "**3.Find shape of our dataset**"
   ]
  },
  {
   "cell_type": "code",
   "execution_count": 6,
   "id": "7c64ef1a",
   "metadata": {
    "execution": {
     "iopub.execute_input": "2022-05-11T12:40:14.325560Z",
     "iopub.status.busy": "2022-05-11T12:40:14.325270Z",
     "iopub.status.idle": "2022-05-11T12:40:14.330644Z",
     "shell.execute_reply": "2022-05-11T12:40:14.329991Z"
    },
    "id": "rZWtIIOFlbcu",
    "outputId": "a0113671-9944-4ce5-94d9-a376bf569097",
    "papermill": {
     "duration": 0.059112,
     "end_time": "2022-05-11T12:40:14.332664",
     "exception": false,
     "start_time": "2022-05-11T12:40:14.273552",
     "status": "completed"
    },
    "tags": []
   },
   "outputs": [
    {
     "data": {
      "text/plain": [
       "(3678, 12)"
      ]
     },
     "execution_count": 6,
     "metadata": {},
     "output_type": "execute_result"
    }
   ],
   "source": [
    "data.shape"
   ]
  },
  {
   "cell_type": "code",
   "execution_count": 7,
   "id": "6d99b2f6",
   "metadata": {
    "execution": {
     "iopub.execute_input": "2022-05-11T12:40:14.435205Z",
     "iopub.status.busy": "2022-05-11T12:40:14.434907Z",
     "iopub.status.idle": "2022-05-11T12:40:14.440749Z",
     "shell.execute_reply": "2022-05-11T12:40:14.439737Z"
    },
    "id": "SaMzAA1mleoH",
    "outputId": "75dd1716-52f4-4f17-ca31-c366354f40ab",
    "papermill": {
     "duration": 0.057931,
     "end_time": "2022-05-11T12:40:14.443405",
     "exception": false,
     "start_time": "2022-05-11T12:40:14.385474",
     "status": "completed"
    },
    "tags": []
   },
   "outputs": [
    {
     "name": "stdout",
     "output_type": "stream",
     "text": [
      "No of rows 3678\n",
      "No of columns 12\n"
     ]
    }
   ],
   "source": [
    "print(\"No of rows\",data.shape[0])\n",
    "print(\"No of columns\",data.shape[1])"
   ]
  },
  {
   "cell_type": "markdown",
   "id": "abc18305",
   "metadata": {
    "id": "F9tgzqHyltqX",
    "papermill": {
     "duration": 0.052051,
     "end_time": "2022-05-11T12:40:14.547720",
     "exception": false,
     "start_time": "2022-05-11T12:40:14.495669",
     "status": "completed"
    },
    "tags": []
   },
   "source": [
    "**4.Getting information about our dataset**"
   ]
  },
  {
   "cell_type": "code",
   "execution_count": 8,
   "id": "29b6a682",
   "metadata": {
    "execution": {
     "iopub.execute_input": "2022-05-11T12:40:14.644718Z",
     "iopub.status.busy": "2022-05-11T12:40:14.643758Z",
     "iopub.status.idle": "2022-05-11T12:40:14.668488Z",
     "shell.execute_reply": "2022-05-11T12:40:14.667768Z"
    },
    "id": "-EKrNHTGl0UN",
    "outputId": "3117acca-026e-42b9-8112-ac91f48a68ef",
    "papermill": {
     "duration": 0.074409,
     "end_time": "2022-05-11T12:40:14.670861",
     "exception": false,
     "start_time": "2022-05-11T12:40:14.596452",
     "status": "completed"
    },
    "tags": []
   },
   "outputs": [
    {
     "name": "stdout",
     "output_type": "stream",
     "text": [
      "<class 'pandas.core.frame.DataFrame'>\n",
      "RangeIndex: 3678 entries, 0 to 3677\n",
      "Data columns (total 12 columns):\n",
      " #   Column               Non-Null Count  Dtype              \n",
      "---  ------               --------------  -----              \n",
      " 0   course_id            3678 non-null   int64              \n",
      " 1   course_title         3678 non-null   object             \n",
      " 2   url                  3678 non-null   object             \n",
      " 3   is_paid              3678 non-null   bool               \n",
      " 4   price                3678 non-null   int64              \n",
      " 5   num_subscribers      3678 non-null   int64              \n",
      " 6   num_reviews          3678 non-null   int64              \n",
      " 7   num_lectures         3678 non-null   int64              \n",
      " 8   level                3678 non-null   object             \n",
      " 9   content_duration     3678 non-null   float64            \n",
      " 10  published_timestamp  3678 non-null   datetime64[ns, UTC]\n",
      " 11  subject              3678 non-null   object             \n",
      "dtypes: bool(1), datetime64[ns, UTC](1), float64(1), int64(5), object(4)\n",
      "memory usage: 319.8+ KB\n"
     ]
    }
   ],
   "source": [
    "data.info()"
   ]
  },
  {
   "cell_type": "markdown",
   "id": "5822101d",
   "metadata": {
    "id": "bMCqColHl7aY",
    "papermill": {
     "duration": 0.048336,
     "end_time": "2022-05-11T12:40:14.769150",
     "exception": false,
     "start_time": "2022-05-11T12:40:14.720814",
     "status": "completed"
    },
    "tags": []
   },
   "source": [
    "**5.Check Null values in our dataset**"
   ]
  },
  {
   "cell_type": "code",
   "execution_count": 9,
   "id": "abd4a49b",
   "metadata": {
    "execution": {
     "iopub.execute_input": "2022-05-11T12:40:14.869849Z",
     "iopub.status.busy": "2022-05-11T12:40:14.869086Z",
     "iopub.status.idle": "2022-05-11T12:40:14.876951Z",
     "shell.execute_reply": "2022-05-11T12:40:14.875764Z"
    },
    "id": "l535Tq-tnGbY",
    "outputId": "67fa5129-aa1c-471f-c057-89fb8159eca8",
    "papermill": {
     "duration": 0.060716,
     "end_time": "2022-05-11T12:40:14.879130",
     "exception": false,
     "start_time": "2022-05-11T12:40:14.818414",
     "status": "completed"
    },
    "tags": []
   },
   "outputs": [
    {
     "name": "stdout",
     "output_type": "stream",
     "text": [
      "Any null value? False\n"
     ]
    }
   ],
   "source": [
    "print(\"Any null value?\",data.isnull().values.any())"
   ]
  },
  {
   "cell_type": "code",
   "execution_count": 10,
   "id": "28c37114",
   "metadata": {
    "execution": {
     "iopub.execute_input": "2022-05-11T12:40:14.978335Z",
     "iopub.status.busy": "2022-05-11T12:40:14.977697Z",
     "iopub.status.idle": "2022-05-11T12:40:14.986492Z",
     "shell.execute_reply": "2022-05-11T12:40:14.985620Z"
    },
    "id": "yMZcMZCImSsT",
    "outputId": "09c5b8dc-c119-4f55-bf8e-f7d932332e99",
    "papermill": {
     "duration": 0.060187,
     "end_time": "2022-05-11T12:40:14.988471",
     "exception": false,
     "start_time": "2022-05-11T12:40:14.928284",
     "status": "completed"
    },
    "tags": []
   },
   "outputs": [
    {
     "data": {
      "text/plain": [
       "course_id              0\n",
       "course_title           0\n",
       "url                    0\n",
       "is_paid                0\n",
       "price                  0\n",
       "num_subscribers        0\n",
       "num_reviews            0\n",
       "num_lectures           0\n",
       "level                  0\n",
       "content_duration       0\n",
       "published_timestamp    0\n",
       "subject                0\n",
       "dtype: int64"
      ]
     },
     "execution_count": 10,
     "metadata": {},
     "output_type": "execute_result"
    }
   ],
   "source": [
    "data.isnull().sum()"
   ]
  },
  {
   "cell_type": "code",
   "execution_count": 11,
   "id": "11b877f3",
   "metadata": {
    "execution": {
     "iopub.execute_input": "2022-05-11T12:40:15.086667Z",
     "iopub.status.busy": "2022-05-11T12:40:15.086155Z",
     "iopub.status.idle": "2022-05-11T12:40:15.558764Z",
     "shell.execute_reply": "2022-05-11T12:40:15.558019Z"
    },
    "id": "TkG7-smynWm1",
    "outputId": "db15ca82-310e-4fda-8e7f-c7d4264b1823",
    "papermill": {
     "duration": 0.524902,
     "end_time": "2022-05-11T12:40:15.560984",
     "exception": false,
     "start_time": "2022-05-11T12:40:15.036082",
     "status": "completed"
    },
    "tags": []
   },
   "outputs": [
    {
     "data": {
      "text/plain": [
       "<AxesSubplot:>"
      ]
     },
     "execution_count": 11,
     "metadata": {},
     "output_type": "execute_result"
    },
    {
     "data": {
      "image/png": "[encoded data removed]",
      "text/plain": [
       "<Figure size 432x288 with 2 Axes>"
      ]
     },
     "metadata": {
      "needs_background": "light"
     },
     "output_type": "display_data"
    }
   ],
   "source": [
    "sns.heatmap(data.isnull())"
   ]
  },
  {
   "cell_type": "markdown",
   "id": "8f2e3bcd",
   "metadata": {
    "id": "SWecP4Psmf1K",
    "papermill": {
     "duration": 0.049517,
     "end_time": "2022-05-11T12:40:15.661705",
     "exception": false,
     "start_time": "2022-05-11T12:40:15.612188",
     "status": "completed"
    },
    "tags": []
   },
   "source": [
    "**6.Check for duplicated data and drop them**"
   ]
  },
  {
   "cell_type": "code",
   "execution_count": 12,
   "id": "f5c93757",
   "metadata": {
    "execution": {
     "iopub.execute_input": "2022-05-11T12:40:15.769807Z",
     "iopub.status.busy": "2022-05-11T12:40:15.769083Z",
     "iopub.status.idle": "2022-05-11T12:40:15.781468Z",
     "shell.execute_reply": "2022-05-11T12:40:15.780385Z"
    },
    "id": "DdggXtOmmlXU",
    "outputId": "cc65abba-d67e-4ba8-ce6f-66f48a43b800",
    "papermill": {
     "duration": 0.065986,
     "end_time": "2022-05-11T12:40:15.783666",
     "exception": false,
     "start_time": "2022-05-11T12:40:15.717680",
     "status": "completed"
    },
    "tags": []
   },
   "outputs": [
    {
     "name": "stdout",
     "output_type": "stream",
     "text": [
      "Any duplicated value? True\n"
     ]
    }
   ],
   "source": [
    "dup=data.duplicated().values.any()\n",
    "print(\"Any duplicated value?\",dup)"
   ]
  },
  {
   "cell_type": "code",
   "execution_count": 13,
   "id": "3034d7b0",
   "metadata": {
    "execution": {
     "iopub.execute_input": "2022-05-11T12:40:15.883258Z",
     "iopub.status.busy": "2022-05-11T12:40:15.882609Z",
     "iopub.status.idle": "2022-05-11T12:40:15.894958Z",
     "shell.execute_reply": "2022-05-11T12:40:15.894252Z"
    },
    "id": "EhQEHdStnvMY",
    "papermill": {
     "duration": 0.064506,
     "end_time": "2022-05-11T12:40:15.897156",
     "exception": false,
     "start_time": "2022-05-11T12:40:15.832650",
     "status": "completed"
    },
    "tags": []
   },
   "outputs": [],
   "source": [
    "data=data.drop_duplicates()"
   ]
  },
  {
   "cell_type": "code",
   "execution_count": 14,
   "id": "8c339195",
   "metadata": {
    "execution": {
     "iopub.execute_input": "2022-05-11T12:40:16.003656Z",
     "iopub.status.busy": "2022-05-11T12:40:16.002840Z",
     "iopub.status.idle": "2022-05-11T12:40:16.014641Z",
     "shell.execute_reply": "2022-05-11T12:40:16.013453Z"
    },
    "id": "SkCVBuenoxy-",
    "outputId": "a3fa0d7f-f01b-44b3-9e79-0183f16aa4ec",
    "papermill": {
     "duration": 0.069643,
     "end_time": "2022-05-11T12:40:16.016678",
     "exception": false,
     "start_time": "2022-05-11T12:40:15.947035",
     "status": "completed"
    },
    "tags": []
   },
   "outputs": [
    {
     "name": "stdout",
     "output_type": "stream",
     "text": [
      "Any duplicated value? False\n"
     ]
    }
   ],
   "source": [
    "dup=data.duplicated().values.any()\n",
    "print(\"Any duplicated value?\",dup)"
   ]
  },
  {
   "cell_type": "markdown",
   "id": "182aebef",
   "metadata": {
    "id": "1jf7GGhWoz6K",
    "papermill": {
     "duration": 0.05121,
     "end_time": "2022-05-11T12:40:16.118171",
     "exception": false,
     "start_time": "2022-05-11T12:40:16.066961",
     "status": "completed"
    },
    "tags": []
   },
   "source": [
    "**7.Find out Number of Courses Per Subject**"
   ]
  },
  {
   "cell_type": "code",
   "execution_count": 15,
   "id": "62dc2be7",
   "metadata": {
    "execution": {
     "iopub.execute_input": "2022-05-11T12:40:16.222139Z",
     "iopub.status.busy": "2022-05-11T12:40:16.221807Z",
     "iopub.status.idle": "2022-05-11T12:40:16.227432Z",
     "shell.execute_reply": "2022-05-11T12:40:16.226666Z"
    },
    "id": "dp_E51Fgo73k",
    "outputId": "fff12af4-4a5c-4dcb-96c0-e3b887e2dd6e",
    "papermill": {
     "duration": 0.060067,
     "end_time": "2022-05-11T12:40:16.229177",
     "exception": false,
     "start_time": "2022-05-11T12:40:16.169110",
     "status": "completed"
    },
    "tags": []
   },
   "outputs": [
    {
     "data": {
      "text/plain": [
       "Index(['course_id', 'course_title', 'url', 'is_paid', 'price',\n",
       "       'num_subscribers', 'num_reviews', 'num_lectures', 'level',\n",
       "       'content_duration', 'published_timestamp', 'subject'],\n",
       "      dtype='object')"
      ]
     },
     "execution_count": 15,
     "metadata": {},
     "output_type": "execute_result"
    }
   ],
   "source": [
    "data.columns"
   ]
  },
  {
   "cell_type": "code",
   "execution_count": 16,
   "id": "b70d6e97",
   "metadata": {
    "execution": {
     "iopub.execute_input": "2022-05-11T12:40:16.333545Z",
     "iopub.status.busy": "2022-05-11T12:40:16.332952Z",
     "iopub.status.idle": "2022-05-11T12:40:16.339782Z",
     "shell.execute_reply": "2022-05-11T12:40:16.339102Z"
    },
    "id": "NQ42Cyozq7-I",
    "outputId": "d0d208be-eabc-4a2a-efae-32d8f3245164",
    "papermill": {
     "duration": 0.06032,
     "end_time": "2022-05-11T12:40:16.341743",
     "exception": false,
     "start_time": "2022-05-11T12:40:16.281423",
     "status": "completed"
    },
    "tags": []
   },
   "outputs": [
    {
     "data": {
      "text/plain": [
       "Web Development        1199\n",
       "Business Finance       1191\n",
       "Musical Instruments     680\n",
       "Graphic Design          602\n",
       "Name: subject, dtype: int64"
      ]
     },
     "execution_count": 16,
     "metadata": {},
     "output_type": "execute_result"
    }
   ],
   "source": [
    "data['subject'].value_counts()"
   ]
  },
  {
   "cell_type": "code",
   "execution_count": 17,
   "id": "3b6cfbdc",
   "metadata": {
    "execution": {
     "iopub.execute_input": "2022-05-11T12:40:16.445879Z",
     "iopub.status.busy": "2022-05-11T12:40:16.445328Z",
     "iopub.status.idle": "2022-05-11T12:40:16.630648Z",
     "shell.execute_reply": "2022-05-11T12:40:16.629442Z"
    },
    "id": "_LJbGRhOrcUL",
    "outputId": "12fb5c1a-8344-4bec-bcbe-9067608f0844",
    "papermill": {
     "duration": 0.238704,
     "end_time": "2022-05-11T12:40:16.633279",
     "exception": false,
     "start_time": "2022-05-11T12:40:16.394575",
     "status": "completed"
    },
    "tags": []
   },
   "outputs": [
    {
     "name": "stderr",
     "output_type": "stream",
     "text": [
      "/opt/conda/lib/python3.7/site-packages/seaborn/_decorators.py:43: FutureWarning: Pass the following variable as a keyword arg: x. From version 0.12, the only valid positional argument will be `data`, and passing other arguments without an explicit keyword will result in an error or misinterpretation.\n",
      "  FutureWarning\n"
     ]
    },
    {
     "data": {
      "image/png": "[encoded data removed]",
      "text/plain": [
       "<Figure size 432x288 with 1 Axes>"
      ]
     },
     "metadata": {
      "needs_background": "light"
     },
     "output_type": "display_data"
    }
   ],
   "source": [
    "sns.countplot(data['subject'])\n",
    "plt.ylabel(\"No fo courses per subject\",fontsize=10)\n",
    "plt.xlabel(\"Subject\",fontsize=10)\n",
    "plt.xticks(rotation=60)\n",
    "plt.show()"
   ]
  },
  {
   "cell_type": "markdown",
   "id": "98173056",
   "metadata": {
    "id": "itkJiSKWsU8n",
    "papermill": {
     "duration": 0.055542,
     "end_time": "2022-05-11T12:40:16.742261",
     "exception": false,
     "start_time": "2022-05-11T12:40:16.686719",
     "status": "completed"
    },
    "tags": []
   },
   "source": [
    "**8.For which level Udemy Courses Providing the courses**"
   ]
  },
  {
   "cell_type": "code",
   "execution_count": 18,
   "id": "575758e2",
   "metadata": {
    "execution": {
     "iopub.execute_input": "2022-05-11T12:40:16.850527Z",
     "iopub.status.busy": "2022-05-11T12:40:16.850203Z",
     "iopub.status.idle": "2022-05-11T12:40:16.855778Z",
     "shell.execute_reply": "2022-05-11T12:40:16.855089Z"
    },
    "id": "IC5Wbu5IskZs",
    "outputId": "3971117d-38a5-433e-9d14-663de3f41195",
    "papermill": {
     "duration": 0.062828,
     "end_time": "2022-05-11T12:40:16.857822",
     "exception": false,
     "start_time": "2022-05-11T12:40:16.794994",
     "status": "completed"
    },
    "tags": []
   },
   "outputs": [
    {
     "data": {
      "text/plain": [
       "Index(['course_id', 'course_title', 'url', 'is_paid', 'price',\n",
       "       'num_subscribers', 'num_reviews', 'num_lectures', 'level',\n",
       "       'content_duration', 'published_timestamp', 'subject'],\n",
       "      dtype='object')"
      ]
     },
     "execution_count": 18,
     "metadata": {},
     "output_type": "execute_result"
    }
   ],
   "source": [
    "data.columns"
   ]
  },
  {
   "cell_type": "code",
   "execution_count": 19,
   "id": "1bb396bd",
   "metadata": {
    "execution": {
     "iopub.execute_input": "2022-05-11T12:40:16.967840Z",
     "iopub.status.busy": "2022-05-11T12:40:16.967281Z",
     "iopub.status.idle": "2022-05-11T12:40:16.976482Z",
     "shell.execute_reply": "2022-05-11T12:40:16.975244Z"
    },
    "id": "ubocWOXMs-n2",
    "outputId": "6380cbe1-561e-43a2-d066-f33c39a0f2f9",
    "papermill": {
     "duration": 0.066724,
     "end_time": "2022-05-11T12:40:16.978722",
     "exception": false,
     "start_time": "2022-05-11T12:40:16.911998",
     "status": "completed"
    },
    "tags": []
   },
   "outputs": [
    {
     "data": {
      "text/plain": [
       "All Levels            1925\n",
       "Beginner Level        1268\n",
       "Intermediate Level     421\n",
       "Expert Level            58\n",
       "Name: level, dtype: int64"
      ]
     },
     "execution_count": 19,
     "metadata": {},
     "output_type": "execute_result"
    }
   ],
   "source": [
    "data['level'].value_counts()"
   ]
  },
  {
   "cell_type": "code",
   "execution_count": 20,
   "id": "25e11284",
   "metadata": {
    "execution": {
     "iopub.execute_input": "2022-05-11T12:40:17.085573Z",
     "iopub.status.busy": "2022-05-11T12:40:17.085012Z",
     "iopub.status.idle": "2022-05-11T12:40:17.270125Z",
     "shell.execute_reply": "2022-05-11T12:40:17.269223Z"
    },
    "id": "TSxD9IH9s7ZU",
    "outputId": "cae49a4d-d999-4377-ee68-844bb917eeff",
    "papermill": {
     "duration": 0.241478,
     "end_time": "2022-05-11T12:40:17.272466",
     "exception": false,
     "start_time": "2022-05-11T12:40:17.030988",
     "status": "completed"
    },
    "tags": []
   },
   "outputs": [
    {
     "name": "stderr",
     "output_type": "stream",
     "text": [
      "/opt/conda/lib/python3.7/site-packages/seaborn/_decorators.py:43: FutureWarning: Pass the following variable as a keyword arg: x. From version 0.12, the only valid positional argument will be `data`, and passing other arguments without an explicit keyword will result in an error or misinterpretation.\n",
      "  FutureWarning\n"
     ]
    },
    {
     "data": {
      "image/png": "[encoded data removed]",
      "text/plain": [
       "<Figure size 432x288 with 1 Axes>"
      ]
     },
     "metadata": {
      "needs_background": "light"
     },
     "output_type": "display_data"
    }
   ],
   "source": [
    "sns.countplot(data['level'])\n",
    "plt.ylabel(\"No fo level per courses\",fontsize=10)\n",
    "plt.xlabel(\"level\",fontsize=10)\n",
    "plt.xticks(rotation=60)\n",
    "plt.show()"
   ]
  },
  {
   "cell_type": "markdown",
   "id": "50c6f9d9",
   "metadata": {
    "id": "jAgj64zatZ_t",
    "papermill": {
     "duration": 0.053337,
     "end_time": "2022-05-11T12:40:17.379419",
     "exception": false,
     "start_time": "2022-05-11T12:40:17.326082",
     "status": "completed"
    },
    "tags": []
   },
   "source": [
    "**9.Display the count of paid and free courses**"
   ]
  },
  {
   "cell_type": "code",
   "execution_count": 21,
   "id": "aa120728",
   "metadata": {
    "execution": {
     "iopub.execute_input": "2022-05-11T12:40:17.488040Z",
     "iopub.status.busy": "2022-05-11T12:40:17.487748Z",
     "iopub.status.idle": "2022-05-11T12:40:17.493512Z",
     "shell.execute_reply": "2022-05-11T12:40:17.492562Z"
    },
    "id": "QIUE3AWctoNp",
    "outputId": "13bfeecb-7b1e-4fb1-e4f0-b1bec2a84e8f",
    "papermill": {
     "duration": 0.062842,
     "end_time": "2022-05-11T12:40:17.495567",
     "exception": false,
     "start_time": "2022-05-11T12:40:17.432725",
     "status": "completed"
    },
    "tags": []
   },
   "outputs": [
    {
     "data": {
      "text/plain": [
       "Index(['course_id', 'course_title', 'url', 'is_paid', 'price',\n",
       "       'num_subscribers', 'num_reviews', 'num_lectures', 'level',\n",
       "       'content_duration', 'published_timestamp', 'subject'],\n",
       "      dtype='object')"
      ]
     },
     "execution_count": 21,
     "metadata": {},
     "output_type": "execute_result"
    }
   ],
   "source": [
    "data.columns"
   ]
  },
  {
   "cell_type": "code",
   "execution_count": 22,
   "id": "c017cab3",
   "metadata": {
    "execution": {
     "iopub.execute_input": "2022-05-11T12:40:17.604115Z",
     "iopub.status.busy": "2022-05-11T12:40:17.603591Z",
     "iopub.status.idle": "2022-05-11T12:40:17.610905Z",
     "shell.execute_reply": "2022-05-11T12:40:17.610286Z"
    },
    "id": "r90TFsxit3Xz",
    "outputId": "f32b11b2-5124-41ec-c381-8573ed3de872",
    "papermill": {
     "duration": 0.06354,
     "end_time": "2022-05-11T12:40:17.612806",
     "exception": false,
     "start_time": "2022-05-11T12:40:17.549266",
     "status": "completed"
    },
    "tags": []
   },
   "outputs": [
    {
     "data": {
      "text/plain": [
       "True     3362\n",
       "False     310\n",
       "Name: is_paid, dtype: int64"
      ]
     },
     "execution_count": 22,
     "metadata": {},
     "output_type": "execute_result"
    }
   ],
   "source": [
    "data['is_paid'].value_counts()"
   ]
  },
  {
   "cell_type": "code",
   "execution_count": 23,
   "id": "a49904b6",
   "metadata": {
    "execution": {
     "iopub.execute_input": "2022-05-11T12:40:17.727711Z",
     "iopub.status.busy": "2022-05-11T12:40:17.727236Z",
     "iopub.status.idle": "2022-05-11T12:40:17.887838Z",
     "shell.execute_reply": "2022-05-11T12:40:17.887177Z"
    },
    "id": "4DJmO4tRuPSy",
    "outputId": "75b25fa2-85b3-4a6d-e7ae-cc0e40571446",
    "papermill": {
     "duration": 0.220621,
     "end_time": "2022-05-11T12:40:17.889715",
     "exception": false,
     "start_time": "2022-05-11T12:40:17.669094",
     "status": "completed"
    },
    "tags": []
   },
   "outputs": [
    {
     "name": "stderr",
     "output_type": "stream",
     "text": [
      "/opt/conda/lib/python3.7/site-packages/seaborn/_decorators.py:43: FutureWarning: Pass the following variable as a keyword arg: x. From version 0.12, the only valid positional argument will be `data`, and passing other arguments without an explicit keyword will result in an error or misinterpretation.\n",
      "  FutureWarning\n"
     ]
    },
    {
     "data": {
      "image/png": "[encoded data removed]",
      "text/plain": [
       "<Figure size 432x288 with 1 Axes>"
      ]
     },
     "metadata": {
      "needs_background": "light"
     },
     "output_type": "display_data"
    }
   ],
   "source": [
    "sns.countplot(data['is_paid'])\n",
    "plt.ylabel(\"No of free and paid couses\",fontsize=10)\n",
    "plt.xlabel(\"is_paid\",fontsize=10)\n",
    "plt.xticks(rotation=60)\n",
    "plt.show()"
   ]
  },
  {
   "cell_type": "markdown",
   "id": "6ab599b8",
   "metadata": {
    "id": "3Za7DX7iueUW",
    "papermill": {
     "duration": 0.055948,
     "end_time": "2022-05-11T12:40:18.001694",
     "exception": false,
     "start_time": "2022-05-11T12:40:17.945746",
     "status": "completed"
    },
    "tags": []
   },
   "source": [
    "**10.Which Course Has more lectures(free or paid)**"
   ]
  },
  {
   "cell_type": "code",
   "execution_count": 24,
   "id": "e8aa3efc",
   "metadata": {
    "execution": {
     "iopub.execute_input": "2022-05-11T12:40:18.113517Z",
     "iopub.status.busy": "2022-05-11T12:40:18.113080Z",
     "iopub.status.idle": "2022-05-11T12:40:18.118633Z",
     "shell.execute_reply": "2022-05-11T12:40:18.117621Z"
    },
    "id": "6vS3rybcukXT",
    "outputId": "f9ff53cf-ea76-43a4-d663-40687ebcaf83",
    "papermill": {
     "duration": 0.063554,
     "end_time": "2022-05-11T12:40:18.120680",
     "exception": false,
     "start_time": "2022-05-11T12:40:18.057126",
     "status": "completed"
    },
    "tags": []
   },
   "outputs": [
    {
     "data": {
      "text/plain": [
       "Index(['course_id', 'course_title', 'url', 'is_paid', 'price',\n",
       "       'num_subscribers', 'num_reviews', 'num_lectures', 'level',\n",
       "       'content_duration', 'published_timestamp', 'subject'],\n",
       "      dtype='object')"
      ]
     },
     "execution_count": 24,
     "metadata": {},
     "output_type": "execute_result"
    }
   ],
   "source": [
    "data.columns"
   ]
  },
  {
   "cell_type": "code",
   "execution_count": 25,
   "id": "3904ba62",
   "metadata": {
    "execution": {
     "iopub.execute_input": "2022-05-11T12:40:18.235564Z",
     "iopub.status.busy": "2022-05-11T12:40:18.235154Z",
     "iopub.status.idle": "2022-05-11T12:40:18.250778Z",
     "shell.execute_reply": "2022-05-11T12:40:18.249805Z"
    },
    "id": "rQG4PJH5uzb0",
    "outputId": "fd977a67-f70e-4af2-dbb6-bd97319ba329",
    "papermill": {
     "duration": 0.073836,
     "end_time": "2022-05-11T12:40:18.252813",
     "exception": false,
     "start_time": "2022-05-11T12:40:18.178977",
     "status": "completed"
    },
    "tags": []
   },
   "outputs": [
    {
     "data": {
      "text/html": [
       "<div>\n",
       "<style scoped>\n",
       "    .dataframe tbody tr th:only-of-type {\n",
       "        vertical-align: middle;\n",
       "    }\n",
       "\n",
       "    .dataframe tbody tr th {\n",
       "        vertical-align: top;\n",
       "    }\n",
       "\n",
       "    .dataframe thead th {\n",
       "        text-align: right;\n",
       "    }\n",
       "</style>\n",
       "<table border=\"1\" class=\"dataframe\">\n",
       "  <thead>\n",
       "    <tr style=\"text-align: right;\">\n",
       "      <th></th>\n",
       "      <th>course_id</th>\n",
       "      <th>price</th>\n",
       "      <th>num_subscribers</th>\n",
       "      <th>num_reviews</th>\n",
       "      <th>num_lectures</th>\n",
       "      <th>content_duration</th>\n",
       "    </tr>\n",
       "    <tr>\n",
       "      <th>is_paid</th>\n",
       "      <th></th>\n",
       "      <th></th>\n",
       "      <th></th>\n",
       "      <th></th>\n",
       "      <th></th>\n",
       "      <th></th>\n",
       "    </tr>\n",
       "  </thead>\n",
       "  <tbody>\n",
       "    <tr>\n",
       "      <th>False</th>\n",
       "      <td>691446.970968</td>\n",
       "      <td>0.000000</td>\n",
       "      <td>11533.951613</td>\n",
       "      <td>425.929032</td>\n",
       "      <td>21.416129</td>\n",
       "      <td>2.210753</td>\n",
       "    </tr>\n",
       "    <tr>\n",
       "      <th>True</th>\n",
       "      <td>674463.946163</td>\n",
       "      <td>72.198096</td>\n",
       "      <td>2421.270077</td>\n",
       "      <td>131.516359</td>\n",
       "      <td>41.866746</td>\n",
       "      <td>4.271584</td>\n",
       "    </tr>\n",
       "  </tbody>\n",
       "</table>\n",
       "</div>"
      ],
      "text/plain": [
       "             course_id      price  num_subscribers  num_reviews  num_lectures  \\\n",
       "is_paid                                                                         \n",
       "False    691446.970968   0.000000     11533.951613   425.929032     21.416129   \n",
       "True     674463.946163  72.198096      2421.270077   131.516359     41.866746   \n",
       "\n",
       "         content_duration  \n",
       "is_paid                    \n",
       "False            2.210753  \n",
       "True             4.271584  "
      ]
     },
     "execution_count": 25,
     "metadata": {},
     "output_type": "execute_result"
    }
   ],
   "source": [
    "data.groupby(\"is_paid\").mean()"
   ]
  },
  {
   "cell_type": "markdown",
   "id": "4e8dc091",
   "metadata": {
    "id": "UIf1-0AqviiN",
    "papermill": {
     "duration": 0.05509,
     "end_time": "2022-05-11T12:40:18.363321",
     "exception": false,
     "start_time": "2022-05-11T12:40:18.308231",
     "status": "completed"
    },
    "tags": []
   },
   "source": [
    "**11.Which course have a higher number of subscribers free or paid**"
   ]
  },
  {
   "cell_type": "code",
   "execution_count": 26,
   "id": "28b4b1a7",
   "metadata": {
    "execution": {
     "iopub.execute_input": "2022-05-11T12:40:18.474850Z",
     "iopub.status.busy": "2022-05-11T12:40:18.474412Z",
     "iopub.status.idle": "2022-05-11T12:40:18.480946Z",
     "shell.execute_reply": "2022-05-11T12:40:18.480068Z"
    },
    "id": "WsMUTIsuvrU3",
    "outputId": "7273d439-4567-42ff-dadb-885a6f5b3b47",
    "papermill": {
     "duration": 0.064739,
     "end_time": "2022-05-11T12:40:18.482969",
     "exception": false,
     "start_time": "2022-05-11T12:40:18.418230",
     "status": "completed"
    },
    "tags": []
   },
   "outputs": [
    {
     "data": {
      "text/plain": [
       "Index(['course_id', 'course_title', 'url', 'is_paid', 'price',\n",
       "       'num_subscribers', 'num_reviews', 'num_lectures', 'level',\n",
       "       'content_duration', 'published_timestamp', 'subject'],\n",
       "      dtype='object')"
      ]
     },
     "execution_count": 26,
     "metadata": {},
     "output_type": "execute_result"
    }
   ],
   "source": [
    "data.columns"
   ]
  },
  {
   "cell_type": "code",
   "execution_count": 27,
   "id": "185c1562",
   "metadata": {
    "execution": {
     "iopub.execute_input": "2022-05-11T12:40:18.596727Z",
     "iopub.status.busy": "2022-05-11T12:40:18.596183Z",
     "iopub.status.idle": "2022-05-11T12:40:18.863614Z",
     "shell.execute_reply": "2022-05-11T12:40:18.862690Z"
    },
    "id": "QYwM_yUnwaij",
    "outputId": "19f669a8-e1f6-4e18-aa8d-e50e2313cfe9",
    "papermill": {
     "duration": 0.326851,
     "end_time": "2022-05-11T12:40:18.865942",
     "exception": false,
     "start_time": "2022-05-11T12:40:18.539091",
     "status": "completed"
    },
    "tags": []
   },
   "outputs": [
    {
     "data": {
      "text/plain": [
       "<AxesSubplot:xlabel='is_paid', ylabel='num_subscribers'>"
      ]
     },
     "execution_count": 27,
     "metadata": {},
     "output_type": "execute_result"
    },
    {
     "data": {
      "image/png": "[encoded data removed]",
      "text/plain": [
       "<Figure size 432x288 with 1 Axes>"
      ]
     },
     "metadata": {
      "needs_background": "light"
     },
     "output_type": "display_data"
    }
   ],
   "source": [
    "sns.barplot(x=\"is_paid\",y=\"num_subscribers\",data=data)"
   ]
  },
  {
   "cell_type": "markdown",
   "id": "f6a9afa4",
   "metadata": {
    "id": "ENHQre-hwsl9",
    "papermill": {
     "duration": 0.055734,
     "end_time": "2022-05-11T12:40:18.980261",
     "exception": false,
     "start_time": "2022-05-11T12:40:18.924527",
     "status": "completed"
    },
    "tags": []
   },
   "source": [
    "**12.Which level has the highest number of subscriberst**"
   ]
  },
  {
   "cell_type": "code",
   "execution_count": 28,
   "id": "9bef2b6f",
   "metadata": {
    "execution": {
     "iopub.execute_input": "2022-05-11T12:40:19.098106Z",
     "iopub.status.busy": "2022-05-11T12:40:19.097812Z",
     "iopub.status.idle": "2022-05-11T12:40:19.104403Z",
     "shell.execute_reply": "2022-05-11T12:40:19.103340Z"
    },
    "id": "bhyhYCdTwxya",
    "outputId": "bd24935f-8dcd-4fff-f81f-2710efcbb2de",
    "papermill": {
     "duration": 0.067846,
     "end_time": "2022-05-11T12:40:19.106436",
     "exception": false,
     "start_time": "2022-05-11T12:40:19.038590",
     "status": "completed"
    },
    "tags": []
   },
   "outputs": [
    {
     "data": {
      "text/plain": [
       "Index(['course_id', 'course_title', 'url', 'is_paid', 'price',\n",
       "       'num_subscribers', 'num_reviews', 'num_lectures', 'level',\n",
       "       'content_duration', 'published_timestamp', 'subject'],\n",
       "      dtype='object')"
      ]
     },
     "execution_count": 28,
     "metadata": {},
     "output_type": "execute_result"
    }
   ],
   "source": [
    "data.columns"
   ]
  },
  {
   "cell_type": "code",
   "execution_count": 29,
   "id": "f9af0c0f",
   "metadata": {
    "execution": {
     "iopub.execute_input": "2022-05-11T12:40:19.221848Z",
     "iopub.status.busy": "2022-05-11T12:40:19.221554Z",
     "iopub.status.idle": "2022-05-11T12:40:19.541079Z",
     "shell.execute_reply": "2022-05-11T12:40:19.540454Z"
    },
    "id": "JmM_ASa5w3kU",
    "outputId": "659bbb15-922f-47b7-9267-0480b9a8f3a9",
    "papermill": {
     "duration": 0.379786,
     "end_time": "2022-05-11T12:40:19.543039",
     "exception": false,
     "start_time": "2022-05-11T12:40:19.163253",
     "status": "completed"
    },
    "tags": []
   },
   "outputs": [
    {
     "data": {
      "image/png": "[encoded data removed]",
      "text/plain": [
       "<Figure size 432x288 with 1 Axes>"
      ]
     },
     "metadata": {
      "needs_background": "light"
     },
     "output_type": "display_data"
    }
   ],
   "source": [
    "sns.barplot(x=\"level\",y=\"num_subscribers\",data=data)\n",
    "plt.xticks(rotation=60) \n",
    "plt.show()"
   ]
  },
  {
   "cell_type": "markdown",
   "id": "c8678cbb",
   "metadata": {
    "id": "_Bp_9X-5xLrn",
    "papermill": {
     "duration": 0.056543,
     "end_time": "2022-05-11T12:40:19.656793",
     "exception": false,
     "start_time": "2022-05-11T12:40:19.600250",
     "status": "completed"
    },
    "tags": []
   },
   "source": [
    "**13.Find most popular Course Title**"
   ]
  },
  {
   "cell_type": "code",
   "execution_count": 30,
   "id": "58231217",
   "metadata": {
    "execution": {
     "iopub.execute_input": "2022-05-11T12:40:19.776527Z",
     "iopub.status.busy": "2022-05-11T12:40:19.776244Z",
     "iopub.status.idle": "2022-05-11T12:40:19.781663Z",
     "shell.execute_reply": "2022-05-11T12:40:19.781052Z"
    },
    "id": "GjBgIQr0xeHy",
    "outputId": "64a07075-85bf-4236-a290-e684d3412ba4",
    "papermill": {
     "duration": 0.069264,
     "end_time": "2022-05-11T12:40:19.783304",
     "exception": false,
     "start_time": "2022-05-11T12:40:19.714040",
     "status": "completed"
    },
    "tags": []
   },
   "outputs": [
    {
     "data": {
      "text/plain": [
       "Index(['course_id', 'course_title', 'url', 'is_paid', 'price',\n",
       "       'num_subscribers', 'num_reviews', 'num_lectures', 'level',\n",
       "       'content_duration', 'published_timestamp', 'subject'],\n",
       "      dtype='object')"
      ]
     },
     "execution_count": 30,
     "metadata": {},
     "output_type": "execute_result"
    }
   ],
   "source": [
    "data.columns"
   ]
  },
  {
   "cell_type": "code",
   "execution_count": 31,
   "id": "e8a9dca9",
   "metadata": {
    "execution": {
     "iopub.execute_input": "2022-05-11T12:40:19.908482Z",
     "iopub.status.busy": "2022-05-11T12:40:19.907947Z",
     "iopub.status.idle": "2022-05-11T12:40:19.915515Z",
     "shell.execute_reply": "2022-05-11T12:40:19.914837Z"
    },
    "id": "JSzHGLy8y4ND",
    "outputId": "90fcffdc-f3f5-4c5a-8c40-5061a8c973bd",
    "papermill": {
     "duration": 0.076469,
     "end_time": "2022-05-11T12:40:19.917464",
     "exception": false,
     "start_time": "2022-05-11T12:40:19.840995",
     "status": "completed"
    },
    "tags": []
   },
   "outputs": [
    {
     "data": {
      "text/plain": [
       "2827    Learn HTML5 Programming From Scratch\n",
       "Name: course_title, dtype: object"
      ]
     },
     "execution_count": 31,
     "metadata": {},
     "output_type": "execute_result"
    }
   ],
   "source": [
    "data[data['num_subscribers'].max()==data['num_subscribers']]['course_title']"
   ]
  },
  {
   "cell_type": "markdown",
   "id": "2a14b308",
   "metadata": {
    "id": "5G6VkdIF0Mno",
    "papermill": {
     "duration": 0.059777,
     "end_time": "2022-05-11T12:40:20.037867",
     "exception": false,
     "start_time": "2022-05-11T12:40:19.978090",
     "status": "completed"
    },
    "tags": []
   },
   "source": [
    "**14.Display 10 most Popular Course As per Number of subscribers**"
   ]
  },
  {
   "cell_type": "code",
   "execution_count": 32,
   "id": "c6b478ff",
   "metadata": {
    "execution": {
     "iopub.execute_input": "2022-05-11T12:40:20.164029Z",
     "iopub.status.busy": "2022-05-11T12:40:20.163500Z",
     "iopub.status.idle": "2022-05-11T12:40:20.168752Z",
     "shell.execute_reply": "2022-05-11T12:40:20.167923Z"
    },
    "id": "A0LfFfO00ZPp",
    "outputId": "a79985e9-3054-4711-862c-cd8492b65426",
    "papermill": {
     "duration": 0.069073,
     "end_time": "2022-05-11T12:40:20.170910",
     "exception": false,
     "start_time": "2022-05-11T12:40:20.101837",
     "status": "completed"
    },
    "tags": []
   },
   "outputs": [
    {
     "data": {
      "text/plain": [
       "Index(['course_id', 'course_title', 'url', 'is_paid', 'price',\n",
       "       'num_subscribers', 'num_reviews', 'num_lectures', 'level',\n",
       "       'content_duration', 'published_timestamp', 'subject'],\n",
       "      dtype='object')"
      ]
     },
     "execution_count": 32,
     "metadata": {},
     "output_type": "execute_result"
    }
   ],
   "source": [
    "data.columns"
   ]
  },
  {
   "cell_type": "code",
   "execution_count": 33,
   "id": "35e682df",
   "metadata": {
    "execution": {
     "iopub.execute_input": "2022-05-11T12:40:20.293346Z",
     "iopub.status.busy": "2022-05-11T12:40:20.292785Z",
     "iopub.status.idle": "2022-05-11T12:40:20.305573Z",
     "shell.execute_reply": "2022-05-11T12:40:20.304874Z"
    },
    "id": "3yZAC-BZ0bos",
    "outputId": "fe171655-9b3b-423c-81c0-c70e99d0b131",
    "papermill": {
     "duration": 0.07737,
     "end_time": "2022-05-11T12:40:20.307605",
     "exception": false,
     "start_time": "2022-05-11T12:40:20.230235",
     "status": "completed"
    },
    "tags": []
   },
   "outputs": [
    {
     "data": {
      "text/html": [
       "<div>\n",
       "<style scoped>\n",
       "    .dataframe tbody tr th:only-of-type {\n",
       "        vertical-align: middle;\n",
       "    }\n",
       "\n",
       "    .dataframe tbody tr th {\n",
       "        vertical-align: top;\n",
       "    }\n",
       "\n",
       "    .dataframe thead th {\n",
       "        text-align: right;\n",
       "    }\n",
       "</style>\n",
       "<table border=\"1\" class=\"dataframe\">\n",
       "  <thead>\n",
       "    <tr style=\"text-align: right;\">\n",
       "      <th></th>\n",
       "      <th>num_subscribers</th>\n",
       "    </tr>\n",
       "    <tr>\n",
       "      <th>course_title</th>\n",
       "      <th></th>\n",
       "    </tr>\n",
       "  </thead>\n",
       "  <tbody>\n",
       "    <tr>\n",
       "      <th>Learn HTML5 Programming From Scratch</th>\n",
       "      <td>268923</td>\n",
       "    </tr>\n",
       "    <tr>\n",
       "      <th>Coding for Entrepreneurs Basic</th>\n",
       "      <td>161029</td>\n",
       "    </tr>\n",
       "    <tr>\n",
       "      <th>The Web Developer Bootcamp</th>\n",
       "      <td>121584</td>\n",
       "    </tr>\n",
       "    <tr>\n",
       "      <th>Build Your First Website in 1 Week with HTML5 and CSS3</th>\n",
       "      <td>120291</td>\n",
       "    </tr>\n",
       "    <tr>\n",
       "      <th>The Complete Web Developer Course 2.0</th>\n",
       "      <td>114512</td>\n",
       "    </tr>\n",
       "    <tr>\n",
       "      <th>Free Beginner Electric Guitar Lessons</th>\n",
       "      <td>101154</td>\n",
       "    </tr>\n",
       "    <tr>\n",
       "      <th>Web Design for Web Developers: Build Beautiful Websites!</th>\n",
       "      <td>98867</td>\n",
       "    </tr>\n",
       "    <tr>\n",
       "      <th>Learn Javascript &amp; JQuery From Scratch</th>\n",
       "      <td>84897</td>\n",
       "    </tr>\n",
       "    <tr>\n",
       "      <th>Practical PHP: Master the Basics and Code Dynamic Websites</th>\n",
       "      <td>83737</td>\n",
       "    </tr>\n",
       "    <tr>\n",
       "      <th>JavaScript: Understanding the Weird Parts</th>\n",
       "      <td>79612</td>\n",
       "    </tr>\n",
       "  </tbody>\n",
       "</table>\n",
       "</div>"
      ],
      "text/plain": [
       "                                                    num_subscribers\n",
       "course_title                                                       \n",
       "Learn HTML5 Programming From Scratch                         268923\n",
       "Coding for Entrepreneurs Basic                               161029\n",
       "The Web Developer Bootcamp                                   121584\n",
       "Build Your First Website in 1 Week with HTML5 a...           120291\n",
       "The Complete Web Developer Course 2.0                        114512\n",
       "Free Beginner Electric Guitar Lessons                        101154\n",
       "Web Design for Web Developers: Build Beautiful ...            98867\n",
       "Learn Javascript & JQuery From Scratch                        84897\n",
       "Practical PHP: Master the Basics and Code Dynam...            83737\n",
       "JavaScript: Understanding the Weird Parts                     79612"
      ]
     },
     "execution_count": 33,
     "metadata": {},
     "output_type": "execute_result"
    }
   ],
   "source": [
    "df=data.nlargest(10,'num_subscribers')[['course_title','num_subscribers']].set_index(\"course_title\")\n",
    "df"
   ]
  },
  {
   "cell_type": "code",
   "execution_count": 34,
   "id": "70c61935",
   "metadata": {
    "execution": {
     "iopub.execute_input": "2022-05-11T12:40:20.428372Z",
     "iopub.status.busy": "2022-05-11T12:40:20.427496Z",
     "iopub.status.idle": "2022-05-11T12:40:20.700784Z",
     "shell.execute_reply": "2022-05-11T12:40:20.700023Z"
    },
    "id": "pm74luc-1dqy",
    "outputId": "d9b01e1b-473b-459f-b04a-a6deb4c5b7b6",
    "papermill": {
     "duration": 0.335599,
     "end_time": "2022-05-11T12:40:20.702968",
     "exception": false,
     "start_time": "2022-05-11T12:40:20.367369",
     "status": "completed"
    },
    "tags": []
   },
   "outputs": [
    {
     "data": {
      "image/png": "[encoded data removed]",
      "text/plain": [
       "<Figure size 1152x648 with 1 Axes>"
      ]
     },
     "metadata": {
      "needs_background": "light"
     },
     "output_type": "display_data"
    }
   ],
   "source": [
    "plt.figure(figsize=(16,9))\n",
    "sns.barplot(x=\"num_subscribers\",y=df.index,data=df,dodge=False)\n",
    "plt.show()\n"
   ]
  },
  {
   "cell_type": "code",
   "execution_count": 35,
   "id": "42f7cf50",
   "metadata": {
    "execution": {
     "iopub.execute_input": "2022-05-11T12:40:20.830121Z",
     "iopub.status.busy": "2022-05-11T12:40:20.829602Z",
     "iopub.status.idle": "2022-05-11T12:40:20.846157Z",
     "shell.execute_reply": "2022-05-11T12:40:20.845069Z"
    },
    "id": "NU8FESi85agI",
    "outputId": "6b236d36-9792-43be-da9c-93a92577fa99",
    "papermill": {
     "duration": 0.083758,
     "end_time": "2022-05-11T12:40:20.848443",
     "exception": false,
     "start_time": "2022-05-11T12:40:20.764685",
     "status": "completed"
    },
    "tags": []
   },
   "outputs": [
    {
     "data": {
      "text/html": [
       "<div>\n",
       "<style scoped>\n",
       "    .dataframe tbody tr th:only-of-type {\n",
       "        vertical-align: middle;\n",
       "    }\n",
       "\n",
       "    .dataframe tbody tr th {\n",
       "        vertical-align: top;\n",
       "    }\n",
       "\n",
       "    .dataframe thead th {\n",
       "        text-align: right;\n",
       "    }\n",
       "</style>\n",
       "<table border=\"1\" class=\"dataframe\">\n",
       "  <thead>\n",
       "    <tr style=\"text-align: right;\">\n",
       "      <th></th>\n",
       "      <th>course_id</th>\n",
       "      <th>course_title</th>\n",
       "      <th>url</th>\n",
       "      <th>is_paid</th>\n",
       "      <th>price</th>\n",
       "      <th>num_subscribers</th>\n",
       "      <th>num_reviews</th>\n",
       "      <th>num_lectures</th>\n",
       "      <th>level</th>\n",
       "      <th>content_duration</th>\n",
       "      <th>published_timestamp</th>\n",
       "      <th>subject</th>\n",
       "    </tr>\n",
       "  </thead>\n",
       "  <tbody>\n",
       "    <tr>\n",
       "      <th>2827</th>\n",
       "      <td>41295</td>\n",
       "      <td>Learn HTML5 Programming From Scratch</td>\n",
       "      <td>https://www.udemy.com/learn-html5-programming-...</td>\n",
       "      <td>False</td>\n",
       "      <td>0</td>\n",
       "      <td>268923</td>\n",
       "      <td>8629</td>\n",
       "      <td>45</td>\n",
       "      <td>All Levels</td>\n",
       "      <td>10.5</td>\n",
       "      <td>2013-02-14 07:03:41+00:00</td>\n",
       "      <td>Web Development</td>\n",
       "    </tr>\n",
       "    <tr>\n",
       "      <th>3032</th>\n",
       "      <td>59014</td>\n",
       "      <td>Coding for Entrepreneurs Basic</td>\n",
       "      <td>https://www.udemy.com/coding-for-entrepreneurs...</td>\n",
       "      <td>False</td>\n",
       "      <td>0</td>\n",
       "      <td>161029</td>\n",
       "      <td>279</td>\n",
       "      <td>27</td>\n",
       "      <td>Beginner Level</td>\n",
       "      <td>3.5</td>\n",
       "      <td>2013-06-09 15:51:55+00:00</td>\n",
       "      <td>Web Development</td>\n",
       "    </tr>\n",
       "    <tr>\n",
       "      <th>3230</th>\n",
       "      <td>625204</td>\n",
       "      <td>The Web Developer Bootcamp</td>\n",
       "      <td>https://www.udemy.com/the-web-developer-bootcamp/</td>\n",
       "      <td>True</td>\n",
       "      <td>200</td>\n",
       "      <td>121584</td>\n",
       "      <td>27445</td>\n",
       "      <td>342</td>\n",
       "      <td>All Levels</td>\n",
       "      <td>43.0</td>\n",
       "      <td>2015-11-02 21:13:27+00:00</td>\n",
       "      <td>Web Development</td>\n",
       "    </tr>\n",
       "    <tr>\n",
       "      <th>2783</th>\n",
       "      <td>173548</td>\n",
       "      <td>Build Your First Website in 1 Week with HTML5 ...</td>\n",
       "      <td>https://www.udemy.com/build-your-first-website...</td>\n",
       "      <td>False</td>\n",
       "      <td>0</td>\n",
       "      <td>120291</td>\n",
       "      <td>5924</td>\n",
       "      <td>30</td>\n",
       "      <td>Beginner Level</td>\n",
       "      <td>3.0</td>\n",
       "      <td>2014-04-08 16:21:30+00:00</td>\n",
       "      <td>Web Development</td>\n",
       "    </tr>\n",
       "    <tr>\n",
       "      <th>3232</th>\n",
       "      <td>764164</td>\n",
       "      <td>The Complete Web Developer Course 2.0</td>\n",
       "      <td>https://www.udemy.com/the-complete-web-develop...</td>\n",
       "      <td>True</td>\n",
       "      <td>200</td>\n",
       "      <td>114512</td>\n",
       "      <td>22412</td>\n",
       "      <td>304</td>\n",
       "      <td>All Levels</td>\n",
       "      <td>30.5</td>\n",
       "      <td>2016-03-08 22:28:36+00:00</td>\n",
       "      <td>Web Development</td>\n",
       "    </tr>\n",
       "  </tbody>\n",
       "</table>\n",
       "</div>"
      ],
      "text/plain": [
       "      course_id                                       course_title  \\\n",
       "2827      41295               Learn HTML5 Programming From Scratch   \n",
       "3032      59014                     Coding for Entrepreneurs Basic   \n",
       "3230     625204                         The Web Developer Bootcamp   \n",
       "2783     173548  Build Your First Website in 1 Week with HTML5 ...   \n",
       "3232     764164              The Complete Web Developer Course 2.0   \n",
       "\n",
       "                                                    url  is_paid  price  \\\n",
       "2827  https://www.udemy.com/learn-html5-programming-...    False      0   \n",
       "3032  https://www.udemy.com/coding-for-entrepreneurs...    False      0   \n",
       "3230  https://www.udemy.com/the-web-developer-bootcamp/     True    200   \n",
       "2783  https://www.udemy.com/build-your-first-website...    False      0   \n",
       "3232  https://www.udemy.com/the-complete-web-develop...     True    200   \n",
       "\n",
       "      num_subscribers  num_reviews  num_lectures           level  \\\n",
       "2827           268923         8629            45      All Levels   \n",
       "3032           161029          279            27  Beginner Level   \n",
       "3230           121584        27445           342      All Levels   \n",
       "2783           120291         5924            30  Beginner Level   \n",
       "3232           114512        22412           304      All Levels   \n",
       "\n",
       "      content_duration       published_timestamp          subject  \n",
       "2827              10.5 2013-02-14 07:03:41+00:00  Web Development  \n",
       "3032               3.5 2013-06-09 15:51:55+00:00  Web Development  \n",
       "3230              43.0 2015-11-02 21:13:27+00:00  Web Development  \n",
       "2783               3.0 2014-04-08 16:21:30+00:00  Web Development  \n",
       "3232              30.5 2016-03-08 22:28:36+00:00  Web Development  "
      ]
     },
     "execution_count": 35,
     "metadata": {},
     "output_type": "execute_result"
    }
   ],
   "source": [
    "top_10=data.sort_values(by=\"num_subscribers\",ascending=False)\n",
    "top_10.head()"
   ]
  },
  {
   "cell_type": "markdown",
   "id": "6ac24e98",
   "metadata": {
    "id": "Zqdyvlvv5p-m",
    "papermill": {
     "duration": 0.063181,
     "end_time": "2022-05-11T12:40:20.972618",
     "exception": false,
     "start_time": "2022-05-11T12:40:20.909437",
     "status": "completed"
    },
    "tags": []
   },
   "source": [
    "**15.Find the subject which is having the highest number of  reviews**"
   ]
  },
  {
   "cell_type": "code",
   "execution_count": 36,
   "id": "bc1573a1",
   "metadata": {
    "execution": {
     "iopub.execute_input": "2022-05-11T12:40:21.101447Z",
     "iopub.status.busy": "2022-05-11T12:40:21.101156Z",
     "iopub.status.idle": "2022-05-11T12:40:21.107017Z",
     "shell.execute_reply": "2022-05-11T12:40:21.106125Z"
    },
    "id": "PKCGb3wm6Hh5",
    "outputId": "6fe2f429-dcf0-407c-ad62-ab44b522b372",
    "papermill": {
     "duration": 0.073351,
     "end_time": "2022-05-11T12:40:21.109566",
     "exception": false,
     "start_time": "2022-05-11T12:40:21.036215",
     "status": "completed"
    },
    "tags": []
   },
   "outputs": [
    {
     "data": {
      "text/plain": [
       "Index(['course_id', 'course_title', 'url', 'is_paid', 'price',\n",
       "       'num_subscribers', 'num_reviews', 'num_lectures', 'level',\n",
       "       'content_duration', 'published_timestamp', 'subject'],\n",
       "      dtype='object')"
      ]
     },
     "execution_count": 36,
     "metadata": {},
     "output_type": "execute_result"
    }
   ],
   "source": [
    "data.columns"
   ]
  },
  {
   "cell_type": "code",
   "execution_count": 37,
   "id": "4a3f2d70",
   "metadata": {
    "execution": {
     "iopub.execute_input": "2022-05-11T12:40:21.233353Z",
     "iopub.status.busy": "2022-05-11T12:40:21.232792Z",
     "iopub.status.idle": "2022-05-11T12:40:21.241022Z",
     "shell.execute_reply": "2022-05-11T12:40:21.240182Z"
    },
    "id": "KM8DbzsV6Wxu",
    "outputId": "f7d6f865-06af-4d1e-9f4b-406f5292134f",
    "papermill": {
     "duration": 0.072134,
     "end_time": "2022-05-11T12:40:21.242940",
     "exception": false,
     "start_time": "2022-05-11T12:40:21.170806",
     "status": "completed"
    },
    "tags": []
   },
   "outputs": [
    {
     "data": {
      "text/plain": [
       "3230    Web Development\n",
       "Name: subject, dtype: object"
      ]
     },
     "execution_count": 37,
     "metadata": {},
     "output_type": "execute_result"
    }
   ],
   "source": [
    "data[data['num_reviews'].max()==data['num_reviews']]['subject']"
   ]
  },
  {
   "cell_type": "code",
   "execution_count": 38,
   "id": "5520eee5",
   "metadata": {
    "execution": {
     "iopub.execute_input": "2022-05-11T12:40:21.369832Z",
     "iopub.status.busy": "2022-05-11T12:40:21.369317Z",
     "iopub.status.idle": "2022-05-11T12:40:21.681130Z",
     "shell.execute_reply": "2022-05-11T12:40:21.680289Z"
    },
    "id": "MC4bT6W47ugG",
    "outputId": "8a6e898e-90e8-4cfa-bf6d-7a9feeee1db9",
    "papermill": {
     "duration": 0.377191,
     "end_time": "2022-05-11T12:40:21.683276",
     "exception": false,
     "start_time": "2022-05-11T12:40:21.306085",
     "status": "completed"
    },
    "tags": []
   },
   "outputs": [
    {
     "data": {
      "image/png": "[encoded data removed]",
      "text/plain": [
       "<Figure size 432x288 with 1 Axes>"
      ]
     },
     "metadata": {
      "needs_background": "light"
     },
     "output_type": "display_data"
    }
   ],
   "source": [
    "sns.barplot(x=\"subject\",y=\"num_reviews\",data=data)\n",
    "plt.xticks(rotation=80)\n",
    "plt.show()"
   ]
  },
  {
   "cell_type": "markdown",
   "id": "fefd17c8",
   "metadata": {
    "id": "OTgv0XBO8Q-P",
    "papermill": {
     "duration": 0.064769,
     "end_time": "2022-05-11T12:40:21.812132",
     "exception": false,
     "start_time": "2022-05-11T12:40:21.747363",
     "status": "completed"
    },
    "tags": []
   },
   "source": [
    "**16.Does Price affect number of reviews**"
   ]
  },
  {
   "cell_type": "code",
   "execution_count": 39,
   "id": "091b12ae",
   "metadata": {
    "execution": {
     "iopub.execute_input": "2022-05-11T12:40:21.939502Z",
     "iopub.status.busy": "2022-05-11T12:40:21.938983Z",
     "iopub.status.idle": "2022-05-11T12:40:21.944766Z",
     "shell.execute_reply": "2022-05-11T12:40:21.944104Z"
    },
    "id": "jyVEyYgN8fbq",
    "outputId": "7d5f068f-14ff-4a41-80d2-fef5e4359ae0",
    "papermill": {
     "duration": 0.071282,
     "end_time": "2022-05-11T12:40:21.946983",
     "exception": false,
     "start_time": "2022-05-11T12:40:21.875701",
     "status": "completed"
    },
    "tags": []
   },
   "outputs": [
    {
     "data": {
      "text/plain": [
       "Index(['course_id', 'course_title', 'url', 'is_paid', 'price',\n",
       "       'num_subscribers', 'num_reviews', 'num_lectures', 'level',\n",
       "       'content_duration', 'published_timestamp', 'subject'],\n",
       "      dtype='object')"
      ]
     },
     "execution_count": 39,
     "metadata": {},
     "output_type": "execute_result"
    }
   ],
   "source": [
    "data.columns"
   ]
  },
  {
   "cell_type": "code",
   "execution_count": 40,
   "id": "dba09a56",
   "metadata": {
    "execution": {
     "iopub.execute_input": "2022-05-11T12:40:22.075694Z",
     "iopub.status.busy": "2022-05-11T12:40:22.075379Z",
     "iopub.status.idle": "2022-05-11T12:40:22.315968Z",
     "shell.execute_reply": "2022-05-11T12:40:22.315312Z"
    },
    "id": "2NxlH9Zb70y2",
    "outputId": "b4dbc7f7-1f0e-429a-dc5e-81dfeeedf0b9",
    "papermill": {
     "duration": 0.306645,
     "end_time": "2022-05-11T12:40:22.317951",
     "exception": false,
     "start_time": "2022-05-11T12:40:22.011306",
     "status": "completed"
    },
    "tags": []
   },
   "outputs": [
    {
     "data": {
      "image/png": "[encoded data removed]",
      "text/plain": [
       "<Figure size 1152x648 with 1 Axes>"
      ]
     },
     "metadata": {
      "needs_background": "light"
     },
     "output_type": "display_data"
    }
   ],
   "source": [
    "plt.figure(figsize=(16,9))\n",
    "sns.scatterplot(x=\"price\",y=\"num_reviews\",data=data)\n",
    "plt.show()"
   ]
  },
  {
   "cell_type": "markdown",
   "id": "93c0336c",
   "metadata": {
    "id": "qXqi1f9f9FFA",
    "papermill": {
     "duration": 0.065304,
     "end_time": "2022-05-11T12:40:22.447016",
     "exception": false,
     "start_time": "2022-05-11T12:40:22.381712",
     "status": "completed"
    },
    "tags": []
   },
   "source": [
    "**17.Find the total number of courses related to python**"
   ]
  },
  {
   "cell_type": "code",
   "execution_count": 41,
   "id": "8d562e00",
   "metadata": {
    "execution": {
     "iopub.execute_input": "2022-05-11T12:40:22.582367Z",
     "iopub.status.busy": "2022-05-11T12:40:22.581736Z",
     "iopub.status.idle": "2022-05-11T12:40:22.594058Z",
     "shell.execute_reply": "2022-05-11T12:40:22.593075Z"
    },
    "id": "EGHqKPxv9OSG",
    "outputId": "bd3d56b4-552e-4091-b031-5fde6accc727",
    "papermill": {
     "duration": 0.082981,
     "end_time": "2022-05-11T12:40:22.596163",
     "exception": false,
     "start_time": "2022-05-11T12:40:22.513182",
     "status": "completed"
    },
    "tags": []
   },
   "outputs": [
    {
     "data": {
      "text/plain": [
       "29"
      ]
     },
     "execution_count": 41,
     "metadata": {},
     "output_type": "execute_result"
    }
   ],
   "source": [
    "len(data[data['course_title'].str.contains('python',case=False)])"
   ]
  },
  {
   "cell_type": "markdown",
   "id": "1fe97fc6",
   "metadata": {
    "id": "ZGpRLvn9-FJ9",
    "papermill": {
     "duration": 0.064851,
     "end_time": "2022-05-11T12:40:22.726069",
     "exception": false,
     "start_time": "2022-05-11T12:40:22.661218",
     "status": "completed"
    },
    "tags": []
   },
   "source": [
    "**18.Display 10 most popular puthon courses as per number of subscribers**"
   ]
  },
  {
   "cell_type": "code",
   "execution_count": 42,
   "id": "cd06e3be",
   "metadata": {
    "execution": {
     "iopub.execute_input": "2022-05-11T12:40:22.860742Z",
     "iopub.status.busy": "2022-05-11T12:40:22.859997Z",
     "iopub.status.idle": "2022-05-11T12:40:22.887482Z",
     "shell.execute_reply": "2022-05-11T12:40:22.886219Z"
    },
    "id": "3Q8pq9UJ-NC7",
    "outputId": "26a2755d-c39b-443b-b21b-1089c5217db0",
    "papermill": {
     "duration": 0.097397,
     "end_time": "2022-05-11T12:40:22.890051",
     "exception": false,
     "start_time": "2022-05-11T12:40:22.792654",
     "status": "completed"
    },
    "tags": []
   },
   "outputs": [
    {
     "data": {
      "text/html": [
       "<div>\n",
       "<style scoped>\n",
       "    .dataframe tbody tr th:only-of-type {\n",
       "        vertical-align: middle;\n",
       "    }\n",
       "\n",
       "    .dataframe tbody tr th {\n",
       "        vertical-align: top;\n",
       "    }\n",
       "\n",
       "    .dataframe thead th {\n",
       "        text-align: right;\n",
       "    }\n",
       "</style>\n",
       "<table border=\"1\" class=\"dataframe\">\n",
       "  <thead>\n",
       "    <tr style=\"text-align: right;\">\n",
       "      <th></th>\n",
       "      <th>course_id</th>\n",
       "      <th>course_title</th>\n",
       "      <th>url</th>\n",
       "      <th>is_paid</th>\n",
       "      <th>price</th>\n",
       "      <th>num_subscribers</th>\n",
       "      <th>num_reviews</th>\n",
       "      <th>num_lectures</th>\n",
       "      <th>level</th>\n",
       "      <th>content_duration</th>\n",
       "      <th>published_timestamp</th>\n",
       "      <th>subject</th>\n",
       "    </tr>\n",
       "  </thead>\n",
       "  <tbody>\n",
       "    <tr>\n",
       "      <th>2497</th>\n",
       "      <td>16646</td>\n",
       "      <td>Web Programming with Python</td>\n",
       "      <td>https://www.udemy.com/web-programming-with-pyt...</td>\n",
       "      <td>True</td>\n",
       "      <td>50</td>\n",
       "      <td>35267</td>\n",
       "      <td>217</td>\n",
       "      <td>53</td>\n",
       "      <td>All Levels</td>\n",
       "      <td>4.0</td>\n",
       "      <td>2012-04-25 00:01:43+00:00</td>\n",
       "      <td>Web Development</td>\n",
       "    </tr>\n",
       "    <tr>\n",
       "      <th>2570</th>\n",
       "      <td>47963</td>\n",
       "      <td>Coding for Entrepreneurs: Learn Python, Django...</td>\n",
       "      <td>https://www.udemy.com/coding-for-entrepreneurs/</td>\n",
       "      <td>True</td>\n",
       "      <td>195</td>\n",
       "      <td>23412</td>\n",
       "      <td>799</td>\n",
       "      <td>251</td>\n",
       "      <td>All Levels</td>\n",
       "      <td>45.0</td>\n",
       "      <td>2013-04-08 00:46:14+00:00</td>\n",
       "      <td>Web Development</td>\n",
       "    </tr>\n",
       "    <tr>\n",
       "      <th>2528</th>\n",
       "      <td>391546</td>\n",
       "      <td>Learn Python and Django: Payment Processing</td>\n",
       "      <td>https://www.udemy.com/learn-django-code-accept...</td>\n",
       "      <td>True</td>\n",
       "      <td>70</td>\n",
       "      <td>17714</td>\n",
       "      <td>198</td>\n",
       "      <td>23</td>\n",
       "      <td>All Levels</td>\n",
       "      <td>3.5</td>\n",
       "      <td>2015-02-09 15:37:56+00:00</td>\n",
       "      <td>Web Development</td>\n",
       "    </tr>\n",
       "    <tr>\n",
       "      <th>3200</th>\n",
       "      <td>822444</td>\n",
       "      <td>Python and Django Full Stack Web Developer Boo...</td>\n",
       "      <td>https://www.udemy.com/python-and-django-full-s...</td>\n",
       "      <td>True</td>\n",
       "      <td>200</td>\n",
       "      <td>11832</td>\n",
       "      <td>1883</td>\n",
       "      <td>191</td>\n",
       "      <td>All Levels</td>\n",
       "      <td>31.5</td>\n",
       "      <td>2017-02-24 18:40:55+00:00</td>\n",
       "      <td>Web Development</td>\n",
       "    </tr>\n",
       "    <tr>\n",
       "      <th>3507</th>\n",
       "      <td>394832</td>\n",
       "      <td>Fun and creative web engineering with Python a...</td>\n",
       "      <td>https://www.udemy.com/web-engineering-with-pyt...</td>\n",
       "      <td>False</td>\n",
       "      <td>0</td>\n",
       "      <td>10917</td>\n",
       "      <td>319</td>\n",
       "      <td>25</td>\n",
       "      <td>All Levels</td>\n",
       "      <td>2.0</td>\n",
       "      <td>2015-06-09 19:51:50+00:00</td>\n",
       "      <td>Web Development</td>\n",
       "    </tr>\n",
       "    <tr>\n",
       "      <th>2553</th>\n",
       "      <td>938560</td>\n",
       "      <td>The Complete Ethical Hacking Course 2.0: Pytho...</td>\n",
       "      <td>https://www.udemy.com/penetration-testing-ethi...</td>\n",
       "      <td>True</td>\n",
       "      <td>195</td>\n",
       "      <td>7827</td>\n",
       "      <td>268</td>\n",
       "      <td>66</td>\n",
       "      <td>All Levels</td>\n",
       "      <td>11.0</td>\n",
       "      <td>2016-09-26 15:08:29+00:00</td>\n",
       "      <td>Web Development</td>\n",
       "    </tr>\n",
       "    <tr>\n",
       "      <th>3138</th>\n",
       "      <td>631128</td>\n",
       "      <td>Complete Python Web Course: Build 8 Python Web...</td>\n",
       "      <td>https://www.udemy.com/the-complete-python-web-...</td>\n",
       "      <td>True</td>\n",
       "      <td>110</td>\n",
       "      <td>7489</td>\n",
       "      <td>941</td>\n",
       "      <td>173</td>\n",
       "      <td>All Levels</td>\n",
       "      <td>16.0</td>\n",
       "      <td>2015-11-08 20:57:35+00:00</td>\n",
       "      <td>Web Development</td>\n",
       "    </tr>\n",
       "    <tr>\n",
       "      <th>3197</th>\n",
       "      <td>76052</td>\n",
       "      <td>Try Django 1.9 | Build a Blog and Learn Python...</td>\n",
       "      <td>https://www.udemy.com/try-django/</td>\n",
       "      <td>True</td>\n",
       "      <td>50</td>\n",
       "      <td>7407</td>\n",
       "      <td>172</td>\n",
       "      <td>147</td>\n",
       "      <td>All Levels</td>\n",
       "      <td>20.0</td>\n",
       "      <td>2014-03-04 07:12:21+00:00</td>\n",
       "      <td>Web Development</td>\n",
       "    </tr>\n",
       "    <tr>\n",
       "      <th>2681</th>\n",
       "      <td>477702</td>\n",
       "      <td>Python for Beginners: Python Programming Langu...</td>\n",
       "      <td>https://www.udemy.com/python-course/</td>\n",
       "      <td>True</td>\n",
       "      <td>150</td>\n",
       "      <td>6153</td>\n",
       "      <td>125</td>\n",
       "      <td>84</td>\n",
       "      <td>Beginner Level</td>\n",
       "      <td>5.0</td>\n",
       "      <td>2015-06-14 18:18:57+00:00</td>\n",
       "      <td>Web Development</td>\n",
       "    </tr>\n",
       "    <tr>\n",
       "      <th>3203</th>\n",
       "      <td>970600</td>\n",
       "      <td>REST APIs with Flask and Python</td>\n",
       "      <td>https://www.udemy.com/rest-api-flask-and-python/</td>\n",
       "      <td>True</td>\n",
       "      <td>110</td>\n",
       "      <td>5151</td>\n",
       "      <td>737</td>\n",
       "      <td>115</td>\n",
       "      <td>Intermediate Level</td>\n",
       "      <td>12.5</td>\n",
       "      <td>2016-11-06 19:00:38+00:00</td>\n",
       "      <td>Web Development</td>\n",
       "    </tr>\n",
       "  </tbody>\n",
       "</table>\n",
       "</div>"
      ],
      "text/plain": [
       "      course_id                                       course_title  \\\n",
       "2497      16646                        Web Programming with Python   \n",
       "2570      47963  Coding for Entrepreneurs: Learn Python, Django...   \n",
       "2528     391546        Learn Python and Django: Payment Processing   \n",
       "3200     822444  Python and Django Full Stack Web Developer Boo...   \n",
       "3507     394832  Fun and creative web engineering with Python a...   \n",
       "2553     938560  The Complete Ethical Hacking Course 2.0: Pytho...   \n",
       "3138     631128  Complete Python Web Course: Build 8 Python Web...   \n",
       "3197      76052  Try Django 1.9 | Build a Blog and Learn Python...   \n",
       "2681     477702  Python for Beginners: Python Programming Langu...   \n",
       "3203     970600                    REST APIs with Flask and Python   \n",
       "\n",
       "                                                    url  is_paid  price  \\\n",
       "2497  https://www.udemy.com/web-programming-with-pyt...     True     50   \n",
       "2570    https://www.udemy.com/coding-for-entrepreneurs/     True    195   \n",
       "2528  https://www.udemy.com/learn-django-code-accept...     True     70   \n",
       "3200  https://www.udemy.com/python-and-django-full-s...     True    200   \n",
       "3507  https://www.udemy.com/web-engineering-with-pyt...    False      0   \n",
       "2553  https://www.udemy.com/penetration-testing-ethi...     True    195   \n",
       "3138  https://www.udemy.com/the-complete-python-web-...     True    110   \n",
       "3197                  https://www.udemy.com/try-django/     True     50   \n",
       "2681               https://www.udemy.com/python-course/     True    150   \n",
       "3203   https://www.udemy.com/rest-api-flask-and-python/     True    110   \n",
       "\n",
       "      num_subscribers  num_reviews  num_lectures               level  \\\n",
       "2497            35267          217            53          All Levels   \n",
       "2570            23412          799           251          All Levels   \n",
       "2528            17714          198            23          All Levels   \n",
       "3200            11832         1883           191          All Levels   \n",
       "3507            10917          319            25          All Levels   \n",
       "2553             7827          268            66          All Levels   \n",
       "3138             7489          941           173          All Levels   \n",
       "3197             7407          172           147          All Levels   \n",
       "2681             6153          125            84      Beginner Level   \n",
       "3203             5151          737           115  Intermediate Level   \n",
       "\n",
       "      content_duration       published_timestamp          subject  \n",
       "2497               4.0 2012-04-25 00:01:43+00:00  Web Development  \n",
       "2570              45.0 2013-04-08 00:46:14+00:00  Web Development  \n",
       "2528               3.5 2015-02-09 15:37:56+00:00  Web Development  \n",
       "3200              31.5 2017-02-24 18:40:55+00:00  Web Development  \n",
       "3507               2.0 2015-06-09 19:51:50+00:00  Web Development  \n",
       "2553              11.0 2016-09-26 15:08:29+00:00  Web Development  \n",
       "3138              16.0 2015-11-08 20:57:35+00:00  Web Development  \n",
       "3197              20.0 2014-03-04 07:12:21+00:00  Web Development  \n",
       "2681               5.0 2015-06-14 18:18:57+00:00  Web Development  \n",
       "3203              12.5 2016-11-06 19:00:38+00:00  Web Development  "
      ]
     },
     "execution_count": 42,
     "metadata": {},
     "output_type": "execute_result"
    }
   ],
   "source": [
    "python=data[data['course_title'].str.contains('python',case=False)].sort_values(by=\"num_subscribers\",ascending=False).head(10)\n",
    "python"
   ]
  },
  {
   "cell_type": "code",
   "execution_count": 43,
   "id": "3b1de717",
   "metadata": {
    "execution": {
     "iopub.execute_input": "2022-05-11T12:40:23.050293Z",
     "iopub.status.busy": "2022-05-11T12:40:23.050003Z",
     "iopub.status.idle": "2022-05-11T12:40:23.434869Z",
     "shell.execute_reply": "2022-05-11T12:40:23.433954Z"
    },
    "id": "N6t3dSpO-utc",
    "outputId": "87ec5e30-2d5f-4187-d761-638f7c01b17b",
    "papermill": {
     "duration": 0.462738,
     "end_time": "2022-05-11T12:40:23.437157",
     "exception": false,
     "start_time": "2022-05-11T12:40:22.974419",
     "status": "completed"
    },
    "tags": []
   },
   "outputs": [
    {
     "data": {
      "image/png": "[encoded data removed]",
      "text/plain": [
       "<Figure size 432x288 with 1 Axes>"
      ]
     },
     "metadata": {
      "needs_background": "light"
     },
     "output_type": "display_data"
    }
   ],
   "source": [
    "sns.barplot(x=\"num_subscribers\",y=\"course_title\",data=python)\n",
    "plt.show()"
   ]
  },
  {
   "cell_type": "markdown",
   "id": "13cbf97d",
   "metadata": {
    "id": "x7BntObC-6kO",
    "papermill": {
     "duration": 0.066159,
     "end_time": "2022-05-11T12:40:23.570182",
     "exception": false,
     "start_time": "2022-05-11T12:40:23.504023",
     "status": "completed"
    },
    "tags": []
   },
   "source": [
    "**19.In which year The highest Number of Courses Were Posted**"
   ]
  },
  {
   "cell_type": "code",
   "execution_count": 44,
   "id": "5081b790",
   "metadata": {
    "execution": {
     "iopub.execute_input": "2022-05-11T12:40:23.703882Z",
     "iopub.status.busy": "2022-05-11T12:40:23.703621Z",
     "iopub.status.idle": "2022-05-11T12:40:23.720680Z",
     "shell.execute_reply": "2022-05-11T12:40:23.719455Z"
    },
    "id": "ZPE-UkPZ_Pab",
    "outputId": "95202a1d-c949-4eb2-cf9f-aee713774fb2",
    "papermill": {
     "duration": 0.086372,
     "end_time": "2022-05-11T12:40:23.723027",
     "exception": false,
     "start_time": "2022-05-11T12:40:23.636655",
     "status": "completed"
    },
    "tags": []
   },
   "outputs": [
    {
     "name": "stderr",
     "output_type": "stream",
     "text": [
      "/opt/conda/lib/python3.7/site-packages/ipykernel_launcher.py:1: SettingWithCopyWarning: \n",
      "A value is trying to be set on a copy of a slice from a DataFrame.\n",
      "Try using .loc[row_indexer,col_indexer] = value instead\n",
      "\n",
      "See the caveats in the documentation: https://pandas.pydata.org/pandas-docs/stable/user_guide/indexing.html#returning-a-view-versus-a-copy\n",
      "  \"\"\"Entry point for launching an IPython kernel.\n"
     ]
    },
    {
     "data": {
      "text/html": [
       "<div>\n",
       "<style scoped>\n",
       "    .dataframe tbody tr th:only-of-type {\n",
       "        vertical-align: middle;\n",
       "    }\n",
       "\n",
       "    .dataframe tbody tr th {\n",
       "        vertical-align: top;\n",
       "    }\n",
       "\n",
       "    .dataframe thead th {\n",
       "        text-align: right;\n",
       "    }\n",
       "</style>\n",
       "<table border=\"1\" class=\"dataframe\">\n",
       "  <thead>\n",
       "    <tr style=\"text-align: right;\">\n",
       "      <th></th>\n",
       "      <th>course_id</th>\n",
       "      <th>course_title</th>\n",
       "      <th>url</th>\n",
       "      <th>is_paid</th>\n",
       "      <th>price</th>\n",
       "      <th>num_subscribers</th>\n",
       "      <th>num_reviews</th>\n",
       "      <th>num_lectures</th>\n",
       "      <th>level</th>\n",
       "      <th>content_duration</th>\n",
       "      <th>published_timestamp</th>\n",
       "      <th>subject</th>\n",
       "      <th>year</th>\n",
       "    </tr>\n",
       "  </thead>\n",
       "  <tbody>\n",
       "    <tr>\n",
       "      <th>0</th>\n",
       "      <td>1070968</td>\n",
       "      <td>Ultimate Investment Banking Course</td>\n",
       "      <td>https://www.udemy.com/ultimate-investment-bank...</td>\n",
       "      <td>True</td>\n",
       "      <td>200</td>\n",
       "      <td>2147</td>\n",
       "      <td>23</td>\n",
       "      <td>51</td>\n",
       "      <td>All Levels</td>\n",
       "      <td>1.5</td>\n",
       "      <td>2017-01-18 20:58:58+00:00</td>\n",
       "      <td>Business Finance</td>\n",
       "      <td>2017</td>\n",
       "    </tr>\n",
       "  </tbody>\n",
       "</table>\n",
       "</div>"
      ],
      "text/plain": [
       "   course_id                        course_title  \\\n",
       "0    1070968  Ultimate Investment Banking Course   \n",
       "\n",
       "                                                 url  is_paid  price  \\\n",
       "0  https://www.udemy.com/ultimate-investment-bank...     True    200   \n",
       "\n",
       "   num_subscribers  num_reviews  num_lectures       level  content_duration  \\\n",
       "0             2147           23            51  All Levels               1.5   \n",
       "\n",
       "        published_timestamp           subject  year  \n",
       "0 2017-01-18 20:58:58+00:00  Business Finance  2017  "
      ]
     },
     "execution_count": 44,
     "metadata": {},
     "output_type": "execute_result"
    }
   ],
   "source": [
    "data['year']=data['published_timestamp'].dt.year\n",
    "data.head(1)"
   ]
  },
  {
   "cell_type": "code",
   "execution_count": 45,
   "id": "baf32813",
   "metadata": {
    "execution": {
     "iopub.execute_input": "2022-05-11T12:40:23.859861Z",
     "iopub.status.busy": "2022-05-11T12:40:23.859538Z",
     "iopub.status.idle": "2022-05-11T12:40:24.042445Z",
     "shell.execute_reply": "2022-05-11T12:40:24.041522Z"
    },
    "id": "vt3565tZAG04",
    "outputId": "11865da5-5bff-426a-d1f3-8f2b0d7277e0",
    "papermill": {
     "duration": 0.253965,
     "end_time": "2022-05-11T12:40:24.044946",
     "exception": false,
     "start_time": "2022-05-11T12:40:23.790981",
     "status": "completed"
    },
    "tags": []
   },
   "outputs": [
    {
     "name": "stderr",
     "output_type": "stream",
     "text": [
      "/opt/conda/lib/python3.7/site-packages/seaborn/_decorators.py:43: FutureWarning: Pass the following variable as a keyword arg: x. From version 0.12, the only valid positional argument will be `data`, and passing other arguments without an explicit keyword will result in an error or misinterpretation.\n",
      "  FutureWarning\n"
     ]
    },
    {
     "data": {
      "image/png": "[encoded data removed]",
      "text/plain": [
       "<Figure size 432x288 with 1 Axes>"
      ]
     },
     "metadata": {
      "needs_background": "light"
     },
     "output_type": "display_data"
    }
   ],
   "source": [
    "sns.countplot('year',data=data)\n",
    "plt.show()"
   ]
  },
  {
   "cell_type": "markdown",
   "id": "ea1989fb",
   "metadata": {
    "id": "45twQ1sJAR-E",
    "papermill": {
     "duration": 0.066893,
     "end_time": "2022-05-11T12:40:24.180070",
     "exception": false,
     "start_time": "2022-05-11T12:40:24.113177",
     "status": "completed"
    },
    "tags": []
   },
   "source": [
    "**20.Display category wise count of posted subjects(year wise**"
   ]
  },
  {
   "cell_type": "code",
   "execution_count": 46,
   "id": "cf56049c",
   "metadata": {
    "execution": {
     "iopub.execute_input": "2022-05-11T12:40:24.315557Z",
     "iopub.status.busy": "2022-05-11T12:40:24.315008Z",
     "iopub.status.idle": "2022-05-11T12:40:24.323723Z",
     "shell.execute_reply": "2022-05-11T12:40:24.323055Z"
    },
    "id": "pmoV7XTeAZj9",
    "outputId": "5f349dcb-910e-404b-f2f0-a9ca855151fb",
    "papermill": {
     "duration": 0.078845,
     "end_time": "2022-05-11T12:40:24.325605",
     "exception": false,
     "start_time": "2022-05-11T12:40:24.246760",
     "status": "completed"
    },
    "tags": []
   },
   "outputs": [
    {
     "data": {
      "text/plain": [
       "year  subject            \n",
       "2011  Web Development          5\n",
       "2012  Web Development         19\n",
       "      Graphic Design          10\n",
       "      Musical Instruments     10\n",
       "      Business Finance         6\n",
       "2013  Business Finance        84\n",
       "      Web Development         55\n",
       "      Musical Instruments     39\n",
       "      Graphic Design          23\n",
       "2014  Business Finance       192\n",
       "      Musical Instruments    120\n",
       "      Web Development        113\n",
       "      Graphic Design          65\n",
       "2015  Business Finance       339\n",
       "      Web Development        336\n",
       "      Musical Instruments    171\n",
       "      Graphic Design         168\n",
       "2016  Web Development        448\n",
       "      Business Finance       347\n",
       "      Musical Instruments    228\n",
       "      Graphic Design         181\n",
       "2017  Business Finance       223\n",
       "      Web Development        223\n",
       "      Graphic Design         155\n",
       "      Musical Instruments    112\n",
       "Name: subject, dtype: int64"
      ]
     },
     "execution_count": 46,
     "metadata": {},
     "output_type": "execute_result"
    }
   ],
   "source": [
    "data.groupby(\"year\")['subject'].value_counts()"
   ]
  },
  {
   "cell_type": "code",
   "execution_count": 47,
   "id": "6a0556c0",
   "metadata": {
    "execution": {
     "iopub.execute_input": "2022-05-11T12:40:24.466239Z",
     "iopub.status.busy": "2022-05-11T12:40:24.465636Z",
     "iopub.status.idle": "2022-05-11T12:40:24.668501Z",
     "shell.execute_reply": "2022-05-11T12:40:24.667583Z"
    },
    "id": "fDNsZPlTA0Kc",
    "outputId": "26efd270-5204-4259-cbe8-5945620e065a",
    "papermill": {
     "duration": 0.274276,
     "end_time": "2022-05-11T12:40:24.670540",
     "exception": false,
     "start_time": "2022-05-11T12:40:24.396264",
     "status": "completed"
    },
    "tags": []
   },
   "outputs": [
    {
     "name": "stderr",
     "output_type": "stream",
     "text": [
      "/opt/conda/lib/python3.7/site-packages/seaborn/_decorators.py:43: FutureWarning: Pass the following variable as a keyword arg: x. From version 0.12, the only valid positional argument will be `data`, and passing other arguments without an explicit keyword will result in an error or misinterpretation.\n",
      "  FutureWarning\n"
     ]
    },
    {
     "data": {
      "text/plain": [
       "<AxesSubplot:xlabel='year', ylabel='count'>"
      ]
     },
     "execution_count": 47,
     "metadata": {},
     "output_type": "execute_result"
    },
    {
     "data": {
      "image/png": "[encoded data removed]",
      "text/plain": [
       "<Figure size 432x288 with 1 Axes>"
      ]
     },
     "metadata": {
      "needs_background": "light"
     },
     "output_type": "display_data"
    }
   ],
   "source": [
    "sns.countplot('year',data=data)\n"
   ]
  }
 ],
 "metadata": {
  "kernelspec": {
   "display_name": "Python 3",
   "language": "python",
   "name": "python3"
  },
  "language_info": {
   "codemirror_mode": {
    "name": "ipython",
    "version": 3
   },
   "file_extension": ".py",
   "mimetype": "text/x-python",
   "name": "python",
   "nbconvert_exporter": "python",
   "pygments_lexer": "ipython3",
   "version": "3.7.12"
  },
  "papermill": {
   "default_parameters": {},
   "duration": 23.424709,
   "end_time": "2022-05-11T12:40:25.463191",
   "environment_variables": {},
   "exception": null,
   "input_path": "__notebook__.ipynb",
   "output_path": "__notebook__.ipynb",
   "parameters": {},
   "start_time": "2022-05-11T12:40:02.038482",
   "version": "2.3.4"
  }
 },
 "nbformat": 4,
 "nbformat_minor": 5
}
